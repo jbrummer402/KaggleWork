{
 "cells": [
  {
   "cell_type": "markdown",
   "metadata": {},
   "source": [
    "# JPX Tokyo Stock Exchange Prediction"
   ]
  },
  {
   "cell_type": "markdown",
   "metadata": {},
   "source": [
    "## Competition\n",
    "\n",
    "### Introduction\n",
    "This competition is meant to define a model to find make accurate predictionas for the Japanese Stock Trade."
   ]
  },
  {
   "cell_type": "markdown",
   "metadata": {},
   "source": [
    "**stock_prices.csv** The core file of interest. Includes the daily closing price for each stock and the target column.\n",
    "\n",
    "**options.csv** Data on the status of a variety of options based on the broader market. Many options include implicit predictions of the future price of the stock market and so may be of interest even though the options are not scored directly.\n",
    "\n",
    "**secondary_stock_prices.csv** The core dataset contains on the 2,000 most commonly traded equities but many less liquid securities are also traded on the Tokyo market. This file contains data for those securities, which aren't scored but may be of interest for assessing the market as a whole.\n",
    "\n",
    "**trades.csv** Aggregated summary of trading volumes from the previous business week.\n",
    "\n",
    "**financials.csv** Results from quarterly earnings reports.\n",
    "\n",
    "**stock_list.csv** - Mapping between the SecuritiesCode and company names, plus general information about which industry the company is in."
   ]
  },
  {
   "cell_type": "markdown",
   "metadata": {},
   "source": [
    "## Data Preparation Stage"
   ]
  },
  {
   "cell_type": "markdown",
   "metadata": {},
   "source": []
  }
 ],
 "metadata": {
  "language_info": {
   "name": "python"
  },
  "orig_nbformat": 4
 },
 "nbformat": 4,
 "nbformat_minor": 2
}
