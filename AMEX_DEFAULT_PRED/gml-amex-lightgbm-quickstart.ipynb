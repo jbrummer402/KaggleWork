{
 "cells": [
  {
   "cell_type": "markdown",
   "id": "316e2f46",
   "metadata": {
    "_cell_guid": "b1076dfc-b9ad-4769-8c92-a6c4dae69d19",
    "_uuid": "8f2839f25d086af736a60e9eeb907d3b93b6e0e5",
    "papermill": {
     "duration": 0.009454,
     "end_time": "2022-07-20T14:39:15.170257",
     "exception": false,
     "start_time": "2022-07-20T14:39:15.160803",
     "status": "completed"
    },
    "tags": []
   },
   "source": [
    "# LightGBM Quickstart for the *American Express - Default Prediction* competition\n",
    "\n",
    "This notebook shows how to apply LightGBM to the competition data, and it introduces a space-efficient way of feature engineering.\n",
    "\n",
    "It is based on the [EDA which makes sense ⭐️⭐️⭐️⭐️⭐️](https://www.kaggle.com/code/ambrosm/amex-eda-which-makes-sense)."
   ]
  },
  {
   "cell_type": "code",
   "execution_count": 1,
   "id": "f6efc122",
   "metadata": {
    "_kg_hide-input": false,
    "execution": {
     "iopub.execute_input": "2022-07-20T14:39:15.185151Z",
     "iopub.status.busy": "2022-07-20T14:39:15.183739Z",
     "iopub.status.idle": "2022-07-20T14:39:17.588516Z",
     "shell.execute_reply": "2022-07-20T14:39:17.587581Z"
    },
    "papermill": {
     "duration": 2.41466,
     "end_time": "2022-07-20T14:39:17.591049",
     "exception": false,
     "start_time": "2022-07-20T14:39:15.176389",
     "status": "completed"
    },
    "tags": []
   },
   "outputs": [
    {
     "data": {
      "text/html": [
       "<style type='text/css'>\n",
       ".datatable table.frame { margin-bottom: 0; }\n",
       ".datatable table.frame thead { border-bottom: none; }\n",
       ".datatable table.frame tr.coltypes td {  color: #FFFFFF;  line-height: 6px;  padding: 0 0.5em;}\n",
       ".datatable .bool    { background: #DDDD99; }\n",
       ".datatable .object  { background: #565656; }\n",
       ".datatable .int     { background: #5D9E5D; }\n",
       ".datatable .float   { background: #4040CC; }\n",
       ".datatable .str     { background: #CC4040; }\n",
       ".datatable .time    { background: #40CC40; }\n",
       ".datatable .row_index {  background: var(--jp-border-color3);  border-right: 1px solid var(--jp-border-color0);  color: var(--jp-ui-font-color3);  font-size: 9px;}\n",
       ".datatable .frame tbody td { text-align: left; }\n",
       ".datatable .frame tr.coltypes .row_index {  background: var(--jp-border-color0);}\n",
       ".datatable th:nth-child(2) { padding-left: 12px; }\n",
       ".datatable .hellipsis {  color: var(--jp-cell-editor-border-color);}\n",
       ".datatable .vellipsis {  background: var(--jp-layout-color0);  color: var(--jp-cell-editor-border-color);}\n",
       ".datatable .na {  color: var(--jp-cell-editor-border-color);  font-size: 80%;}\n",
       ".datatable .sp {  opacity: 0.25;}\n",
       ".datatable .footer { font-size: 9px; }\n",
       ".datatable .frame_dimensions {  background: var(--jp-border-color3);  border-top: 1px solid var(--jp-border-color0);  color: var(--jp-ui-font-color3);  display: inline-block;  opacity: 0.6;  padding: 1px 10px 1px 5px;}\n",
       "</style>\n"
      ],
      "text/plain": [
       "<IPython.core.display.HTML object>"
      ]
     },
     "metadata": {},
     "output_type": "display_data"
    }
   ],
   "source": [
    "import numpy as np\n",
    "import pandas as pd\n",
    "import matplotlib.pyplot as plt\n",
    "from matplotlib.ticker import MaxNLocator\n",
    "from matplotlib.colors import ListedColormap\n",
    "from cycler import cycler\n",
    "from IPython.display import display\n",
    "import datetime\n",
    "import scipy.stats\n",
    "import warnings\n",
    "from colorama import Fore, Back, Style\n",
    "import gc\n",
    "\n",
    "from sklearn.model_selection import StratifiedKFold\n",
    "from sklearn.calibration import CalibrationDisplay\n",
    "from lightgbm import LGBMClassifier, log_evaluation\n",
    "\n",
    "plt.rcParams['axes.facecolor'] = '#0057b8' # blue\n",
    "plt.rcParams['axes.prop_cycle'] = cycler(color=['#ffd700'] +\n",
    "                                         plt.rcParams['axes.prop_cycle'].by_key()['color'][1:])\n",
    "plt.rcParams['text.color'] = 'w'\n",
    "\n",
    "INFERENCE = True # set to False if you only want to cross-validate\n",
    "\n",
    "ONLY_FIRST_FOLD = True   ### WAS False\n"
   ]
  },
  {
   "cell_type": "code",
   "execution_count": 2,
   "id": "4d544a1e",
   "metadata": {
    "_kg_hide-input": false,
    "execution": {
     "iopub.execute_input": "2022-07-20T14:39:17.607740Z",
     "iopub.status.busy": "2022-07-20T14:39:17.606644Z",
     "iopub.status.idle": "2022-07-20T14:39:17.617323Z",
     "shell.execute_reply": "2022-07-20T14:39:17.616577Z"
    },
    "papermill": {
     "duration": 0.020704,
     "end_time": "2022-07-20T14:39:17.619730",
     "exception": false,
     "start_time": "2022-07-20T14:39:17.599026",
     "status": "completed"
    },
    "tags": []
   },
   "outputs": [],
   "source": [
    "# @yunchonggan's fast metric implementation\n",
    "# From https://www.kaggle.com/competitions/amex-default-prediction/discussion/328020\n",
    "def amex_metric(y_true: np.array, y_pred: np.array) -> float:\n",
    "\n",
    "    # count of positives and negatives\n",
    "    n_pos = y_true.sum()\n",
    "    n_neg = y_true.shape[0] - n_pos\n",
    "\n",
    "    # sorting by descring prediction values\n",
    "    indices = np.argsort(y_pred)[::-1]\n",
    "    preds, target = y_pred[indices], y_true[indices]\n",
    "\n",
    "    # filter the top 4% by cumulative row weights\n",
    "    weight = 20.0 - target * 19.0\n",
    "    cum_norm_weight = (weight / weight.sum()).cumsum()\n",
    "    four_pct_filter = cum_norm_weight <= 0.04\n",
    "\n",
    "    # default rate captured at 4%\n",
    "    d = target[four_pct_filter].sum() / n_pos\n",
    "\n",
    "    # weighted gini coefficient\n",
    "    lorentz = (target / n_pos).cumsum()\n",
    "    gini = ((lorentz - cum_norm_weight) * weight).sum()\n",
    "\n",
    "    # max weighted gini coefficient\n",
    "    gini_max = 10 * n_neg * (1 - 19 / (n_pos + 20 * n_neg))\n",
    "\n",
    "    # normalized weighted gini coefficient\n",
    "    g = gini / gini_max\n",
    "\n",
    "    return 0.5 * (g + d)\n",
    "\n",
    "def lgb_amex_metric(y_true, y_pred):\n",
    "    \"\"\"The competition metric with lightgbm's calling convention\"\"\"\n",
    "    return ('amex',\n",
    "            amex_metric(y_true, y_pred),\n",
    "            True)"
   ]
  },
  {
   "cell_type": "markdown",
   "id": "77c20375",
   "metadata": {
    "papermill": {
     "duration": 0.006565,
     "end_time": "2022-07-20T14:39:17.632659",
     "exception": false,
     "start_time": "2022-07-20T14:39:17.626094",
     "status": "completed"
    },
    "tags": []
   },
   "source": [
    "# Reading and preprocessing the data\n",
    "\n",
    "We read the data from @raddar's [dataset](https://www.kaggle.com/datasets/raddar/amex-data-integer-dtypes-parquet-format). @raddar has [denoised the data](https://www.kaggle.com/competitions/amex-default-prediction/discussion/328514) so that we can achieve better results with his dataset than with the original competition csv files.\n",
    "\n",
    "Then we create three groups of features:\n",
    "- Selected features averaged over all statements of a customer\n",
    "- The minimum or maximum of selected features over all statements of a customer\n",
    "- Selected features taken from the last statement of a customer\n",
    "\n",
    "The code has been optimized for memory efficiency rather than readability. In particular, `.iloc[mask_array, columns]` needs much less RAM than the groupby construction used in a previous version of the notebook.\n",
    "\n",
    "Preprocessing for LightGBM is much simpler than for neural networks:\n",
    "1. Neural networks can't process missing values; LightGBM handles them automatically.\n",
    "1. Categorical features need to be one-hot encoded for neural networks; LightGBM handles them automatically.\n",
    "1. With neural networks, you need to think about outliers; tree-based algorithms deal with outliers easily.\n",
    "1. Neural networks need scaled inputs; tree-based algorithms don't depend on scaling."
   ]
  },
  {
   "cell_type": "code",
   "execution_count": 3,
   "id": "47fbe98d",
   "metadata": {
    "execution": {
     "iopub.execute_input": "2022-07-20T14:39:17.648082Z",
     "iopub.status.busy": "2022-07-20T14:39:17.646818Z",
     "iopub.status.idle": "2022-07-20T14:39:33.939526Z",
     "shell.execute_reply": "2022-07-20T14:39:33.938237Z"
    },
    "papermill": {
     "duration": 16.302776,
     "end_time": "2022-07-20T14:39:33.941840",
     "exception": false,
     "start_time": "2022-07-20T14:39:17.639064",
     "status": "completed"
    },
    "tags": []
   },
   "outputs": [
    {
     "name": "stdout",
     "output_type": "stream",
     "text": [
      "188\n",
      "Index(['P_2', 'D_39', 'B_1', 'B_2', 'R_1', 'S_3', 'D_41', 'B_3', 'D_42',\n",
      "       'D_43',\n",
      "       ...\n",
      "       'D_136', 'D_137', 'D_138', 'D_139', 'D_140', 'D_141', 'D_142', 'D_143',\n",
      "       'D_144', 'D_145'],\n",
      "      dtype='object', length=188)\n",
      "148\n",
      "Index(['P_2', 'D_39', 'R_1', 'S_3', 'D_41', 'D_42', 'D_43', 'D_44', 'D_45',\n",
      "       'R_2',\n",
      "       ...\n",
      "       'D_136', 'D_137', 'D_138', 'D_139', 'D_140', 'D_141', 'D_142', 'D_143',\n",
      "       'D_144', 'D_145'],\n",
      "      dtype='object', length=148)\n"
     ]
    },
    {
     "data": {
      "text/plain": [
       "30"
      ]
     },
     "execution_count": 3,
     "metadata": {},
     "output_type": "execute_result"
    }
   ],
   "source": [
    "### Added\n",
    "\n",
    "from pyarrow.parquet import ParquetFile\n",
    "import pyarrow as pa \n",
    "\n",
    "pf = ParquetFile(f'../input/amex-data-integer-dtypes-parquet-format/train.parquet') \n",
    "first_ten_rows = next(pf.iter_batches(batch_size = 10)) \n",
    "df = pa.Table.from_batches([first_ten_rows]).to_pandas() \n",
    "\n",
    "df.drop(columns=['customer_ID', 'S_2'], inplace=True)   ### These are not used in original code below\n",
    "all_features = df.columns\n",
    "print(str(len(all_features)))\n",
    "print(str(all_features))\n",
    "\n",
    "cat_cols=['Balance 30', 'Balance 38', 'Delinquency 63', 'Delinquency 64', 'Delinquency 66', 'Delinquency 68',\n",
    "          'Delinquency 114', 'Delinquency 116', 'Delinquency 117', 'Delinquency 120', 'Delinquency 126', 'Target']\n",
    "cols=[col for col in df.columns if (col.startswith(('B'))) & (col not in cat_cols[:-1])]\n",
    "### DROP R_ cols TO SAVE RAM for this test\n",
    "df.drop(columns=cols, inplace=True)\n",
    "\n",
    "all_features = df.columns\n",
    "print(str(len(all_features)))\n",
    "print(str(all_features))\n",
    "\n",
    "del pf,first_ten_rows,df\n",
    "gc.collect()"
   ]
  },
  {
   "cell_type": "code",
   "execution_count": 4,
   "id": "8e8e1da5",
   "metadata": {
    "execution": {
     "iopub.execute_input": "2022-07-20T14:39:33.960948Z",
     "iopub.status.busy": "2022-07-20T14:39:33.960490Z",
     "iopub.status.idle": "2022-07-20T14:39:33.996368Z",
     "shell.execute_reply": "2022-07-20T14:39:33.994647Z"
    },
    "papermill": {
     "duration": 0.048433,
     "end_time": "2022-07-20T14:39:33.999094",
     "exception": false,
     "start_time": "2022-07-20T14:39:33.950661",
     "status": "completed"
    },
    "tags": []
   },
   "outputs": [
    {
     "name": "stdout",
     "output_type": "stream",
     "text": [
      "Original feature sets...\n",
      "140\n",
      "63\n",
      "124\n",
      "142\n",
      "\n",
      "Revised features to be used: \n",
      "148\n",
      "Index(['P_2', 'D_39', 'R_1', 'S_3', 'D_41', 'D_42', 'D_43', 'D_44', 'D_45',\n",
      "       'R_2',\n",
      "       ...\n",
      "       'D_136', 'D_137', 'D_138', 'D_139', 'D_140', 'D_141', 'D_142', 'D_143',\n",
      "       'D_144', 'D_145'],\n",
      "      dtype='object', length=148)\n",
      "\n",
      "Revised features sets...\n",
      "148\n",
      "148\n",
      "148\n",
      "148\n"
     ]
    }
   ],
   "source": [
    "### ORIG\n",
    "print('Original feature sets...')\n",
    "features_avg = ['B_1', 'B_2', 'B_3', 'B_4', 'B_5', 'B_6', 'B_8', 'B_9', 'B_10', 'B_11', 'B_12', 'B_13', 'B_14', 'B_15', 'B_16', 'B_17', 'B_18', 'B_19', 'B_20', 'B_21', 'B_22', 'B_23', 'B_24', 'B_25', 'B_28', 'B_29', 'B_30', 'B_32', 'B_33', 'B_37', 'B_38', 'B_39', 'B_40', 'B_41', 'B_42', 'D_39', 'D_41', 'D_42', 'D_43', 'D_44', 'D_45', 'D_46', 'D_47', 'D_48', 'D_50', 'D_51', 'D_53', 'D_54', 'D_55', 'D_58', 'D_59', 'D_60', 'D_61', 'D_62', 'D_65', 'D_66', 'D_69', 'D_70', 'D_71', 'D_72', 'D_73', 'D_74', 'D_75', 'D_76', 'D_77', 'D_78', 'D_80', 'D_82', 'D_84', 'D_86', 'D_91', 'D_92', 'D_94', 'D_96', 'D_103', 'D_104', 'D_108', 'D_112', 'D_113', 'D_114', 'D_115', 'D_117', 'D_118', 'D_119', 'D_120', 'D_121', 'D_122', 'D_123', 'D_124', 'D_125', 'D_126', 'D_128', 'D_129', 'D_131', 'D_132', 'D_133', 'D_134', 'D_135', 'D_136', 'D_140', 'D_141', 'D_142', 'D_144', 'D_145', 'P_2', 'P_3', 'P_4', 'R_1', 'R_2', 'R_3', 'R_7', 'R_8', 'R_9', 'R_10', 'R_11', 'R_14', 'R_15', 'R_16', 'R_17', 'R_20', 'R_21', 'R_22', 'R_24', 'R_26', 'R_27', 'S_3', 'S_5', 'S_6', 'S_7', 'S_9', 'S_11', 'S_12', 'S_13', 'S_15', 'S_16', 'S_18', 'S_22', 'S_23', 'S_25', 'S_26']\n",
    "features_min = ['B_2', 'B_4', 'B_5', 'B_9', 'B_13', 'B_14', 'B_15', 'B_16', 'B_17', 'B_19', 'B_20', 'B_28', 'B_29', 'B_33', 'B_36', 'B_42', 'D_39', 'D_41', 'D_42', 'D_45', 'D_46', 'D_48', 'D_50', 'D_51', 'D_53', 'D_55', 'D_56', 'D_58', 'D_59', 'D_60', 'D_62', 'D_70', 'D_71', 'D_74', 'D_75', 'D_78', 'D_83', 'D_102', 'D_112', 'D_113', 'D_115', 'D_118', 'D_119', 'D_121', 'D_122', 'D_128', 'D_132', 'D_140', 'D_141', 'D_144', 'D_145', 'P_2', 'P_3', 'R_1', 'R_27', 'S_3', 'S_5', 'S_7', 'S_9', 'S_11', 'S_12', 'S_23', 'S_25']\n",
    "features_max = ['B_1', 'B_2', 'B_3', 'B_4', 'B_5', 'B_6', 'B_7', 'B_8', 'B_9', 'B_10', 'B_12', 'B_13', 'B_14', 'B_15', 'B_16', 'B_17', 'B_18', 'B_19', 'B_21', 'B_23', 'B_24', 'B_25', 'B_29', 'B_30', 'B_33', 'B_37', 'B_38', 'B_39', 'B_40', 'B_42', 'D_39', 'D_41', 'D_42', 'D_43', 'D_44', 'D_45', 'D_46', 'D_47', 'D_48', 'D_49', 'D_50', 'D_52', 'D_55', 'D_56', 'D_58', 'D_59', 'D_60', 'D_61', 'D_63', 'D_64', 'D_65', 'D_70', 'D_71', 'D_72', 'D_73', 'D_74', 'D_76', 'D_77', 'D_78', 'D_80', 'D_82', 'D_84', 'D_91', 'D_102', 'D_105', 'D_107', 'D_110', 'D_111', 'D_112', 'D_115', 'D_116', 'D_117', 'D_118', 'D_119', 'D_121', 'D_122', 'D_123', 'D_124', 'D_125', 'D_126', 'D_128', 'D_131', 'D_132', 'D_133', 'D_134', 'D_135', 'D_136', 'D_138', 'D_140', 'D_141', 'D_142', 'D_144', 'D_145', 'P_2', 'P_3', 'P_4', 'R_1', 'R_3', 'R_5', 'R_6', 'R_7', 'R_8', 'R_10', 'R_11', 'R_14', 'R_17', 'R_20', 'R_26', 'R_27', 'S_3', 'S_5', 'S_7', 'S_8', 'S_11', 'S_12', 'S_13', 'S_15', 'S_16', 'S_22', 'S_23', 'S_24', 'S_25', 'S_26', 'S_27']\n",
    "features_last = ['B_1', 'B_2', 'B_3', 'B_4', 'B_5', 'B_6', 'B_7', 'B_8', 'B_9', 'B_10', 'B_11', 'B_12', 'B_13', 'B_14', 'B_15', 'B_16', 'B_17', 'B_18', 'B_19', 'B_20', 'B_21', 'B_22', 'B_23', 'B_24', 'B_25', 'B_26', 'B_28', 'B_29', 'B_30', 'B_32', 'B_33', 'B_36', 'B_37', 'B_38', 'B_39', 'B_40', 'B_41', 'B_42', 'D_39', 'D_41', 'D_42', 'D_43', 'D_44', 'D_45', 'D_46', 'D_47', 'D_48', 'D_49', 'D_50', 'D_51', 'D_52', 'D_53', 'D_54', 'D_55', 'D_56', 'D_58', 'D_59', 'D_60', 'D_61', 'D_62', 'D_63', 'D_64', 'D_65', 'D_69', 'D_70', 'D_71', 'D_72', 'D_73', 'D_75', 'D_76', 'D_77', 'D_78', 'D_79', 'D_80', 'D_81', 'D_82', 'D_83', 'D_86', 'D_91', 'D_96', 'D_105', 'D_106', 'D_112', 'D_114', 'D_119', 'D_120', 'D_121', 'D_122', 'D_124', 'D_125', 'D_126', 'D_127', 'D_130', 'D_131', 'D_132', 'D_133', 'D_134', 'D_138', 'D_140', 'D_141', 'D_142', 'D_145', 'P_2', 'P_3', 'P_4', 'R_1', 'R_2', 'R_3', 'R_4', 'R_5', 'R_6', 'R_7', 'R_8', 'R_9', 'R_10', 'R_11', 'R_12', 'R_13', 'R_14', 'R_15', 'R_19', 'R_20', 'R_26', 'R_27', 'S_3', 'S_5', 'S_6', 'S_7', 'S_8', 'S_9', 'S_11', 'S_12', 'S_13', 'S_16', 'S_19', 'S_20', 'S_22', 'S_23', 'S_24', 'S_25', 'S_26', 'S_27']\n",
    "print(str(len(features_avg)))\n",
    "print(str(len(features_min)))\n",
    "print(str(len(features_max)))\n",
    "print(str(len(features_last)))\n",
    "print()\n",
    "\n",
    "### REVISED\n",
    "print('Revised features to be used: ')\n",
    "# features_to_use = features_last\n",
    "features_to_use = all_features\n",
    "print(str(len(features_to_use)))\n",
    "print(str(features_to_use))\n",
    "print()\n",
    "\n",
    "print('Revised features sets...')\n",
    "features_avg = features_to_use\n",
    "features_min = features_to_use\n",
    "features_max = features_to_use\n",
    "features_last = features_to_use\n",
    "print(str(len(features_avg)))\n",
    "print(str(len(features_min)))\n",
    "print(str(len(features_max)))\n",
    "print(str(len(features_last)))"
   ]
  },
  {
   "cell_type": "code",
   "execution_count": 5,
   "id": "a5a9582b",
   "metadata": {
    "execution": {
     "iopub.execute_input": "2022-07-20T14:39:34.014662Z",
     "iopub.status.busy": "2022-07-20T14:39:34.013519Z",
     "iopub.status.idle": "2022-07-20T14:46:37.355773Z",
     "shell.execute_reply": "2022-07-20T14:46:37.354732Z"
    },
    "papermill": {
     "duration": 423.352915,
     "end_time": "2022-07-20T14:46:37.358787",
     "exception": false,
     "start_time": "2022-07-20T14:39:34.005872",
     "status": "completed"
    },
    "tags": []
   },
   "outputs": [
    {
     "name": "stdout",
     "output_type": "stream",
     "text": [
      "Read test\n",
      "Computed avg test\n",
      "Computed min test\n",
      "Computed max test\n",
      "Computed last test\n",
      "test shape: (924621, 592)\n",
      "Read train\n",
      "Computed avg train\n",
      "Computed min train\n",
      "Computed max train\n",
      "Computed last train\n",
      "train shape: (458913, 592)\n",
      "target shape: (458913,)\n",
      "CPU times: user 5min 53s, sys: 1min 13s, total: 7min 6s\n",
      "Wall time: 7min 3s\n"
     ]
    }
   ],
   "source": [
    "%%time\n",
    "for i in ['test', 'train'] if INFERENCE else ['train']:\n",
    "    df = pd.read_parquet(f'../input/amex-data-integer-dtypes-parquet-format/{i}.parquet')\n",
    "    cid = pd.Categorical(df.pop('customer_ID'), ordered=True)\n",
    "    last = (cid != np.roll(cid, -1)) # mask for last statement of every customer\n",
    "#     first = (cid != np.roll(cid, 0))   ### does this get first? - verify\n",
    "    if 'target' in df.columns:\n",
    "        df.drop(columns=['target'], inplace=True)\n",
    "    gc.collect()\n",
    "    print('Read', i)\n",
    "    df_avg = (df\n",
    "              .groupby(cid)\n",
    "              .mean()[features_avg]\n",
    "              .rename(columns={f: f\"{f}_avg\" for f in features_avg})\n",
    "             )\n",
    "    gc.collect()\n",
    "    print('Computed avg', i)\n",
    "    df_min = (df\n",
    "              .groupby(cid)\n",
    "              .min()[features_min]\n",
    "              .rename(columns={f: f\"{f}_min\" for f in features_min})\n",
    "             )\n",
    "    gc.collect()\n",
    "    print('Computed min', i)\n",
    "    df_max = (df\n",
    "              .groupby(cid)\n",
    "              .max()[features_max]\n",
    "              .rename(columns={f: f\"{f}_max\" for f in features_max})\n",
    "             )\n",
    "    gc.collect()\n",
    "    print('Computed max', i)\n",
    "    df = (df.loc[last, features_last]\n",
    "          .rename(columns={f: f\"{f}_last\" for f in features_last})\n",
    "          .set_index(np.asarray(cid[last]))\n",
    "         )\n",
    "    gc.collect()\n",
    "    print('Computed last', i)\n",
    "    \n",
    "#     df = (df.loc[first, features_last]\n",
    "#           .rename(columns={f: f\"{f}_first\" for f in features_last})\n",
    "#           .set_index(np.asarray(cid[first]))\n",
    "#          )\n",
    "#     gc.collect()\n",
    "#     print('Computed first', i)\n",
    "    \n",
    "#     # Lag Features\n",
    "#     for col in df:\n",
    "#         if 'last' in col and col.replace('last', 'first') in df:\n",
    "#             df[col + '_lag_sub'] = df[col] - df[col.replace('last', 'first')]\n",
    "#             df[col + '_lag_div'] = df[col] / df[col.replace('last', 'first')]\n",
    "#     print('Added lag features', i)\n",
    "    \n",
    "    df = pd.concat([df, df_min, df_max, df_avg], axis=1)\n",
    "    \n",
    "    if i == 'train': train = df\n",
    "    else: test = df\n",
    "    print(f\"{i} shape: {df.shape}\")\n",
    "\n",
    "    del df, df_avg, df_min, df_max, cid, last\n",
    "\n",
    "target = pd.read_csv('../input/amex-default-prediction/train_labels.csv').target.values\n",
    "print(f\"target shape: {target.shape}\")"
   ]
  },
  {
   "cell_type": "markdown",
   "id": "ae86832a",
   "metadata": {
    "papermill": {
     "duration": 0.007003,
     "end_time": "2022-07-20T14:46:37.373082",
     "exception": false,
     "start_time": "2022-07-20T14:46:37.366079",
     "status": "completed"
    },
    "tags": []
   },
   "source": [
    "# Cross-validation\n",
    "\n",
    "We cross-validate with a five-fold StratifiedKFold because the classes are imbalanced.\n",
    "\n",
    "Notice that lightgbm logs the validation score with the competition's scoring function every hundred iterations."
   ]
  },
  {
   "cell_type": "code",
   "execution_count": 6,
   "id": "71aadb74",
   "metadata": {
    "execution": {
     "iopub.execute_input": "2022-07-20T14:46:37.389851Z",
     "iopub.status.busy": "2022-07-20T14:46:37.388824Z",
     "iopub.status.idle": "2022-07-20T14:46:37.518495Z",
     "shell.execute_reply": "2022-07-20T14:46:37.517306Z"
    },
    "papermill": {
     "duration": 0.140382,
     "end_time": "2022-07-20T14:46:37.520677",
     "exception": false,
     "start_time": "2022-07-20T14:46:37.380295",
     "status": "completed"
    },
    "tags": []
   },
   "outputs": [
    {
     "data": {
      "text/plain": [
       "21"
      ]
     },
     "execution_count": 6,
     "metadata": {},
     "output_type": "execute_result"
    }
   ],
   "source": [
    "gc.collect()"
   ]
  },
  {
   "cell_type": "code",
   "execution_count": 7,
   "id": "c0d4bbeb",
   "metadata": {
    "execution": {
     "iopub.execute_input": "2022-07-20T14:46:37.537188Z",
     "iopub.status.busy": "2022-07-20T14:46:37.536387Z",
     "iopub.status.idle": "2022-07-20T14:55:41.678094Z",
     "shell.execute_reply": "2022-07-20T14:55:41.676846Z"
    },
    "papermill": {
     "duration": 544.160907,
     "end_time": "2022-07-20T14:55:41.688826",
     "exception": false,
     "start_time": "2022-07-20T14:46:37.527919",
     "status": "completed"
    },
    "tags": []
   },
   "outputs": [
    {
     "name": "stdout",
     "output_type": "stream",
     "text": [
      "592 features\n",
      "[100]\tvalid_0's binary_logloss: 0.257114\tvalid_0's amex: 0.750707\n",
      "[200]\tvalid_0's binary_logloss: 0.237166\tvalid_0's amex: 0.765644\n",
      "[300]\tvalid_0's binary_logloss: 0.231779\tvalid_0's amex: 0.772671\n",
      "[400]\tvalid_0's binary_logloss: 0.22934\tvalid_0's amex: 0.776387\n",
      "[500]\tvalid_0's binary_logloss: 0.228035\tvalid_0's amex: 0.777443\n",
      "[600]\tvalid_0's binary_logloss: 0.22715\tvalid_0's amex: 0.779084\n",
      "[700]\tvalid_0's binary_logloss: 0.226585\tvalid_0's amex: 0.779886\n",
      "[800]\tvalid_0's binary_logloss: 0.226228\tvalid_0's amex: 0.77967\n",
      "[900]\tvalid_0's binary_logloss: 0.225893\tvalid_0's amex: 0.780221\n",
      "[1000]\tvalid_0's binary_logloss: 0.225702\tvalid_0's amex: 0.781411\n",
      "[1100]\tvalid_0's binary_logloss: 0.225513\tvalid_0's amex: 0.781969\n",
      "[1200]\tvalid_0's binary_logloss: 0.225421\tvalid_0's amex: 0.782368\n",
      "\u001b[32m\u001b[1mFold 0 | 07:31 |  1200 trees |                Score = 0.78213\u001b[0m\n",
      "\u001b[32m\u001b[1mOOF Score:                       0.78213\u001b[0m\n",
      "CPU times: user 34min 16s, sys: 16.3 s, total: 34min 32s\n",
      "Wall time: 9min 4s\n"
     ]
    }
   ],
   "source": [
    "%%time\n",
    "# Cross-validation of the classifier\n",
    "\n",
    "### MOVED ABOVE ONLY_FIRST_FOLD = True   ### WAS False\n",
    "\n",
    "features = [f for f in train.columns if f != 'customer_ID' and f != 'target']\n",
    "\n",
    "def my_booster(random_state=1, n_estimators=1200):\n",
    "    return LGBMClassifier(n_estimators=n_estimators,\n",
    "                          learning_rate=0.03, reg_lambda=50,\n",
    "                          min_child_samples=2400,\n",
    "                          num_leaves=95,\n",
    "                          colsample_bytree=0.19,\n",
    "                          max_bins=511, random_state=random_state)\n",
    "      \n",
    "print(f\"{len(features)} features\")\n",
    "score_list = []\n",
    "y_pred_list = []\n",
    "\n",
    "ft_importance=pd.DataFrame(index=train.columns)   ### ADD\n",
    "\n",
    "kf = StratifiedKFold(n_splits=5)\n",
    "for fold, (idx_tr, idx_va) in enumerate(kf.split(train, target)):\n",
    "    X_tr, X_va, y_tr, y_va, model = None, None, None, None, None\n",
    "    start_time = datetime.datetime.now()\n",
    "    X_tr = train.iloc[idx_tr][features]\n",
    "    X_va = train.iloc[idx_va][features]\n",
    "    y_tr = target[idx_tr]\n",
    "    y_va = target[idx_va]\n",
    "    \n",
    "    model = my_booster()\n",
    "    with warnings.catch_warnings():\n",
    "        warnings.filterwarnings('ignore', category=UserWarning)\n",
    "        model.fit(X_tr, y_tr,\n",
    "                  eval_set = [(X_va, y_va)], \n",
    "                  eval_metric=[lgb_amex_metric],\n",
    "                  callbacks=[log_evaluation(100)])\n",
    "    X_tr, y_tr = None, None\n",
    "    y_va_pred = model.predict_proba(X_va, raw_score=True)\n",
    "    score = amex_metric(y_va, y_va_pred)\n",
    "    n_trees = model.best_iteration_\n",
    "    if n_trees is None: n_trees = model.n_estimators\n",
    "    print(f\"{Fore.GREEN}{Style.BRIGHT}Fold {fold} | {str(datetime.datetime.now() - start_time)[-12:-7]} |\"\n",
    "          f\" {n_trees:5} trees |\"\n",
    "          f\"                Score = {score:.5f}{Style.RESET_ALL}\")\n",
    "    score_list.append(score)\n",
    "    ft_importance[\"Importance_Fold\"+str(fold)]=model.feature_importances_   ### ADD\n",
    "    \n",
    "    if INFERENCE:\n",
    "        y_pred_list.append(model.predict_proba(test[features], raw_score=True))\n",
    "        \n",
    "    if ONLY_FIRST_FOLD: break # we only want the first fold\n",
    "    gc.collect()\n",
    "    \n",
    "print(f\"{Fore.GREEN}{Style.BRIGHT}OOF Score:                       {np.mean(score_list):.5f}{Style.RESET_ALL}\")"
   ]
  },
  {
   "cell_type": "code",
   "execution_count": 8,
   "id": "7012eedf",
   "metadata": {
    "execution": {
     "iopub.execute_input": "2022-07-20T14:55:41.708298Z",
     "iopub.status.busy": "2022-07-20T14:55:41.707367Z",
     "iopub.status.idle": "2022-07-20T14:55:41.715752Z",
     "shell.execute_reply": "2022-07-20T14:55:41.714804Z"
    },
    "papermill": {
     "duration": 0.020504,
     "end_time": "2022-07-20T14:55:41.717862",
     "exception": false,
     "start_time": "2022-07-20T14:55:41.697358",
     "status": "completed"
    },
    "tags": []
   },
   "outputs": [
    {
     "name": "stdout",
     "output_type": "stream",
     "text": [
      "592\n"
     ]
    },
    {
     "data": {
      "text/plain": [
       "Index(['P_2_last', 'D_39_last', 'R_1_last', 'S_3_last', 'D_41_last',\n",
       "       'D_42_last', 'D_43_last', 'D_44_last', 'D_45_last', 'R_2_last',\n",
       "       ...\n",
       "       'D_136_avg', 'D_137_avg', 'D_138_avg', 'D_139_avg', 'D_140_avg',\n",
       "       'D_141_avg', 'D_142_avg', 'D_143_avg', 'D_144_avg', 'D_145_avg'],\n",
       "      dtype='object', length=592)"
      ]
     },
     "execution_count": 8,
     "metadata": {},
     "output_type": "execute_result"
    }
   ],
   "source": [
    "print(str(len(train.columns)))\n",
    "train.columns"
   ]
  },
  {
   "cell_type": "code",
   "execution_count": 9,
   "id": "77578128",
   "metadata": {
    "execution": {
     "iopub.execute_input": "2022-07-20T14:55:41.737169Z",
     "iopub.status.busy": "2022-07-20T14:55:41.736613Z",
     "iopub.status.idle": "2022-07-20T14:55:42.742399Z",
     "shell.execute_reply": "2022-07-20T14:55:42.741405Z"
    },
    "papermill": {
     "duration": 1.018061,
     "end_time": "2022-07-20T14:55:42.744718",
     "exception": false,
     "start_time": "2022-07-20T14:55:41.726657",
     "status": "completed"
    },
    "tags": []
   },
   "outputs": [
    {
     "data": {
      "text/html": [
       "        <script type=\"text/javascript\">\n",
       "        window.PlotlyConfig = {MathJaxConfig: 'local'};\n",
       "        if (window.MathJax && window.MathJax.Hub && window.MathJax.Hub.Config) {window.MathJax.Hub.Config({SVG: {font: \"STIX-Web\"}});}\n",
       "        if (typeof require !== 'undefined') {\n",
       "        require.undef(\"plotly\");\n",
       "        requirejs.config({\n",
       "            paths: {\n",
       "                'plotly': ['https://cdn.plot.ly/plotly-2.12.1.min']\n",
       "            }\n",
       "        });\n",
       "        require(['plotly'], function(Plotly) {\n",
       "            window._Plotly = Plotly;\n",
       "        });\n",
       "        }\n",
       "        </script>\n",
       "        "
      ]
     },
     "metadata": {},
     "output_type": "display_data"
    },
    {
     "data": {
      "text/html": [
       "<div>                            <div id=\"f2c6c517-e12a-498b-9c7f-85278347a70f\" class=\"plotly-graph-div\" style=\"height:1000px; width:800px;\"></div>            <script type=\"text/javascript\">                require([\"plotly\"], function(Plotly) {                    window.PLOTLYENV=window.PLOTLYENV || {};                                    if (document.getElementById(\"f2c6c517-e12a-498b-9c7f-85278347a70f\")) {                    Plotly.newPlot(                        \"f2c6c517-e12a-498b-9c7f-85278347a70f\",                        [{\"hovertemplate\":\"%{y} Importance = %{x:.0f}<extra></extra>\",\"marker\":{\"color\":[\"#0b1f5e\",\"#0e2265\",\"#12256d\",\"#162874\",\"#192b7c\",\"#1d2e83\",\"#21308b\",\"#243392\",\"#253795\",\"#243c98\",\"#24419a\",\"#24479d\",\"#234c9f\",\"#2351a2\",\"#2356a4\",\"#225ca7\",\"#2260a9\",\"#2166ac\",\"#216daf\",\"#2073b2\",\"#1f7ab5\",\"#1f80b8\",\"#1e86bb\",\"#1d8dbe\",\"#1d91c0\",\"#2296c1\",\"#269bc1\",\"#2b9fc2\",\"#2fa4c2\",\"#34a9c3\",\"#39adc3\",\"#3db2c4\",\"#40b5c4\",\"#48b9c3\",\"#50bbc2\",\"#57bec1\",\"#5fc1c0\",\"#67c4be\",\"#6fc7bd\",\"#76cabc\",\"#7ecdbb\",\"#85cfba\",\"#8ed3ba\",\"#97d6b9\",\"#a0dab8\",\"#a9ddb7\",\"#b2e1b6\",\"#bbe4b5\",\"#c4e8b4\",\"#c9eab4\",\"#ceecb3\",\"#d3eeb3\",\"#d7efb3\",\"#dcf1b2\",\"#e1f3b2\",\"#e6f5b2\",\"#eaf7b1\",\"#edf8b2\",\"#f0f9b7\",\"#f2fabc\",\"#f4fbc1\",\"#f7fcc6\",\"#f9fdcb\",\"#fbfdd0\",\"#fdfed5\"],\"size\":8},\"mode\":\"markers\",\"x\":[519.0,519.0,523.0,523.0,532.0,538.0,544.0,547.0,551.0,553.0,556.0,558.0,560.0,565.0,566.0,570.0,571.0,571.0,572.0,574.0,581.0,583.0,589.0,589.0,590.0,595.0,597.0,606.0,609.0,612.0,612.0,612.0,617.0,618.0,624.0,651.0,674.0,679.0,715.0,719.0,728.0,756.0,761.0,768.0,786.0,791.0,843.0,863.0,871.0,1097.0],\"y\":[\"S_12_avg\",\"D_61_max\",\"R_1_last\",\"S_9_avg\",\"S_5_avg\",\"S_7_last\",\"S_23_last\",\"S_7_min\",\"S_9_last\",\"S_25_last\",\"D_77_max\",\"D_77_min\",\"P_2_avg\",\"S_9_max\",\"S_27_max\",\"R_27_min\",\"D_71_max\",\"D_60_min\",\"S_27_min\",\"S_27_avg\",\"P_2_last\",\"S_22_last\",\"D_71_avg\",\"P_2_min\",\"P_2_max\",\"R_27_max\",\"S_3_max\",\"P_3_avg\",\"P_3_min\",\"D_48_max\",\"D_48_min\",\"D_58_last\",\"D_61_last\",\"S_27_last\",\"D_43_max\",\"S_5_last\",\"S_9_min\",\"D_46_max\",\"S_24_last\",\"P_3_last\",\"S_3_last\",\"D_43_last\",\"D_43_avg\",\"P_3_max\",\"D_46_avg\",\"D_46_last\",\"D_71_last\",\"D_48_last\",\"D_46_min\",\"D_60_last\"],\"type\":\"scatter\"}],                        {\"template\":{\"data\":{\"histogram2dcontour\":[{\"type\":\"histogram2dcontour\",\"colorbar\":{\"outlinewidth\":0,\"ticks\":\"\"},\"colorscale\":[[0.0,\"#0d0887\"],[0.1111111111111111,\"#46039f\"],[0.2222222222222222,\"#7201a8\"],[0.3333333333333333,\"#9c179e\"],[0.4444444444444444,\"#bd3786\"],[0.5555555555555556,\"#d8576b\"],[0.6666666666666666,\"#ed7953\"],[0.7777777777777778,\"#fb9f3a\"],[0.8888888888888888,\"#fdca26\"],[1.0,\"#f0f921\"]]}],\"choropleth\":[{\"type\":\"choropleth\",\"colorbar\":{\"outlinewidth\":0,\"ticks\":\"\"}}],\"histogram2d\":[{\"type\":\"histogram2d\",\"colorbar\":{\"outlinewidth\":0,\"ticks\":\"\"},\"colorscale\":[[0.0,\"#0d0887\"],[0.1111111111111111,\"#46039f\"],[0.2222222222222222,\"#7201a8\"],[0.3333333333333333,\"#9c179e\"],[0.4444444444444444,\"#bd3786\"],[0.5555555555555556,\"#d8576b\"],[0.6666666666666666,\"#ed7953\"],[0.7777777777777778,\"#fb9f3a\"],[0.8888888888888888,\"#fdca26\"],[1.0,\"#f0f921\"]]}],\"heatmap\":[{\"type\":\"heatmap\",\"colorbar\":{\"outlinewidth\":0,\"ticks\":\"\"},\"colorscale\":[[0.0,\"#0d0887\"],[0.1111111111111111,\"#46039f\"],[0.2222222222222222,\"#7201a8\"],[0.3333333333333333,\"#9c179e\"],[0.4444444444444444,\"#bd3786\"],[0.5555555555555556,\"#d8576b\"],[0.6666666666666666,\"#ed7953\"],[0.7777777777777778,\"#fb9f3a\"],[0.8888888888888888,\"#fdca26\"],[1.0,\"#f0f921\"]]}],\"heatmapgl\":[{\"type\":\"heatmapgl\",\"colorbar\":{\"outlinewidth\":0,\"ticks\":\"\"},\"colorscale\":[[0.0,\"#0d0887\"],[0.1111111111111111,\"#46039f\"],[0.2222222222222222,\"#7201a8\"],[0.3333333333333333,\"#9c179e\"],[0.4444444444444444,\"#bd3786\"],[0.5555555555555556,\"#d8576b\"],[0.6666666666666666,\"#ed7953\"],[0.7777777777777778,\"#fb9f3a\"],[0.8888888888888888,\"#fdca26\"],[1.0,\"#f0f921\"]]}],\"contourcarpet\":[{\"type\":\"contourcarpet\",\"colorbar\":{\"outlinewidth\":0,\"ticks\":\"\"}}],\"contour\":[{\"type\":\"contour\",\"colorbar\":{\"outlinewidth\":0,\"ticks\":\"\"},\"colorscale\":[[0.0,\"#0d0887\"],[0.1111111111111111,\"#46039f\"],[0.2222222222222222,\"#7201a8\"],[0.3333333333333333,\"#9c179e\"],[0.4444444444444444,\"#bd3786\"],[0.5555555555555556,\"#d8576b\"],[0.6666666666666666,\"#ed7953\"],[0.7777777777777778,\"#fb9f3a\"],[0.8888888888888888,\"#fdca26\"],[1.0,\"#f0f921\"]]}],\"surface\":[{\"type\":\"surface\",\"colorbar\":{\"outlinewidth\":0,\"ticks\":\"\"},\"colorscale\":[[0.0,\"#0d0887\"],[0.1111111111111111,\"#46039f\"],[0.2222222222222222,\"#7201a8\"],[0.3333333333333333,\"#9c179e\"],[0.4444444444444444,\"#bd3786\"],[0.5555555555555556,\"#d8576b\"],[0.6666666666666666,\"#ed7953\"],[0.7777777777777778,\"#fb9f3a\"],[0.8888888888888888,\"#fdca26\"],[1.0,\"#f0f921\"]]}],\"mesh3d\":[{\"type\":\"mesh3d\",\"colorbar\":{\"outlinewidth\":0,\"ticks\":\"\"}}],\"scatter\":[{\"fillpattern\":{\"fillmode\":\"overlay\",\"size\":10,\"solidity\":0.2},\"type\":\"scatter\"}],\"parcoords\":[{\"type\":\"parcoords\",\"line\":{\"colorbar\":{\"outlinewidth\":0,\"ticks\":\"\"}}}],\"scatterpolargl\":[{\"type\":\"scatterpolargl\",\"marker\":{\"colorbar\":{\"outlinewidth\":0,\"ticks\":\"\"}}}],\"bar\":[{\"error_x\":{\"color\":\"#2a3f5f\"},\"error_y\":{\"color\":\"#2a3f5f\"},\"marker\":{\"line\":{\"color\":\"#E5ECF6\",\"width\":0.5},\"pattern\":{\"fillmode\":\"overlay\",\"size\":10,\"solidity\":0.2}},\"type\":\"bar\"}],\"scattergeo\":[{\"type\":\"scattergeo\",\"marker\":{\"colorbar\":{\"outlinewidth\":0,\"ticks\":\"\"}}}],\"scatterpolar\":[{\"type\":\"scatterpolar\",\"marker\":{\"colorbar\":{\"outlinewidth\":0,\"ticks\":\"\"}}}],\"histogram\":[{\"marker\":{\"pattern\":{\"fillmode\":\"overlay\",\"size\":10,\"solidity\":0.2}},\"type\":\"histogram\"}],\"scattergl\":[{\"type\":\"scattergl\",\"marker\":{\"colorbar\":{\"outlinewidth\":0,\"ticks\":\"\"}}}],\"scatter3d\":[{\"type\":\"scatter3d\",\"line\":{\"colorbar\":{\"outlinewidth\":0,\"ticks\":\"\"}},\"marker\":{\"colorbar\":{\"outlinewidth\":0,\"ticks\":\"\"}}}],\"scattermapbox\":[{\"type\":\"scattermapbox\",\"marker\":{\"colorbar\":{\"outlinewidth\":0,\"ticks\":\"\"}}}],\"scatterternary\":[{\"type\":\"scatterternary\",\"marker\":{\"colorbar\":{\"outlinewidth\":0,\"ticks\":\"\"}}}],\"scattercarpet\":[{\"type\":\"scattercarpet\",\"marker\":{\"colorbar\":{\"outlinewidth\":0,\"ticks\":\"\"}}}],\"carpet\":[{\"aaxis\":{\"endlinecolor\":\"#2a3f5f\",\"gridcolor\":\"white\",\"linecolor\":\"white\",\"minorgridcolor\":\"white\",\"startlinecolor\":\"#2a3f5f\"},\"baxis\":{\"endlinecolor\":\"#2a3f5f\",\"gridcolor\":\"white\",\"linecolor\":\"white\",\"minorgridcolor\":\"white\",\"startlinecolor\":\"#2a3f5f\"},\"type\":\"carpet\"}],\"table\":[{\"cells\":{\"fill\":{\"color\":\"#EBF0F8\"},\"line\":{\"color\":\"white\"}},\"header\":{\"fill\":{\"color\":\"#C8D4E3\"},\"line\":{\"color\":\"white\"}},\"type\":\"table\"}],\"barpolar\":[{\"marker\":{\"line\":{\"color\":\"#E5ECF6\",\"width\":0.5},\"pattern\":{\"fillmode\":\"overlay\",\"size\":10,\"solidity\":0.2}},\"type\":\"barpolar\"}],\"pie\":[{\"automargin\":true,\"type\":\"pie\"}]},\"layout\":{\"font\":{\"family\":\"Franklin Gothic\",\"size\":12},\"height\":500,\"width\":1000}},\"shapes\":[{\"line\":{\"color\":\"#0b1f5e\",\"width\":4},\"opacity\":0.8,\"type\":\"line\",\"x0\":0,\"x1\":519.0,\"y0\":0,\"y1\":0},{\"line\":{\"color\":\"#0e2265\",\"width\":4},\"opacity\":0.8,\"type\":\"line\",\"x0\":0,\"x1\":519.0,\"y0\":1,\"y1\":1},{\"line\":{\"color\":\"#12256d\",\"width\":4},\"opacity\":0.8,\"type\":\"line\",\"x0\":0,\"x1\":523.0,\"y0\":2,\"y1\":2},{\"line\":{\"color\":\"#162874\",\"width\":4},\"opacity\":0.8,\"type\":\"line\",\"x0\":0,\"x1\":523.0,\"y0\":3,\"y1\":3},{\"line\":{\"color\":\"#192b7c\",\"width\":4},\"opacity\":0.8,\"type\":\"line\",\"x0\":0,\"x1\":532.0,\"y0\":4,\"y1\":4},{\"line\":{\"color\":\"#1d2e83\",\"width\":4},\"opacity\":0.8,\"type\":\"line\",\"x0\":0,\"x1\":538.0,\"y0\":5,\"y1\":5},{\"line\":{\"color\":\"#21308b\",\"width\":4},\"opacity\":0.8,\"type\":\"line\",\"x0\":0,\"x1\":544.0,\"y0\":6,\"y1\":6},{\"line\":{\"color\":\"#243392\",\"width\":4},\"opacity\":0.8,\"type\":\"line\",\"x0\":0,\"x1\":547.0,\"y0\":7,\"y1\":7},{\"line\":{\"color\":\"#253795\",\"width\":4},\"opacity\":0.8,\"type\":\"line\",\"x0\":0,\"x1\":551.0,\"y0\":8,\"y1\":8},{\"line\":{\"color\":\"#243c98\",\"width\":4},\"opacity\":0.8,\"type\":\"line\",\"x0\":0,\"x1\":553.0,\"y0\":9,\"y1\":9},{\"line\":{\"color\":\"#24419a\",\"width\":4},\"opacity\":0.8,\"type\":\"line\",\"x0\":0,\"x1\":556.0,\"y0\":10,\"y1\":10},{\"line\":{\"color\":\"#24479d\",\"width\":4},\"opacity\":0.8,\"type\":\"line\",\"x0\":0,\"x1\":558.0,\"y0\":11,\"y1\":11},{\"line\":{\"color\":\"#234c9f\",\"width\":4},\"opacity\":0.8,\"type\":\"line\",\"x0\":0,\"x1\":560.0,\"y0\":12,\"y1\":12},{\"line\":{\"color\":\"#2351a2\",\"width\":4},\"opacity\":0.8,\"type\":\"line\",\"x0\":0,\"x1\":565.0,\"y0\":13,\"y1\":13},{\"line\":{\"color\":\"#2356a4\",\"width\":4},\"opacity\":0.8,\"type\":\"line\",\"x0\":0,\"x1\":566.0,\"y0\":14,\"y1\":14},{\"line\":{\"color\":\"#225ca7\",\"width\":4},\"opacity\":0.8,\"type\":\"line\",\"x0\":0,\"x1\":570.0,\"y0\":15,\"y1\":15},{\"line\":{\"color\":\"#2260a9\",\"width\":4},\"opacity\":0.8,\"type\":\"line\",\"x0\":0,\"x1\":571.0,\"y0\":16,\"y1\":16},{\"line\":{\"color\":\"#2166ac\",\"width\":4},\"opacity\":0.8,\"type\":\"line\",\"x0\":0,\"x1\":571.0,\"y0\":17,\"y1\":17},{\"line\":{\"color\":\"#216daf\",\"width\":4},\"opacity\":0.8,\"type\":\"line\",\"x0\":0,\"x1\":572.0,\"y0\":18,\"y1\":18},{\"line\":{\"color\":\"#2073b2\",\"width\":4},\"opacity\":0.8,\"type\":\"line\",\"x0\":0,\"x1\":574.0,\"y0\":19,\"y1\":19},{\"line\":{\"color\":\"#1f7ab5\",\"width\":4},\"opacity\":0.8,\"type\":\"line\",\"x0\":0,\"x1\":581.0,\"y0\":20,\"y1\":20},{\"line\":{\"color\":\"#1f80b8\",\"width\":4},\"opacity\":0.8,\"type\":\"line\",\"x0\":0,\"x1\":583.0,\"y0\":21,\"y1\":21},{\"line\":{\"color\":\"#1e86bb\",\"width\":4},\"opacity\":0.8,\"type\":\"line\",\"x0\":0,\"x1\":589.0,\"y0\":22,\"y1\":22},{\"line\":{\"color\":\"#1d8dbe\",\"width\":4},\"opacity\":0.8,\"type\":\"line\",\"x0\":0,\"x1\":589.0,\"y0\":23,\"y1\":23},{\"line\":{\"color\":\"#1d91c0\",\"width\":4},\"opacity\":0.8,\"type\":\"line\",\"x0\":0,\"x1\":590.0,\"y0\":24,\"y1\":24},{\"line\":{\"color\":\"#2296c1\",\"width\":4},\"opacity\":0.8,\"type\":\"line\",\"x0\":0,\"x1\":595.0,\"y0\":25,\"y1\":25},{\"line\":{\"color\":\"#269bc1\",\"width\":4},\"opacity\":0.8,\"type\":\"line\",\"x0\":0,\"x1\":597.0,\"y0\":26,\"y1\":26},{\"line\":{\"color\":\"#2b9fc2\",\"width\":4},\"opacity\":0.8,\"type\":\"line\",\"x0\":0,\"x1\":606.0,\"y0\":27,\"y1\":27},{\"line\":{\"color\":\"#2fa4c2\",\"width\":4},\"opacity\":0.8,\"type\":\"line\",\"x0\":0,\"x1\":609.0,\"y0\":28,\"y1\":28},{\"line\":{\"color\":\"#34a9c3\",\"width\":4},\"opacity\":0.8,\"type\":\"line\",\"x0\":0,\"x1\":612.0,\"y0\":29,\"y1\":29},{\"line\":{\"color\":\"#39adc3\",\"width\":4},\"opacity\":0.8,\"type\":\"line\",\"x0\":0,\"x1\":612.0,\"y0\":30,\"y1\":30},{\"line\":{\"color\":\"#3db2c4\",\"width\":4},\"opacity\":0.8,\"type\":\"line\",\"x0\":0,\"x1\":612.0,\"y0\":31,\"y1\":31},{\"line\":{\"color\":\"#40b5c4\",\"width\":4},\"opacity\":0.8,\"type\":\"line\",\"x0\":0,\"x1\":617.0,\"y0\":32,\"y1\":32},{\"line\":{\"color\":\"#48b9c3\",\"width\":4},\"opacity\":0.8,\"type\":\"line\",\"x0\":0,\"x1\":618.0,\"y0\":33,\"y1\":33},{\"line\":{\"color\":\"#50bbc2\",\"width\":4},\"opacity\":0.8,\"type\":\"line\",\"x0\":0,\"x1\":624.0,\"y0\":34,\"y1\":34},{\"line\":{\"color\":\"#57bec1\",\"width\":4},\"opacity\":0.8,\"type\":\"line\",\"x0\":0,\"x1\":651.0,\"y0\":35,\"y1\":35},{\"line\":{\"color\":\"#5fc1c0\",\"width\":4},\"opacity\":0.8,\"type\":\"line\",\"x0\":0,\"x1\":674.0,\"y0\":36,\"y1\":36},{\"line\":{\"color\":\"#67c4be\",\"width\":4},\"opacity\":0.8,\"type\":\"line\",\"x0\":0,\"x1\":679.0,\"y0\":37,\"y1\":37},{\"line\":{\"color\":\"#6fc7bd\",\"width\":4},\"opacity\":0.8,\"type\":\"line\",\"x0\":0,\"x1\":715.0,\"y0\":38,\"y1\":38},{\"line\":{\"color\":\"#76cabc\",\"width\":4},\"opacity\":0.8,\"type\":\"line\",\"x0\":0,\"x1\":719.0,\"y0\":39,\"y1\":39},{\"line\":{\"color\":\"#7ecdbb\",\"width\":4},\"opacity\":0.8,\"type\":\"line\",\"x0\":0,\"x1\":728.0,\"y0\":40,\"y1\":40},{\"line\":{\"color\":\"#85cfba\",\"width\":4},\"opacity\":0.8,\"type\":\"line\",\"x0\":0,\"x1\":756.0,\"y0\":41,\"y1\":41},{\"line\":{\"color\":\"#8ed3ba\",\"width\":4},\"opacity\":0.8,\"type\":\"line\",\"x0\":0,\"x1\":761.0,\"y0\":42,\"y1\":42},{\"line\":{\"color\":\"#97d6b9\",\"width\":4},\"opacity\":0.8,\"type\":\"line\",\"x0\":0,\"x1\":768.0,\"y0\":43,\"y1\":43},{\"line\":{\"color\":\"#a0dab8\",\"width\":4},\"opacity\":0.8,\"type\":\"line\",\"x0\":0,\"x1\":786.0,\"y0\":44,\"y1\":44},{\"line\":{\"color\":\"#a9ddb7\",\"width\":4},\"opacity\":0.8,\"type\":\"line\",\"x0\":0,\"x1\":791.0,\"y0\":45,\"y1\":45},{\"line\":{\"color\":\"#b2e1b6\",\"width\":4},\"opacity\":0.8,\"type\":\"line\",\"x0\":0,\"x1\":843.0,\"y0\":46,\"y1\":46},{\"line\":{\"color\":\"#bbe4b5\",\"width\":4},\"opacity\":0.8,\"type\":\"line\",\"x0\":0,\"x1\":863.0,\"y0\":47,\"y1\":47},{\"line\":{\"color\":\"#c4e8b4\",\"width\":4},\"opacity\":0.8,\"type\":\"line\",\"x0\":0,\"x1\":871.0,\"y0\":48,\"y1\":48},{\"line\":{\"color\":\"#c9eab4\",\"width\":4},\"opacity\":0.8,\"type\":\"line\",\"x0\":0,\"x1\":1097.0,\"y0\":49,\"y1\":49}],\"margin\":{\"l\":150,\"t\":80},\"xaxis\":{\"title\":{\"text\":\"Importance\"},\"zeroline\":false},\"yaxis\":{\"showgrid\":false},\"title\":{\"text\":\"LGBM Feature Importance<br>Top 50\"},\"height\":1000,\"width\":800},                        {\"responsive\": true}                    ).then(function(){\n",
       "                            \n",
       "var gd = document.getElementById('f2c6c517-e12a-498b-9c7f-85278347a70f');\n",
       "var x = new MutationObserver(function (mutations, observer) {{\n",
       "        var display = window.getComputedStyle(gd).display;\n",
       "        if (!display || display === 'none') {{\n",
       "            console.log([gd, 'removed!']);\n",
       "            Plotly.purge(gd);\n",
       "            observer.disconnect();\n",
       "        }}\n",
       "}});\n",
       "\n",
       "// Listen for the removal of the full notebook cells\n",
       "var notebookContainer = gd.closest('#notebook-container');\n",
       "if (notebookContainer) {{\n",
       "    x.observe(notebookContainer, {childList: true});\n",
       "}}\n",
       "\n",
       "// Listen for the clearing of the current output cell\n",
       "var outputEl = gd.closest('.output');\n",
       "if (outputEl) {{\n",
       "    x.observe(outputEl, {childList: true});\n",
       "}}\n",
       "\n",
       "                        })                };                });            </script>        </div>"
      ]
     },
     "metadata": {},
     "output_type": "display_data"
    }
   ],
   "source": [
    "### ADD FROM --> https://www.kaggle.com/code/kellibelcher/amex-default-prediction-eda-lgbm-baseline\n",
    "\n",
    "import seaborn as sns\n",
    "import plotly.graph_objects as go\n",
    "\n",
    "temp=dict(layout=go.Layout(font=dict(family=\"Franklin Gothic\", size=12), \n",
    "                           height=500, width=1000))\n",
    "\n",
    "ft_importance['avg']=ft_importance.mean(axis=1)\n",
    "ft_importance=ft_importance.avg.nlargest(50).sort_values(ascending=True)\n",
    "\n",
    "pal=sns.color_palette(\"YlGnBu\", 65).as_hex()\n",
    "fig=go.Figure()\n",
    "for i in range(len(ft_importance.index)):\n",
    "    fig.add_shape(dict(type=\"line\", y0=i, y1=i, x0=0, x1=ft_importance[i], \n",
    "                       line_color=pal[::-1][i],opacity=0.8,line_width=4))\n",
    "fig.add_trace(go.Scatter(x=ft_importance, y=ft_importance.index, mode='markers', \n",
    "                         marker_color=pal[::-1], marker_size=8,\n",
    "                         hovertemplate='%{y} Importance = %{x:.0f}<extra></extra>'))\n",
    "fig.update_layout(template=temp,title='LGBM Feature Importance<br>Top 50', \n",
    "                  margin=dict(l=150,t=80),\n",
    "                  xaxis=dict(title='Importance', zeroline=False),\n",
    "                  yaxis_showgrid=False, height=1000, width=800)\n",
    "fig.show()"
   ]
  },
  {
   "cell_type": "markdown",
   "id": "f3d7d91a",
   "metadata": {
    "papermill": {
     "duration": 0.008748,
     "end_time": "2022-07-20T14:55:42.762596",
     "exception": false,
     "start_time": "2022-07-20T14:55:42.753848",
     "status": "completed"
    },
    "tags": []
   },
   "source": [
    "# Prediction histogram"
   ]
  },
  {
   "cell_type": "code",
   "execution_count": 10,
   "id": "36b897c2",
   "metadata": {
    "execution": {
     "iopub.execute_input": "2022-07-20T14:55:42.783234Z",
     "iopub.status.busy": "2022-07-20T14:55:42.782302Z",
     "iopub.status.idle": "2022-07-20T14:55:43.515717Z",
     "shell.execute_reply": "2022-07-20T14:55:43.514522Z"
    },
    "papermill": {
     "duration": 0.746286,
     "end_time": "2022-07-20T14:55:43.518058",
     "exception": false,
     "start_time": "2022-07-20T14:55:42.771772",
     "status": "completed"
    },
    "tags": []
   },
   "outputs": [
    {
     "data": {
      "image/png": "[encoded data removed]",
      "text/plain": [
       "<Figure size 720x288 with 1 Axes>"
      ]
     },
     "metadata": {
      "needs_background": "light"
     },
     "output_type": "display_data"
    }
   ],
   "source": [
    "def sigmoid(log_odds):\n",
    "    return 1 / (1 + np.exp(-log_odds))\n",
    "\n",
    "plt.figure(figsize=(10, 4))\n",
    "plt.hist(sigmoid(y_va_pred[y_va == 0]), bins=np.linspace(0, 1, 101),\n",
    "         alpha=0.5, density=True, label='0')\n",
    "plt.hist(sigmoid(y_va_pred[y_va == 1]), bins=np.linspace(0, 1, 101),\n",
    "         alpha=0.5, density=True, label='1')\n",
    "plt.xlabel('y_pred')\n",
    "plt.ylabel('density')\n",
    "plt.title('OOF Prediction histogram', color='k')\n",
    "plt.legend()\n",
    "plt.show()"
   ]
  },
  {
   "cell_type": "markdown",
   "id": "e562f48c",
   "metadata": {
    "papermill": {
     "duration": 0.009147,
     "end_time": "2022-07-20T14:55:43.536815",
     "exception": false,
     "start_time": "2022-07-20T14:55:43.527668",
     "status": "completed"
    },
    "tags": []
   },
   "source": [
    "# Calibration diagram\n",
    "\n",
    "The calibration diagram shows how the model predicts the default probability of customers:"
   ]
  },
  {
   "cell_type": "code",
   "execution_count": 11,
   "id": "d6e2ebf0",
   "metadata": {
    "execution": {
     "iopub.execute_input": "2022-07-20T14:55:43.557622Z",
     "iopub.status.busy": "2022-07-20T14:55:43.557145Z",
     "iopub.status.idle": "2022-07-20T14:55:43.797544Z",
     "shell.execute_reply": "2022-07-20T14:55:43.796387Z"
    },
    "papermill": {
     "duration": 0.253507,
     "end_time": "2022-07-20T14:55:43.799912",
     "exception": false,
     "start_time": "2022-07-20T14:55:43.546405",
     "status": "completed"
    },
    "tags": []
   },
   "outputs": [
    {
     "data": {
      "image/png": "[encoded data removed]",
      "text/plain": [
       "<Figure size 864x288 with 1 Axes>"
      ]
     },
     "metadata": {
      "needs_background": "light"
     },
     "output_type": "display_data"
    }
   ],
   "source": [
    "plt.figure(figsize=(12, 4))\n",
    "CalibrationDisplay.from_predictions(y_va, sigmoid(y_va_pred), n_bins=50,\n",
    "                                    strategy='quantile', ax=plt.gca())\n",
    "plt.title('Probability calibration')\n",
    "plt.show()"
   ]
  },
  {
   "cell_type": "markdown",
   "id": "8dc9dd00",
   "metadata": {
    "papermill": {
     "duration": 0.010084,
     "end_time": "2022-07-20T14:55:43.820255",
     "exception": false,
     "start_time": "2022-07-20T14:55:43.810171",
     "status": "completed"
    },
    "tags": []
   },
   "source": [
    "# Submission\n",
    "\n",
    "We submit the mean of the five predictions. As proposed by @lucasmorin, we [take the mean of the log odds](https://www.kaggle.com/competitions/amex-default-prediction/discussion/329103) rather than of the probabilities."
   ]
  },
  {
   "cell_type": "code",
   "execution_count": 12,
   "id": "8316677c",
   "metadata": {
    "execution": {
     "iopub.execute_input": "2022-07-20T14:55:43.842644Z",
     "iopub.status.busy": "2022-07-20T14:55:43.842019Z",
     "iopub.status.idle": "2022-07-20T14:55:49.279684Z",
     "shell.execute_reply": "2022-07-20T14:55:49.278346Z"
    },
    "papermill": {
     "duration": 5.451675,
     "end_time": "2022-07-20T14:55:49.282235",
     "exception": false,
     "start_time": "2022-07-20T14:55:43.830560",
     "status": "completed"
    },
    "tags": []
   },
   "outputs": [
    {
     "data": {
      "text/html": [
       "<div>\n",
       "<style scoped>\n",
       "    .dataframe tbody tr th:only-of-type {\n",
       "        vertical-align: middle;\n",
       "    }\n",
       "\n",
       "    .dataframe tbody tr th {\n",
       "        vertical-align: top;\n",
       "    }\n",
       "\n",
       "    .dataframe thead th {\n",
       "        text-align: right;\n",
       "    }\n",
       "</style>\n",
       "<table border=\"1\" class=\"dataframe\">\n",
       "  <thead>\n",
       "    <tr style=\"text-align: right;\">\n",
       "      <th></th>\n",
       "      <th>customer_ID</th>\n",
       "      <th>prediction</th>\n",
       "    </tr>\n",
       "  </thead>\n",
       "  <tbody>\n",
       "    <tr>\n",
       "      <th>0</th>\n",
       "      <td>00000469ba478561f23a92a868bd366de6f6527a684c9a...</td>\n",
       "      <td>-3.830550</td>\n",
       "    </tr>\n",
       "    <tr>\n",
       "      <th>1</th>\n",
       "      <td>00001bf2e77ff879fab36aa4fac689b9ba411dae63ae39...</td>\n",
       "      <td>-5.945172</td>\n",
       "    </tr>\n",
       "    <tr>\n",
       "      <th>2</th>\n",
       "      <td>0000210045da4f81e5f122c6bde5c2a617d03eef67f82c...</td>\n",
       "      <td>-3.751130</td>\n",
       "    </tr>\n",
       "    <tr>\n",
       "      <th>3</th>\n",
       "      <td>00003b41e58ede33b8daf61ab56d9952f17c9ad1c3976c...</td>\n",
       "      <td>-0.674007</td>\n",
       "    </tr>\n",
       "    <tr>\n",
       "      <th>4</th>\n",
       "      <td>00004b22eaeeeb0ec976890c1d9bfc14fd9427e98c4ee9...</td>\n",
       "      <td>1.607942</td>\n",
       "    </tr>\n",
       "    <tr>\n",
       "      <th>...</th>\n",
       "      <td>...</td>\n",
       "      <td>...</td>\n",
       "    </tr>\n",
       "    <tr>\n",
       "      <th>924616</th>\n",
       "      <td>ffff952c631f2c911b8a2a8ca56ea6e656309a83d2f64c...</td>\n",
       "      <td>-4.726013</td>\n",
       "    </tr>\n",
       "    <tr>\n",
       "      <th>924617</th>\n",
       "      <td>ffffcf5df59e5e0bba2a5ac4578a34e2b5aa64a1546cd3...</td>\n",
       "      <td>1.894036</td>\n",
       "    </tr>\n",
       "    <tr>\n",
       "      <th>924618</th>\n",
       "      <td>ffffd61f098cc056dbd7d2a21380c4804bbfe60856f475...</td>\n",
       "      <td>-0.189002</td>\n",
       "    </tr>\n",
       "    <tr>\n",
       "      <th>924619</th>\n",
       "      <td>ffffddef1fc3643ea179c93245b68dca0f36941cd83977...</td>\n",
       "      <td>-0.412385</td>\n",
       "    </tr>\n",
       "    <tr>\n",
       "      <th>924620</th>\n",
       "      <td>fffffa7cf7e453e1acc6a1426475d5cb9400859f82ff61...</td>\n",
       "      <td>-2.707831</td>\n",
       "    </tr>\n",
       "  </tbody>\n",
       "</table>\n",
       "<p>924621 rows × 2 columns</p>\n",
       "</div>"
      ],
      "text/plain": [
       "                                              customer_ID  prediction\n",
       "0       00000469ba478561f23a92a868bd366de6f6527a684c9a...   -3.830550\n",
       "1       00001bf2e77ff879fab36aa4fac689b9ba411dae63ae39...   -5.945172\n",
       "2       0000210045da4f81e5f122c6bde5c2a617d03eef67f82c...   -3.751130\n",
       "3       00003b41e58ede33b8daf61ab56d9952f17c9ad1c3976c...   -0.674007\n",
       "4       00004b22eaeeeb0ec976890c1d9bfc14fd9427e98c4ee9...    1.607942\n",
       "...                                                   ...         ...\n",
       "924616  ffff952c631f2c911b8a2a8ca56ea6e656309a83d2f64c...   -4.726013\n",
       "924617  ffffcf5df59e5e0bba2a5ac4578a34e2b5aa64a1546cd3...    1.894036\n",
       "924618  ffffd61f098cc056dbd7d2a21380c4804bbfe60856f475...   -0.189002\n",
       "924619  ffffddef1fc3643ea179c93245b68dca0f36941cd83977...   -0.412385\n",
       "924620  fffffa7cf7e453e1acc6a1426475d5cb9400859f82ff61...   -2.707831\n",
       "\n",
       "[924621 rows x 2 columns]"
      ]
     },
     "metadata": {},
     "output_type": "display_data"
    }
   ],
   "source": [
    "if INFERENCE:\n",
    "    sub = pd.DataFrame({'customer_ID': test.index,\n",
    "                        'prediction': np.mean(y_pred_list, axis=0)})\n",
    "    sub.to_csv('submission.csv', index=False)\n",
    "    display(sub)"
   ]
  },
  {
   "cell_type": "markdown",
   "id": "5585a287",
   "metadata": {
    "papermill": {
     "duration": 0.010195,
     "end_time": "2022-07-20T14:55:49.303191",
     "exception": false,
     "start_time": "2022-07-20T14:55:49.292996",
     "status": "completed"
    },
    "tags": []
   },
   "source": [
    "As a final check, we verify that the test prediction distribution equals the validation prediction distribution. "
   ]
  },
  {
   "cell_type": "code",
   "execution_count": 13,
   "id": "1e9e61de",
   "metadata": {
    "execution": {
     "iopub.execute_input": "2022-07-20T14:55:49.326624Z",
     "iopub.status.busy": "2022-07-20T14:55:49.326187Z",
     "iopub.status.idle": "2022-07-20T14:55:49.959339Z",
     "shell.execute_reply": "2022-07-20T14:55:49.958250Z"
    },
    "papermill": {
     "duration": 0.647628,
     "end_time": "2022-07-20T14:55:49.961654",
     "exception": false,
     "start_time": "2022-07-20T14:55:49.314026",
     "status": "completed"
    },
    "tags": []
   },
   "outputs": [
    {
     "data": {
      "image/png": "[encoded data removed]",
      "text/plain": [
       "<Figure size 864x288 with 1 Axes>"
      ]
     },
     "metadata": {
      "needs_background": "light"
     },
     "output_type": "display_data"
    }
   ],
   "source": [
    "plt.figure(figsize=(12, 4))\n",
    "plt.hist(sigmoid(sub.prediction), bins=np.linspace(0, 1, 101), density=True)\n",
    "plt.hist(sigmoid(y_va_pred), bins=np.linspace(0, 1, 101), rwidth=0.5, color='orange', density=True)\n",
    "plt.show()"
   ]
  },
  {
   "cell_type": "code",
   "execution_count": null,
   "id": "fe1acfb8",
   "metadata": {
    "papermill": {
     "duration": 0.011075,
     "end_time": "2022-07-20T14:55:49.984177",
     "exception": false,
     "start_time": "2022-07-20T14:55:49.973102",
     "status": "completed"
    },
    "tags": []
   },
   "outputs": [],
   "source": []
  }
 ],
 "metadata": {
  "kernelspec": {
   "display_name": "Python 3",
   "language": "python",
   "name": "python3"
  },
  "language_info": {
   "codemirror_mode": {
    "name": "ipython",
    "version": 3
   },
   "file_extension": ".py",
   "mimetype": "text/x-python",
   "name": "python",
   "nbconvert_exporter": "python",
   "pygments_lexer": "ipython3",
   "version": "3.7.12"
  },
  "papermill": {
   "default_parameters": {},
   "duration": 1006.7339,
   "end_time": "2022-07-20T14:55:51.422617",
   "environment_variables": {},
   "exception": null,
   "input_path": "__notebook__.ipynb",
   "output_path": "__notebook__.ipynb",
   "parameters": {},
   "start_time": "2022-07-20T14:39:04.688717",
   "version": "2.3.4"
  }
 },
 "nbformat": 4,
 "nbformat_minor": 5
}
