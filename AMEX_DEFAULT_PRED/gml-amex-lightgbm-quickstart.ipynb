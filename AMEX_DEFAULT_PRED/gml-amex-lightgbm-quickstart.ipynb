{
 "cells": [
  {
   "cell_type": "markdown",
   "id": "086303c9",
   "metadata": {
    "_cell_guid": "b1076dfc-b9ad-4769-8c92-a6c4dae69d19",
    "_uuid": "8f2839f25d086af736a60e9eeb907d3b93b6e0e5",
    "papermill": {
     "duration": 0.01084,
     "end_time": "2022-07-21T14:32:51.749107",
     "exception": false,
     "start_time": "2022-07-21T14:32:51.738267",
     "status": "completed"
    },
    "tags": []
   },
   "source": [
    "# LightGBM Quickstart for the *American Express - Default Prediction* competition\n",
    "\n",
    "This notebook shows how to apply LightGBM to the competition data, and it introduces a space-efficient way of feature engineering.\n",
    "\n",
    "It is based on the [EDA which makes sense ⭐️⭐️⭐️⭐️⭐️](https://www.kaggle.com/code/ambrosm/amex-eda-which-makes-sense)."
   ]
  },
  {
   "cell_type": "code",
   "execution_count": 52,
   "id": "7441ce97",
   "metadata": {
    "_kg_hide-input": false,
    "execution": {
     "iopub.execute_input": "2022-07-21T14:32:51.767037Z",
     "iopub.status.busy": "2022-07-21T14:32:51.766389Z",
     "iopub.status.idle": "2022-07-21T14:32:54.158072Z",
     "shell.execute_reply": "2022-07-21T14:32:54.157067Z"
    },
    "papermill": {
     "duration": 2.403449,
     "end_time": "2022-07-21T14:32:54.160668",
     "exception": false,
     "start_time": "2022-07-21T14:32:51.757219",
     "status": "completed"
    },
    "tags": []
   },
   "outputs": [],
   "source": [
    "import numpy as np\n",
    "import pandas as pd\n",
    "import matplotlib.pyplot as plt\n",
    "from matplotlib.ticker import MaxNLocator\n",
    "from matplotlib.colors import ListedColormap\n",
    "from cycler import cycler\n",
    "from IPython.display import display\n",
    "import datetime\n",
    "import scipy.stats\n",
    "import warnings\n",
    "from colorama import Fore, Back, Style\n",
    "import gc\n",
    "\n",
    "from sklearn.model_selection import StratifiedKFold\n",
    "from sklearn.calibration import CalibrationDisplay\n",
    "from lightgbm import LGBMClassifier, log_evaluation\n",
    "\n",
    "plt.rcParams['axes.facecolor'] = '#0057b8' # blue\n",
    "plt.rcParams['axes.prop_cycle'] = cycler(color=['#ffd700'] +\n",
    "                                         plt.rcParams['axes.prop_cycle'].by_key()['color'][1:])\n",
    "plt.rcParams['text.color'] = 'w'\n"
   ]
  },
  {
   "cell_type": "code",
   "execution_count": 53,
   "id": "85305cb6",
   "metadata": {
    "execution": {
     "iopub.execute_input": "2022-07-21T14:32:54.177869Z",
     "iopub.status.busy": "2022-07-21T14:32:54.177437Z",
     "iopub.status.idle": "2022-07-21T14:32:54.182969Z",
     "shell.execute_reply": "2022-07-21T14:32:54.181849Z"
    },
    "papermill": {
     "duration": 0.016939,
     "end_time": "2022-07-21T14:32:54.185300",
     "exception": false,
     "start_time": "2022-07-21T14:32:54.168361",
     "status": "completed"
    },
    "tags": []
   },
   "outputs": [],
   "source": [
    "###\n",
    "\n",
    "INFERENCE = True # set to False if you only want to cross-validate\n",
    "\n",
    "ONLY_FIRST_FOLD = False   ### WAS False\n",
    "\n",
    "# FILL NAN VALUE\n",
    "NAN_VALUE = -127 # will fit in int8"
   ]
  },
  {
   "cell_type": "code",
   "execution_count": 54,
   "id": "21da40da",
   "metadata": {
    "_kg_hide-input": false,
    "execution": {
     "iopub.execute_input": "2022-07-21T14:32:54.203593Z",
     "iopub.status.busy": "2022-07-21T14:32:54.203178Z",
     "iopub.status.idle": "2022-07-21T14:32:54.214151Z",
     "shell.execute_reply": "2022-07-21T14:32:54.213187Z"
    },
    "papermill": {
     "duration": 0.0225,
     "end_time": "2022-07-21T14:32:54.216068",
     "exception": false,
     "start_time": "2022-07-21T14:32:54.193568",
     "status": "completed"
    },
    "tags": []
   },
   "outputs": [],
   "source": [
    "# @yunchonggan's fast metric implementation\n",
    "# From https://www.kaggle.com/competitions/amex-default-prediction/discussion/328020\n",
    "def amex_metric(y_true: np.array, y_pred: np.array) -> float:\n",
    "\n",
    "    # count of positives and negatives\n",
    "    n_pos = y_true.sum()\n",
    "    n_neg = y_true.shape[0] - n_pos\n",
    "\n",
    "    # sorting by descring prediction values\n",
    "    indices = np.argsort(y_pred)[::-1]\n",
    "    preds, target = y_pred[indices], y_true[indices]\n",
    "\n",
    "    # filter the top 4% by cumulative row weights\n",
    "    weight = 20.0 - target * 19.0\n",
    "    cum_norm_weight = (weight / weight.sum()).cumsum()\n",
    "    four_pct_filter = cum_norm_weight <= 0.04\n",
    "\n",
    "    # default rate captured at 4%\n",
    "    d = target[four_pct_filter].sum() / n_pos\n",
    "\n",
    "    # weighted gini coefficient\n",
    "    lorentz = (target / n_pos).cumsum()\n",
    "    gini = ((lorentz - cum_norm_weight) * weight).sum()\n",
    "\n",
    "    # max weighted gini coefficient\n",
    "    gini_max = 10 * n_neg * (1 - 19 / (n_pos + 20 * n_neg))\n",
    "\n",
    "    # normalized weighted gini coefficient\n",
    "    g = gini / gini_max\n",
    "\n",
    "    return 0.5 * (g + d)\n",
    "\n",
    "def lgb_amex_metric(y_true, y_pred):\n",
    "    \"\"\"The competition metric with lightgbm's calling convention\"\"\"\n",
    "    return ('amex',\n",
    "            amex_metric(y_true, y_pred),\n",
    "            True)"
   ]
  },
  {
   "cell_type": "markdown",
   "id": "2982eaa3",
   "metadata": {
    "papermill": {
     "duration": 0.007845,
     "end_time": "2022-07-21T14:32:54.231666",
     "exception": false,
     "start_time": "2022-07-21T14:32:54.223821",
     "status": "completed"
    },
    "tags": []
   },
   "source": [
    "# Reading and preprocessing the data\n",
    "\n",
    "We read the data from @raddar's [dataset](https://www.kaggle.com/datasets/raddar/amex-data-integer-dtypes-parquet-format). @raddar has [denoised the data](https://www.kaggle.com/competitions/amex-default-prediction/discussion/328514) so that we can achieve better results with his dataset than with the original competition csv files.\n",
    "\n",
    "Then we create three groups of features:\n",
    "- Selected features averaged over all statements of a customer\n",
    "- The minimum or maximum of selected features over all statements of a customer\n",
    "- Selected features taken from the last statement of a customer\n",
    "\n",
    "The code has been optimized for memory efficiency rather than readability. In particular, `.iloc[mask_array, columns]` needs much less RAM than the groupby construction used in a previous version of the notebook.\n",
    "\n",
    "Preprocessing for LightGBM is much simpler than for neural networks:\n",
    "1. Neural networks can't process missing values; LightGBM handles them automatically.\n",
    "1. Categorical features need to be one-hot encoded for neural networks; LightGBM handles them automatically.\n",
    "1. With neural networks, you need to think about outliers; tree-based algorithms deal with outliers easily.\n",
    "1. Neural networks need scaled inputs; tree-based algorithms don't depend on scaling."
   ]
  },
  {
   "cell_type": "code",
   "execution_count": 55,
   "id": "d902b820",
   "metadata": {
    "execution": {
     "iopub.execute_input": "2022-07-21T14:32:54.248867Z",
     "iopub.status.busy": "2022-07-21T14:32:54.248220Z",
     "iopub.status.idle": "2022-07-21T14:33:09.808055Z",
     "shell.execute_reply": "2022-07-21T14:33:09.806496Z"
    },
    "papermill": {
     "duration": 15.571172,
     "end_time": "2022-07-21T14:33:09.810557",
     "exception": false,
     "start_time": "2022-07-21T14:32:54.239385",
     "status": "completed"
    },
    "tags": []
   },
   "outputs": [
    {
     "name": "stdout",
     "output_type": "stream",
     "text": [
      "188\n",
      "Index(['P_2', 'D_39', 'B_1', 'B_2', 'R_1', 'S_3', 'D_41', 'B_3', 'D_42',\n",
      "       'D_43',\n",
      "       ...\n",
      "       'D_136', 'D_137', 'D_138', 'D_139', 'D_140', 'D_141', 'D_142', 'D_143',\n",
      "       'D_144', 'D_145'],\n",
      "      dtype='object', length=188)\n",
      "148\n",
      "Index(['P_2', 'D_39', 'R_1', 'S_3', 'D_41', 'D_42', 'D_43', 'D_44', 'D_45',\n",
      "       'R_2',\n",
      "       ...\n",
      "       'D_136', 'D_137', 'D_138', 'D_139', 'D_140', 'D_141', 'D_142', 'D_143',\n",
      "       'D_144', 'D_145'],\n",
      "      dtype='object', length=148)\n"
     ]
    },
    {
     "data": {
      "text/plain": [
       "33378"
      ]
     },
     "execution_count": 55,
     "metadata": {},
     "output_type": "execute_result"
    }
   ],
   "source": [
    "### Added\n",
    "\n",
    "from pyarrow.parquet import ParquetFile\n",
    "import pyarrow as pa \n",
    "\n",
    "pf = ParquetFile(f'./input/amex-data-integer-dtypes-parquet-format/train.parquet') \n",
    "first_ten_rows = next(pf.iter_batches(batch_size = 10)) \n",
    "df = pa.Table.from_batches([first_ten_rows]).to_pandas() \n",
    "\n",
    "df.drop(columns=['customer_ID', 'S_2'], inplace=True)   ### These are not used in original code below\n",
    "all_features = df.columns\n",
    "print(str(len(all_features)))\n",
    "print(str(all_features))\n",
    "\n",
    "cat_cols=['Balance 30', 'Balance 38', 'Delinquency 63', 'Delinquency 64', 'Delinquency 66', 'Delinquency 68',\n",
    "          'Delinquency 114', 'Delinquency 116', 'Delinquency 117', 'Delinquency 120', 'Delinquency 126', 'Target']\n",
    "cols=[col for col in df.columns if (col.startswith(('B'))) & (col not in cat_cols[:-1])]\n",
    "### DROP R_ cols TO SAVE RAM for this test\n",
    "df.drop(columns=cols, inplace=True)\n",
    "\n",
    "all_features = df.columns\n",
    "print(str(len(all_features)))\n",
    "print(str(all_features))\n",
    "\n",
    "del pf,first_ten_rows,df\n",
    "gc.collect()"
   ]
  },
  {
   "cell_type": "code",
   "execution_count": 56,
   "id": "5e87be98",
   "metadata": {
    "execution": {
     "iopub.execute_input": "2022-07-21T14:33:09.830289Z",
     "iopub.status.busy": "2022-07-21T14:33:09.829861Z",
     "iopub.status.idle": "2022-07-21T14:33:09.866161Z",
     "shell.execute_reply": "2022-07-21T14:33:09.865042Z"
    },
    "papermill": {
     "duration": 0.048929,
     "end_time": "2022-07-21T14:33:09.868604",
     "exception": false,
     "start_time": "2022-07-21T14:33:09.819675",
     "status": "completed"
    },
    "tags": []
   },
   "outputs": [
    {
     "name": "stdout",
     "output_type": "stream",
     "text": [
      "Original feature sets...\n",
      "140\n",
      "63\n",
      "124\n",
      "142\n",
      "\n",
      "Revised features to be used: \n",
      "142\n",
      "['B_1', 'B_2', 'B_3', 'B_4', 'B_5', 'B_6', 'B_7', 'B_8', 'B_9', 'B_10', 'B_11', 'B_12', 'B_13', 'B_14', 'B_15', 'B_16', 'B_17', 'B_18', 'B_19', 'B_20', 'B_21', 'B_22', 'B_23', 'B_24', 'B_25', 'B_26', 'B_28', 'B_29', 'B_30', 'B_32', 'B_33', 'B_36', 'B_37', 'B_38', 'B_39', 'B_40', 'B_41', 'B_42', 'D_39', 'D_41', 'D_42', 'D_43', 'D_44', 'D_45', 'D_46', 'D_47', 'D_48', 'D_49', 'D_50', 'D_51', 'D_52', 'D_53', 'D_54', 'D_55', 'D_56', 'D_58', 'D_59', 'D_60', 'D_61', 'D_62', 'D_63', 'D_64', 'D_65', 'D_69', 'D_70', 'D_71', 'D_72', 'D_73', 'D_75', 'D_76', 'D_77', 'D_78', 'D_79', 'D_80', 'D_81', 'D_82', 'D_83', 'D_86', 'D_91', 'D_96', 'D_105', 'D_106', 'D_112', 'D_114', 'D_119', 'D_120', 'D_121', 'D_122', 'D_124', 'D_125', 'D_126', 'D_127', 'D_130', 'D_131', 'D_132', 'D_133', 'D_134', 'D_138', 'D_140', 'D_141', 'D_142', 'D_145', 'P_2', 'P_3', 'P_4', 'R_1', 'R_2', 'R_3', 'R_4', 'R_5', 'R_6', 'R_7', 'R_8', 'R_9', 'R_10', 'R_11', 'R_12', 'R_13', 'R_14', 'R_15', 'R_19', 'R_20', 'R_26', 'R_27', 'S_3', 'S_5', 'S_6', 'S_7', 'S_8', 'S_9', 'S_11', 'S_12', 'S_13', 'S_16', 'S_19', 'S_20', 'S_22', 'S_23', 'S_24', 'S_25', 'S_26', 'S_27']\n",
      "\n",
      "Revised features sets...\n",
      "142\n",
      "142\n",
      "142\n",
      "142\n"
     ]
    }
   ],
   "source": [
    "### ORIG\n",
    "print('Original feature sets...')\n",
    "features_avg = ['B_1', 'B_2', 'B_3', 'B_4', 'B_5', 'B_6', 'B_8', 'B_9', 'B_10', 'B_11', 'B_12', 'B_13', 'B_14', 'B_15', 'B_16', 'B_17', 'B_18', 'B_19', 'B_20', 'B_21', 'B_22', 'B_23', 'B_24', 'B_25', 'B_28', 'B_29', 'B_30', 'B_32', 'B_33', 'B_37', 'B_38', 'B_39', 'B_40', 'B_41', 'B_42', 'D_39', 'D_41', 'D_42', 'D_43', 'D_44', 'D_45', 'D_46', 'D_47', 'D_48', 'D_50', 'D_51', 'D_53', 'D_54', 'D_55', 'D_58', 'D_59', 'D_60', 'D_61', 'D_62', 'D_65', 'D_66', 'D_69', 'D_70', 'D_71', 'D_72', 'D_73', 'D_74', 'D_75', 'D_76', 'D_77', 'D_78', 'D_80', 'D_82', 'D_84', 'D_86', 'D_91', 'D_92', 'D_94', 'D_96', 'D_103', 'D_104', 'D_108', 'D_112', 'D_113', 'D_114', 'D_115', 'D_117', 'D_118', 'D_119', 'D_120', 'D_121', 'D_122', 'D_123', 'D_124', 'D_125', 'D_126', 'D_128', 'D_129', 'D_131', 'D_132', 'D_133', 'D_134', 'D_135', 'D_136', 'D_140', 'D_141', 'D_142', 'D_144', 'D_145', 'P_2', 'P_3', 'P_4', 'R_1', 'R_2', 'R_3', 'R_7', 'R_8', 'R_9', 'R_10', 'R_11', 'R_14', 'R_15', 'R_16', 'R_17', 'R_20', 'R_21', 'R_22', 'R_24', 'R_26', 'R_27', 'S_3', 'S_5', 'S_6', 'S_7', 'S_9', 'S_11', 'S_12', 'S_13', 'S_15', 'S_16', 'S_18', 'S_22', 'S_23', 'S_25', 'S_26']\n",
    "features_min = ['B_2', 'B_4', 'B_5', 'B_9', 'B_13', 'B_14', 'B_15', 'B_16', 'B_17', 'B_19', 'B_20', 'B_28', 'B_29', 'B_33', 'B_36', 'B_42', 'D_39', 'D_41', 'D_42', 'D_45', 'D_46', 'D_48', 'D_50', 'D_51', 'D_53', 'D_55', 'D_56', 'D_58', 'D_59', 'D_60', 'D_62', 'D_70', 'D_71', 'D_74', 'D_75', 'D_78', 'D_83', 'D_102', 'D_112', 'D_113', 'D_115', 'D_118', 'D_119', 'D_121', 'D_122', 'D_128', 'D_132', 'D_140', 'D_141', 'D_144', 'D_145', 'P_2', 'P_3', 'R_1', 'R_27', 'S_3', 'S_5', 'S_7', 'S_9', 'S_11', 'S_12', 'S_23', 'S_25']\n",
    "features_max = ['B_1', 'B_2', 'B_3', 'B_4', 'B_5', 'B_6', 'B_7', 'B_8', 'B_9', 'B_10', 'B_12', 'B_13', 'B_14', 'B_15', 'B_16', 'B_17', 'B_18', 'B_19', 'B_21', 'B_23', 'B_24', 'B_25', 'B_29', 'B_30', 'B_33', 'B_37', 'B_38', 'B_39', 'B_40', 'B_42', 'D_39', 'D_41', 'D_42', 'D_43', 'D_44', 'D_45', 'D_46', 'D_47', 'D_48', 'D_49', 'D_50', 'D_52', 'D_55', 'D_56', 'D_58', 'D_59', 'D_60', 'D_61', 'D_63', 'D_64', 'D_65', 'D_70', 'D_71', 'D_72', 'D_73', 'D_74', 'D_76', 'D_77', 'D_78', 'D_80', 'D_82', 'D_84', 'D_91', 'D_102', 'D_105', 'D_107', 'D_110', 'D_111', 'D_112', 'D_115', 'D_116', 'D_117', 'D_118', 'D_119', 'D_121', 'D_122', 'D_123', 'D_124', 'D_125', 'D_126', 'D_128', 'D_131', 'D_132', 'D_133', 'D_134', 'D_135', 'D_136', 'D_138', 'D_140', 'D_141', 'D_142', 'D_144', 'D_145', 'P_2', 'P_3', 'P_4', 'R_1', 'R_3', 'R_5', 'R_6', 'R_7', 'R_8', 'R_10', 'R_11', 'R_14', 'R_17', 'R_20', 'R_26', 'R_27', 'S_3', 'S_5', 'S_7', 'S_8', 'S_11', 'S_12', 'S_13', 'S_15', 'S_16', 'S_22', 'S_23', 'S_24', 'S_25', 'S_26', 'S_27']\n",
    "features_last = ['B_1', 'B_2', 'B_3', 'B_4', 'B_5', 'B_6', 'B_7', 'B_8', 'B_9', 'B_10', 'B_11', 'B_12', 'B_13', 'B_14', 'B_15', 'B_16', 'B_17', 'B_18', 'B_19', 'B_20', 'B_21', 'B_22', 'B_23', 'B_24', 'B_25', 'B_26', 'B_28', 'B_29', 'B_30', 'B_32', 'B_33', 'B_36', 'B_37', 'B_38', 'B_39', 'B_40', 'B_41', 'B_42', 'D_39', 'D_41', 'D_42', 'D_43', 'D_44', 'D_45', 'D_46', 'D_47', 'D_48', 'D_49', 'D_50', 'D_51', 'D_52', 'D_53', 'D_54', 'D_55', 'D_56', 'D_58', 'D_59', 'D_60', 'D_61', 'D_62', 'D_63', 'D_64', 'D_65', 'D_69', 'D_70', 'D_71', 'D_72', 'D_73', 'D_75', 'D_76', 'D_77', 'D_78', 'D_79', 'D_80', 'D_81', 'D_82', 'D_83', 'D_86', 'D_91', 'D_96', 'D_105', 'D_106', 'D_112', 'D_114', 'D_119', 'D_120', 'D_121', 'D_122', 'D_124', 'D_125', 'D_126', 'D_127', 'D_130', 'D_131', 'D_132', 'D_133', 'D_134', 'D_138', 'D_140', 'D_141', 'D_142', 'D_145', 'P_2', 'P_3', 'P_4', 'R_1', 'R_2', 'R_3', 'R_4', 'R_5', 'R_6', 'R_7', 'R_8', 'R_9', 'R_10', 'R_11', 'R_12', 'R_13', 'R_14', 'R_15', 'R_19', 'R_20', 'R_26', 'R_27', 'S_3', 'S_5', 'S_6', 'S_7', 'S_8', 'S_9', 'S_11', 'S_12', 'S_13', 'S_16', 'S_19', 'S_20', 'S_22', 'S_23', 'S_24', 'S_25', 'S_26', 'S_27']\n",
    "print(str(len(features_avg)))\n",
    "print(str(len(features_min)))\n",
    "print(str(len(features_max)))\n",
    "print(str(len(features_last)))\n",
    "print()\n",
    "\n",
    "### REVISED\n",
    "print('Revised features to be used: ')\n",
    "features_to_use = features_last\n",
    "# features_to_use = all_features\n",
    "print(str(len(features_to_use)))\n",
    "print(str(features_to_use))\n",
    "print()\n",
    "\n",
    "print('Revised features sets...')\n",
    "features_avg = features_to_use\n",
    "features_min = features_to_use\n",
    "features_max = features_to_use\n",
    "features_last = features_to_use\n",
    "print(str(len(features_avg)))\n",
    "print(str(len(features_min)))\n",
    "print(str(len(features_max)))\n",
    "print(str(len(features_last)))"
   ]
  },
  {
   "cell_type": "code",
   "execution_count": 57,
   "id": "f60e548c",
   "metadata": {
    "execution": {
     "iopub.execute_input": "2022-07-21T14:33:09.887715Z",
     "iopub.status.busy": "2022-07-21T14:33:09.887255Z",
     "iopub.status.idle": "2022-07-21T14:33:09.900274Z",
     "shell.execute_reply": "2022-07-21T14:33:09.899126Z"
    },
    "papermill": {
     "duration": 0.02624,
     "end_time": "2022-07-21T14:33:09.903055",
     "exception": false,
     "start_time": "2022-07-21T14:33:09.876815",
     "status": "completed"
    },
    "tags": []
   },
   "outputs": [],
   "source": [
    "### ADAPTED FROM ---> https://www.kaggle.com/code/glaskosk/xgboost-starter-0-793?scriptVersionId=101352220\n",
    "\n",
    "def process_and_feature_engineer(df):\n",
    "    # FEATURE ENGINEERING FROM \n",
    "    # https://www.kaggle.com/code/huseyincot/amex-agg-data-how-it-created\n",
    "    all_cols = [c for c in list(df.columns) if c not in ['customer_ID','S_2']]\n",
    "    cat_features = [\"B_30\",\"B_38\",\"D_114\",\"D_116\",\"D_117\",\"D_120\",\"D_126\",\"D_63\",\"D_64\",\"D_66\",\"D_68\"]\n",
    "    num_features = [col for col in all_cols if col not in cat_features]\n",
    "    print(str(len(num_features)))\n",
    "\n",
    "#     test_num_agg = df.groupby(\"customer_ID\")[num_features].agg(['mean', 'std', 'min', 'max', 'last']) ### ORIG\n",
    "    test_num_agg = df.groupby(\"customer_ID\")[num_features].agg(['first','last','mean',  'median','std', 'min', 'max'])\n",
    "    test_num_agg.columns = ['_'.join(x) for x in test_num_agg.columns]\n",
    "#     test_num_agg.reset_index(inplace = True)\n",
    "    \n",
    "    # Lag Features\n",
    "    for col in test_num_agg:\n",
    "        if 'last' in col and col.replace('last', 'first') in test_num_agg:\n",
    "#             test_num_agg[col + '_lag_sub'] = test_num_agg[col] - test_num_agg[col.replace('last', 'first')]\n",
    "            test_num_agg[col + '_lag_div'] = test_num_agg[col] / (test_num_agg[col.replace('last', 'first')] + 0.000001)\n",
    "\n",
    "#     test_cat_agg = df.groupby(\"customer_ID\")[cat_features].agg(['count', 'last', 'nunique'])   ### ORIG\n",
    "    ### TRY other options\n",
    "    test_cat_agg = df.groupby(\"customer_ID\")[cat_features].agg(['count', 'last', 'nunique', 'first']) ### TRY other options\n",
    "    test_cat_agg.columns = ['_'.join(x) for x in test_cat_agg.columns]\n",
    "#     test_cat_agg.reset_index(inplace = True)\n",
    "    \n",
    "#     test_new_agg = df.groupby(\"customer_ID\")['B_30'].agg(['size'])\n",
    "#     test_new_agg.columns = ['_'.join(x) for x in test_new_agg.columns]   \n",
    "\n",
    "#     test_diff = get_difference(df, num_features)    \n",
    "    \n",
    "    df = pd.concat([test_num_agg, test_cat_agg], axis=1)   ### ORIG\n",
    "    #df = cudf.concat([test_num_agg], axis=1)\n",
    "    #df = test_num_agg.merge(test_cat_agg, how = 'inner', on = 'customer_ID')\n",
    "    #df = cudf.test_num_agg\n",
    "\n",
    "#     df = cudf.concat([test_num_agg, test_cat_agg, test_new_agg], axis=1)\n",
    "#     df = test_num_agg.merge(test_cat_agg, how = 'inner', on = 'customer_ID').merge(train_diff, how = 'inner', on = 'customer_ID')\n",
    "                            #.merge(train_labels, how = 'inner', on = 'customer_ID')\n",
    "    \n",
    "    del test_num_agg, test_cat_agg   ### ORIG\n",
    "#     del test_num_agg, test_cat_agg, test_diff # test_new_agg,\n",
    "    print('shape after engineering', df.shape )\n",
    "    \n",
    "    # ERR  df = df.replace([np.inf, -np.inf], 0,inplace=True).astype('float32')\n",
    "    # ERR df = df.replace([np.inf, -np.inf], np.nan).dropna(axis=1)\n",
    "    # ERR df = df.replace([np.inf], np.nan, inplace=True)\n",
    "    # ERR df = df.replace([np.inf], np.nan, inplace=True)\n",
    "    df = df.fillna(NAN_VALUE) \n",
    "    return df\n",
    "\n",
    "# train = process_and_feature_engineer(train)\n",
    "# print(str(len(train)))\n",
    "#train.P_2_last_lag_sub"
   ]
  },
  {
   "cell_type": "code",
   "execution_count": 58,
   "id": "1622323c",
   "metadata": {
    "execution": {
     "iopub.execute_input": "2022-07-21T14:33:09.925057Z",
     "iopub.status.busy": "2022-07-21T14:33:09.924674Z",
     "iopub.status.idle": "2022-07-21T14:35:06.010531Z",
     "shell.execute_reply": "2022-07-21T14:35:06.009257Z"
    },
    "papermill": {
     "duration": 116.09915,
     "end_time": "2022-07-21T14:35:06.012892",
     "exception": false,
     "start_time": "2022-07-21T14:33:09.913742",
     "status": "completed"
    },
    "tags": []
   },
   "outputs": [
    {
     "name": "stdout",
     "output_type": "stream",
     "text": [
      "orig num cols: 190\n",
      "NEW num cols: 148\n",
      "135\n"
     ]
    },
    {
     "name": "stderr",
     "output_type": "stream",
     "text": [
      "C:\\Users\\jackm\\AppData\\Local\\Temp\\ipykernel_10336\\3482045390.py:20: PerformanceWarning:\n",
      "\n",
      "DataFrame is highly fragmented.  This is usually the result of calling `frame.insert` many times, which has poor performance.  Consider joining all columns at once using pd.concat(axis=1) instead. To get a de-fragmented frame, use `newframe = frame.copy()`\n",
      "\n",
      "C:\\Users\\jackm\\AppData\\Local\\Temp\\ipykernel_10336\\3482045390.py:20: PerformanceWarning:\n",
      "\n",
      "DataFrame is highly fragmented.  This is usually the result of calling `frame.insert` many times, which has poor performance.  Consider joining all columns at once using pd.concat(axis=1) instead. To get a de-fragmented frame, use `newframe = frame.copy()`\n",
      "\n",
      "C:\\Users\\jackm\\AppData\\Local\\Temp\\ipykernel_10336\\3482045390.py:20: PerformanceWarning:\n",
      "\n",
      "DataFrame is highly fragmented.  This is usually the result of calling `frame.insert` many times, which has poor performance.  Consider joining all columns at once using pd.concat(axis=1) instead. To get a de-fragmented frame, use `newframe = frame.copy()`\n",
      "\n",
      "C:\\Users\\jackm\\AppData\\Local\\Temp\\ipykernel_10336\\3482045390.py:20: PerformanceWarning:\n",
      "\n",
      "DataFrame is highly fragmented.  This is usually the result of calling `frame.insert` many times, which has poor performance.  Consider joining all columns at once using pd.concat(axis=1) instead. To get a de-fragmented frame, use `newframe = frame.copy()`\n",
      "\n",
      "C:\\Users\\jackm\\AppData\\Local\\Temp\\ipykernel_10336\\3482045390.py:20: PerformanceWarning:\n",
      "\n",
      "DataFrame is highly fragmented.  This is usually the result of calling `frame.insert` many times, which has poor performance.  Consider joining all columns at once using pd.concat(axis=1) instead. To get a de-fragmented frame, use `newframe = frame.copy()`\n",
      "\n",
      "C:\\Users\\jackm\\AppData\\Local\\Temp\\ipykernel_10336\\3482045390.py:20: PerformanceWarning:\n",
      "\n",
      "DataFrame is highly fragmented.  This is usually the result of calling `frame.insert` many times, which has poor performance.  Consider joining all columns at once using pd.concat(axis=1) instead. To get a de-fragmented frame, use `newframe = frame.copy()`\n",
      "\n",
      "C:\\Users\\jackm\\AppData\\Local\\Temp\\ipykernel_10336\\3482045390.py:20: PerformanceWarning:\n",
      "\n",
      "DataFrame is highly fragmented.  This is usually the result of calling `frame.insert` many times, which has poor performance.  Consider joining all columns at once using pd.concat(axis=1) instead. To get a de-fragmented frame, use `newframe = frame.copy()`\n",
      "\n",
      "C:\\Users\\jackm\\AppData\\Local\\Temp\\ipykernel_10336\\3482045390.py:20: PerformanceWarning:\n",
      "\n",
      "DataFrame is highly fragmented.  This is usually the result of calling `frame.insert` many times, which has poor performance.  Consider joining all columns at once using pd.concat(axis=1) instead. To get a de-fragmented frame, use `newframe = frame.copy()`\n",
      "\n",
      "C:\\Users\\jackm\\AppData\\Local\\Temp\\ipykernel_10336\\3482045390.py:20: PerformanceWarning:\n",
      "\n",
      "DataFrame is highly fragmented.  This is usually the result of calling `frame.insert` many times, which has poor performance.  Consider joining all columns at once using pd.concat(axis=1) instead. To get a de-fragmented frame, use `newframe = frame.copy()`\n",
      "\n",
      "C:\\Users\\jackm\\AppData\\Local\\Temp\\ipykernel_10336\\3482045390.py:20: PerformanceWarning:\n",
      "\n",
      "DataFrame is highly fragmented.  This is usually the result of calling `frame.insert` many times, which has poor performance.  Consider joining all columns at once using pd.concat(axis=1) instead. To get a de-fragmented frame, use `newframe = frame.copy()`\n",
      "\n",
      "C:\\Users\\jackm\\AppData\\Local\\Temp\\ipykernel_10336\\3482045390.py:20: PerformanceWarning:\n",
      "\n",
      "DataFrame is highly fragmented.  This is usually the result of calling `frame.insert` many times, which has poor performance.  Consider joining all columns at once using pd.concat(axis=1) instead. To get a de-fragmented frame, use `newframe = frame.copy()`\n",
      "\n",
      "C:\\Users\\jackm\\AppData\\Local\\Temp\\ipykernel_10336\\3482045390.py:20: PerformanceWarning:\n",
      "\n",
      "DataFrame is highly fragmented.  This is usually the result of calling `frame.insert` many times, which has poor performance.  Consider joining all columns at once using pd.concat(axis=1) instead. To get a de-fragmented frame, use `newframe = frame.copy()`\n",
      "\n",
      "C:\\Users\\jackm\\AppData\\Local\\Temp\\ipykernel_10336\\3482045390.py:20: PerformanceWarning:\n",
      "\n",
      "DataFrame is highly fragmented.  This is usually the result of calling `frame.insert` many times, which has poor performance.  Consider joining all columns at once using pd.concat(axis=1) instead. To get a de-fragmented frame, use `newframe = frame.copy()`\n",
      "\n",
      "C:\\Users\\jackm\\AppData\\Local\\Temp\\ipykernel_10336\\3482045390.py:20: PerformanceWarning:\n",
      "\n",
      "DataFrame is highly fragmented.  This is usually the result of calling `frame.insert` many times, which has poor performance.  Consider joining all columns at once using pd.concat(axis=1) instead. To get a de-fragmented frame, use `newframe = frame.copy()`\n",
      "\n",
      "C:\\Users\\jackm\\AppData\\Local\\Temp\\ipykernel_10336\\3482045390.py:20: PerformanceWarning:\n",
      "\n",
      "DataFrame is highly fragmented.  This is usually the result of calling `frame.insert` many times, which has poor performance.  Consider joining all columns at once using pd.concat(axis=1) instead. To get a de-fragmented frame, use `newframe = frame.copy()`\n",
      "\n",
      "C:\\Users\\jackm\\AppData\\Local\\Temp\\ipykernel_10336\\3482045390.py:20: PerformanceWarning:\n",
      "\n",
      "DataFrame is highly fragmented.  This is usually the result of calling `frame.insert` many times, which has poor performance.  Consider joining all columns at once using pd.concat(axis=1) instead. To get a de-fragmented frame, use `newframe = frame.copy()`\n",
      "\n",
      "C:\\Users\\jackm\\AppData\\Local\\Temp\\ipykernel_10336\\3482045390.py:20: PerformanceWarning:\n",
      "\n",
      "DataFrame is highly fragmented.  This is usually the result of calling `frame.insert` many times, which has poor performance.  Consider joining all columns at once using pd.concat(axis=1) instead. To get a de-fragmented frame, use `newframe = frame.copy()`\n",
      "\n",
      "C:\\Users\\jackm\\AppData\\Local\\Temp\\ipykernel_10336\\3482045390.py:20: PerformanceWarning:\n",
      "\n",
      "DataFrame is highly fragmented.  This is usually the result of calling `frame.insert` many times, which has poor performance.  Consider joining all columns at once using pd.concat(axis=1) instead. To get a de-fragmented frame, use `newframe = frame.copy()`\n",
      "\n",
      "C:\\Users\\jackm\\AppData\\Local\\Temp\\ipykernel_10336\\3482045390.py:20: PerformanceWarning:\n",
      "\n",
      "DataFrame is highly fragmented.  This is usually the result of calling `frame.insert` many times, which has poor performance.  Consider joining all columns at once using pd.concat(axis=1) instead. To get a de-fragmented frame, use `newframe = frame.copy()`\n",
      "\n",
      "C:\\Users\\jackm\\AppData\\Local\\Temp\\ipykernel_10336\\3482045390.py:20: PerformanceWarning:\n",
      "\n",
      "DataFrame is highly fragmented.  This is usually the result of calling `frame.insert` many times, which has poor performance.  Consider joining all columns at once using pd.concat(axis=1) instead. To get a de-fragmented frame, use `newframe = frame.copy()`\n",
      "\n",
      "C:\\Users\\jackm\\AppData\\Local\\Temp\\ipykernel_10336\\3482045390.py:20: PerformanceWarning:\n",
      "\n",
      "DataFrame is highly fragmented.  This is usually the result of calling `frame.insert` many times, which has poor performance.  Consider joining all columns at once using pd.concat(axis=1) instead. To get a de-fragmented frame, use `newframe = frame.copy()`\n",
      "\n",
      "C:\\Users\\jackm\\AppData\\Local\\Temp\\ipykernel_10336\\3482045390.py:20: PerformanceWarning:\n",
      "\n",
      "DataFrame is highly fragmented.  This is usually the result of calling `frame.insert` many times, which has poor performance.  Consider joining all columns at once using pd.concat(axis=1) instead. To get a de-fragmented frame, use `newframe = frame.copy()`\n",
      "\n",
      "C:\\Users\\jackm\\AppData\\Local\\Temp\\ipykernel_10336\\3482045390.py:20: PerformanceWarning:\n",
      "\n",
      "DataFrame is highly fragmented.  This is usually the result of calling `frame.insert` many times, which has poor performance.  Consider joining all columns at once using pd.concat(axis=1) instead. To get a de-fragmented frame, use `newframe = frame.copy()`\n",
      "\n",
      "C:\\Users\\jackm\\AppData\\Local\\Temp\\ipykernel_10336\\3482045390.py:20: PerformanceWarning:\n",
      "\n",
      "DataFrame is highly fragmented.  This is usually the result of calling `frame.insert` many times, which has poor performance.  Consider joining all columns at once using pd.concat(axis=1) instead. To get a de-fragmented frame, use `newframe = frame.copy()`\n",
      "\n",
      "C:\\Users\\jackm\\AppData\\Local\\Temp\\ipykernel_10336\\3482045390.py:20: PerformanceWarning:\n",
      "\n",
      "DataFrame is highly fragmented.  This is usually the result of calling `frame.insert` many times, which has poor performance.  Consider joining all columns at once using pd.concat(axis=1) instead. To get a de-fragmented frame, use `newframe = frame.copy()`\n",
      "\n",
      "C:\\Users\\jackm\\AppData\\Local\\Temp\\ipykernel_10336\\3482045390.py:20: PerformanceWarning:\n",
      "\n",
      "DataFrame is highly fragmented.  This is usually the result of calling `frame.insert` many times, which has poor performance.  Consider joining all columns at once using pd.concat(axis=1) instead. To get a de-fragmented frame, use `newframe = frame.copy()`\n",
      "\n",
      "C:\\Users\\jackm\\AppData\\Local\\Temp\\ipykernel_10336\\3482045390.py:20: PerformanceWarning:\n",
      "\n",
      "DataFrame is highly fragmented.  This is usually the result of calling `frame.insert` many times, which has poor performance.  Consider joining all columns at once using pd.concat(axis=1) instead. To get a de-fragmented frame, use `newframe = frame.copy()`\n",
      "\n",
      "C:\\Users\\jackm\\AppData\\Local\\Temp\\ipykernel_10336\\3482045390.py:20: PerformanceWarning:\n",
      "\n",
      "DataFrame is highly fragmented.  This is usually the result of calling `frame.insert` many times, which has poor performance.  Consider joining all columns at once using pd.concat(axis=1) instead. To get a de-fragmented frame, use `newframe = frame.copy()`\n",
      "\n",
      "C:\\Users\\jackm\\AppData\\Local\\Temp\\ipykernel_10336\\3482045390.py:20: PerformanceWarning:\n",
      "\n",
      "DataFrame is highly fragmented.  This is usually the result of calling `frame.insert` many times, which has poor performance.  Consider joining all columns at once using pd.concat(axis=1) instead. To get a de-fragmented frame, use `newframe = frame.copy()`\n",
      "\n",
      "C:\\Users\\jackm\\AppData\\Local\\Temp\\ipykernel_10336\\3482045390.py:20: PerformanceWarning:\n",
      "\n",
      "DataFrame is highly fragmented.  This is usually the result of calling `frame.insert` many times, which has poor performance.  Consider joining all columns at once using pd.concat(axis=1) instead. To get a de-fragmented frame, use `newframe = frame.copy()`\n",
      "\n",
      "C:\\Users\\jackm\\AppData\\Local\\Temp\\ipykernel_10336\\3482045390.py:20: PerformanceWarning:\n",
      "\n",
      "DataFrame is highly fragmented.  This is usually the result of calling `frame.insert` many times, which has poor performance.  Consider joining all columns at once using pd.concat(axis=1) instead. To get a de-fragmented frame, use `newframe = frame.copy()`\n",
      "\n",
      "C:\\Users\\jackm\\AppData\\Local\\Temp\\ipykernel_10336\\3482045390.py:20: PerformanceWarning:\n",
      "\n",
      "DataFrame is highly fragmented.  This is usually the result of calling `frame.insert` many times, which has poor performance.  Consider joining all columns at once using pd.concat(axis=1) instead. To get a de-fragmented frame, use `newframe = frame.copy()`\n",
      "\n",
      "C:\\Users\\jackm\\AppData\\Local\\Temp\\ipykernel_10336\\3482045390.py:20: PerformanceWarning:\n",
      "\n",
      "DataFrame is highly fragmented.  This is usually the result of calling `frame.insert` many times, which has poor performance.  Consider joining all columns at once using pd.concat(axis=1) instead. To get a de-fragmented frame, use `newframe = frame.copy()`\n",
      "\n",
      "C:\\Users\\jackm\\AppData\\Local\\Temp\\ipykernel_10336\\3482045390.py:20: PerformanceWarning:\n",
      "\n",
      "DataFrame is highly fragmented.  This is usually the result of calling `frame.insert` many times, which has poor performance.  Consider joining all columns at once using pd.concat(axis=1) instead. To get a de-fragmented frame, use `newframe = frame.copy()`\n",
      "\n",
      "C:\\Users\\jackm\\AppData\\Local\\Temp\\ipykernel_10336\\3482045390.py:20: PerformanceWarning:\n",
      "\n",
      "DataFrame is highly fragmented.  This is usually the result of calling `frame.insert` many times, which has poor performance.  Consider joining all columns at once using pd.concat(axis=1) instead. To get a de-fragmented frame, use `newframe = frame.copy()`\n",
      "\n",
      "C:\\Users\\jackm\\AppData\\Local\\Temp\\ipykernel_10336\\3482045390.py:20: PerformanceWarning:\n",
      "\n",
      "DataFrame is highly fragmented.  This is usually the result of calling `frame.insert` many times, which has poor performance.  Consider joining all columns at once using pd.concat(axis=1) instead. To get a de-fragmented frame, use `newframe = frame.copy()`\n",
      "\n",
      "C:\\Users\\jackm\\AppData\\Local\\Temp\\ipykernel_10336\\3482045390.py:20: PerformanceWarning:\n",
      "\n",
      "DataFrame is highly fragmented.  This is usually the result of calling `frame.insert` many times, which has poor performance.  Consider joining all columns at once using pd.concat(axis=1) instead. To get a de-fragmented frame, use `newframe = frame.copy()`\n",
      "\n",
      "C:\\Users\\jackm\\AppData\\Local\\Temp\\ipykernel_10336\\3482045390.py:20: PerformanceWarning:\n",
      "\n",
      "DataFrame is highly fragmented.  This is usually the result of calling `frame.insert` many times, which has poor performance.  Consider joining all columns at once using pd.concat(axis=1) instead. To get a de-fragmented frame, use `newframe = frame.copy()`\n",
      "\n",
      "C:\\Users\\jackm\\AppData\\Local\\Temp\\ipykernel_10336\\3482045390.py:20: PerformanceWarning:\n",
      "\n",
      "DataFrame is highly fragmented.  This is usually the result of calling `frame.insert` many times, which has poor performance.  Consider joining all columns at once using pd.concat(axis=1) instead. To get a de-fragmented frame, use `newframe = frame.copy()`\n",
      "\n"
     ]
    },
    {
     "name": "stdout",
     "output_type": "stream",
     "text": [
      "shape after engineering (924621, 1124)\n",
      "test shape: (924621, 1124)\n",
      "orig num cols: 190\n",
      "NEW num cols: 148\n",
      "135\n"
     ]
    },
    {
     "name": "stderr",
     "output_type": "stream",
     "text": [
      "C:\\Users\\jackm\\AppData\\Local\\Temp\\ipykernel_10336\\3482045390.py:20: PerformanceWarning:\n",
      "\n",
      "DataFrame is highly fragmented.  This is usually the result of calling `frame.insert` many times, which has poor performance.  Consider joining all columns at once using pd.concat(axis=1) instead. To get a de-fragmented frame, use `newframe = frame.copy()`\n",
      "\n",
      "C:\\Users\\jackm\\AppData\\Local\\Temp\\ipykernel_10336\\3482045390.py:20: PerformanceWarning:\n",
      "\n",
      "DataFrame is highly fragmented.  This is usually the result of calling `frame.insert` many times, which has poor performance.  Consider joining all columns at once using pd.concat(axis=1) instead. To get a de-fragmented frame, use `newframe = frame.copy()`\n",
      "\n",
      "C:\\Users\\jackm\\AppData\\Local\\Temp\\ipykernel_10336\\3482045390.py:20: PerformanceWarning:\n",
      "\n",
      "DataFrame is highly fragmented.  This is usually the result of calling `frame.insert` many times, which has poor performance.  Consider joining all columns at once using pd.concat(axis=1) instead. To get a de-fragmented frame, use `newframe = frame.copy()`\n",
      "\n",
      "C:\\Users\\jackm\\AppData\\Local\\Temp\\ipykernel_10336\\3482045390.py:20: PerformanceWarning:\n",
      "\n",
      "DataFrame is highly fragmented.  This is usually the result of calling `frame.insert` many times, which has poor performance.  Consider joining all columns at once using pd.concat(axis=1) instead. To get a de-fragmented frame, use `newframe = frame.copy()`\n",
      "\n",
      "C:\\Users\\jackm\\AppData\\Local\\Temp\\ipykernel_10336\\3482045390.py:20: PerformanceWarning:\n",
      "\n",
      "DataFrame is highly fragmented.  This is usually the result of calling `frame.insert` many times, which has poor performance.  Consider joining all columns at once using pd.concat(axis=1) instead. To get a de-fragmented frame, use `newframe = frame.copy()`\n",
      "\n",
      "C:\\Users\\jackm\\AppData\\Local\\Temp\\ipykernel_10336\\3482045390.py:20: PerformanceWarning:\n",
      "\n",
      "DataFrame is highly fragmented.  This is usually the result of calling `frame.insert` many times, which has poor performance.  Consider joining all columns at once using pd.concat(axis=1) instead. To get a de-fragmented frame, use `newframe = frame.copy()`\n",
      "\n",
      "C:\\Users\\jackm\\AppData\\Local\\Temp\\ipykernel_10336\\3482045390.py:20: PerformanceWarning:\n",
      "\n",
      "DataFrame is highly fragmented.  This is usually the result of calling `frame.insert` many times, which has poor performance.  Consider joining all columns at once using pd.concat(axis=1) instead. To get a de-fragmented frame, use `newframe = frame.copy()`\n",
      "\n",
      "C:\\Users\\jackm\\AppData\\Local\\Temp\\ipykernel_10336\\3482045390.py:20: PerformanceWarning:\n",
      "\n",
      "DataFrame is highly fragmented.  This is usually the result of calling `frame.insert` many times, which has poor performance.  Consider joining all columns at once using pd.concat(axis=1) instead. To get a de-fragmented frame, use `newframe = frame.copy()`\n",
      "\n",
      "C:\\Users\\jackm\\AppData\\Local\\Temp\\ipykernel_10336\\3482045390.py:20: PerformanceWarning:\n",
      "\n",
      "DataFrame is highly fragmented.  This is usually the result of calling `frame.insert` many times, which has poor performance.  Consider joining all columns at once using pd.concat(axis=1) instead. To get a de-fragmented frame, use `newframe = frame.copy()`\n",
      "\n",
      "C:\\Users\\jackm\\AppData\\Local\\Temp\\ipykernel_10336\\3482045390.py:20: PerformanceWarning:\n",
      "\n",
      "DataFrame is highly fragmented.  This is usually the result of calling `frame.insert` many times, which has poor performance.  Consider joining all columns at once using pd.concat(axis=1) instead. To get a de-fragmented frame, use `newframe = frame.copy()`\n",
      "\n",
      "C:\\Users\\jackm\\AppData\\Local\\Temp\\ipykernel_10336\\3482045390.py:20: PerformanceWarning:\n",
      "\n",
      "DataFrame is highly fragmented.  This is usually the result of calling `frame.insert` many times, which has poor performance.  Consider joining all columns at once using pd.concat(axis=1) instead. To get a de-fragmented frame, use `newframe = frame.copy()`\n",
      "\n",
      "C:\\Users\\jackm\\AppData\\Local\\Temp\\ipykernel_10336\\3482045390.py:20: PerformanceWarning:\n",
      "\n",
      "DataFrame is highly fragmented.  This is usually the result of calling `frame.insert` many times, which has poor performance.  Consider joining all columns at once using pd.concat(axis=1) instead. To get a de-fragmented frame, use `newframe = frame.copy()`\n",
      "\n",
      "C:\\Users\\jackm\\AppData\\Local\\Temp\\ipykernel_10336\\3482045390.py:20: PerformanceWarning:\n",
      "\n",
      "DataFrame is highly fragmented.  This is usually the result of calling `frame.insert` many times, which has poor performance.  Consider joining all columns at once using pd.concat(axis=1) instead. To get a de-fragmented frame, use `newframe = frame.copy()`\n",
      "\n",
      "C:\\Users\\jackm\\AppData\\Local\\Temp\\ipykernel_10336\\3482045390.py:20: PerformanceWarning:\n",
      "\n",
      "DataFrame is highly fragmented.  This is usually the result of calling `frame.insert` many times, which has poor performance.  Consider joining all columns at once using pd.concat(axis=1) instead. To get a de-fragmented frame, use `newframe = frame.copy()`\n",
      "\n",
      "C:\\Users\\jackm\\AppData\\Local\\Temp\\ipykernel_10336\\3482045390.py:20: PerformanceWarning:\n",
      "\n",
      "DataFrame is highly fragmented.  This is usually the result of calling `frame.insert` many times, which has poor performance.  Consider joining all columns at once using pd.concat(axis=1) instead. To get a de-fragmented frame, use `newframe = frame.copy()`\n",
      "\n",
      "C:\\Users\\jackm\\AppData\\Local\\Temp\\ipykernel_10336\\3482045390.py:20: PerformanceWarning:\n",
      "\n",
      "DataFrame is highly fragmented.  This is usually the result of calling `frame.insert` many times, which has poor performance.  Consider joining all columns at once using pd.concat(axis=1) instead. To get a de-fragmented frame, use `newframe = frame.copy()`\n",
      "\n",
      "C:\\Users\\jackm\\AppData\\Local\\Temp\\ipykernel_10336\\3482045390.py:20: PerformanceWarning:\n",
      "\n",
      "DataFrame is highly fragmented.  This is usually the result of calling `frame.insert` many times, which has poor performance.  Consider joining all columns at once using pd.concat(axis=1) instead. To get a de-fragmented frame, use `newframe = frame.copy()`\n",
      "\n",
      "C:\\Users\\jackm\\AppData\\Local\\Temp\\ipykernel_10336\\3482045390.py:20: PerformanceWarning:\n",
      "\n",
      "DataFrame is highly fragmented.  This is usually the result of calling `frame.insert` many times, which has poor performance.  Consider joining all columns at once using pd.concat(axis=1) instead. To get a de-fragmented frame, use `newframe = frame.copy()`\n",
      "\n",
      "C:\\Users\\jackm\\AppData\\Local\\Temp\\ipykernel_10336\\3482045390.py:20: PerformanceWarning:\n",
      "\n",
      "DataFrame is highly fragmented.  This is usually the result of calling `frame.insert` many times, which has poor performance.  Consider joining all columns at once using pd.concat(axis=1) instead. To get a de-fragmented frame, use `newframe = frame.copy()`\n",
      "\n",
      "C:\\Users\\jackm\\AppData\\Local\\Temp\\ipykernel_10336\\3482045390.py:20: PerformanceWarning:\n",
      "\n",
      "DataFrame is highly fragmented.  This is usually the result of calling `frame.insert` many times, which has poor performance.  Consider joining all columns at once using pd.concat(axis=1) instead. To get a de-fragmented frame, use `newframe = frame.copy()`\n",
      "\n",
      "C:\\Users\\jackm\\AppData\\Local\\Temp\\ipykernel_10336\\3482045390.py:20: PerformanceWarning:\n",
      "\n",
      "DataFrame is highly fragmented.  This is usually the result of calling `frame.insert` many times, which has poor performance.  Consider joining all columns at once using pd.concat(axis=1) instead. To get a de-fragmented frame, use `newframe = frame.copy()`\n",
      "\n",
      "C:\\Users\\jackm\\AppData\\Local\\Temp\\ipykernel_10336\\3482045390.py:20: PerformanceWarning:\n",
      "\n",
      "DataFrame is highly fragmented.  This is usually the result of calling `frame.insert` many times, which has poor performance.  Consider joining all columns at once using pd.concat(axis=1) instead. To get a de-fragmented frame, use `newframe = frame.copy()`\n",
      "\n",
      "C:\\Users\\jackm\\AppData\\Local\\Temp\\ipykernel_10336\\3482045390.py:20: PerformanceWarning:\n",
      "\n",
      "DataFrame is highly fragmented.  This is usually the result of calling `frame.insert` many times, which has poor performance.  Consider joining all columns at once using pd.concat(axis=1) instead. To get a de-fragmented frame, use `newframe = frame.copy()`\n",
      "\n",
      "C:\\Users\\jackm\\AppData\\Local\\Temp\\ipykernel_10336\\3482045390.py:20: PerformanceWarning:\n",
      "\n",
      "DataFrame is highly fragmented.  This is usually the result of calling `frame.insert` many times, which has poor performance.  Consider joining all columns at once using pd.concat(axis=1) instead. To get a de-fragmented frame, use `newframe = frame.copy()`\n",
      "\n",
      "C:\\Users\\jackm\\AppData\\Local\\Temp\\ipykernel_10336\\3482045390.py:20: PerformanceWarning:\n",
      "\n",
      "DataFrame is highly fragmented.  This is usually the result of calling `frame.insert` many times, which has poor performance.  Consider joining all columns at once using pd.concat(axis=1) instead. To get a de-fragmented frame, use `newframe = frame.copy()`\n",
      "\n",
      "C:\\Users\\jackm\\AppData\\Local\\Temp\\ipykernel_10336\\3482045390.py:20: PerformanceWarning:\n",
      "\n",
      "DataFrame is highly fragmented.  This is usually the result of calling `frame.insert` many times, which has poor performance.  Consider joining all columns at once using pd.concat(axis=1) instead. To get a de-fragmented frame, use `newframe = frame.copy()`\n",
      "\n",
      "C:\\Users\\jackm\\AppData\\Local\\Temp\\ipykernel_10336\\3482045390.py:20: PerformanceWarning:\n",
      "\n",
      "DataFrame is highly fragmented.  This is usually the result of calling `frame.insert` many times, which has poor performance.  Consider joining all columns at once using pd.concat(axis=1) instead. To get a de-fragmented frame, use `newframe = frame.copy()`\n",
      "\n",
      "C:\\Users\\jackm\\AppData\\Local\\Temp\\ipykernel_10336\\3482045390.py:20: PerformanceWarning:\n",
      "\n",
      "DataFrame is highly fragmented.  This is usually the result of calling `frame.insert` many times, which has poor performance.  Consider joining all columns at once using pd.concat(axis=1) instead. To get a de-fragmented frame, use `newframe = frame.copy()`\n",
      "\n",
      "C:\\Users\\jackm\\AppData\\Local\\Temp\\ipykernel_10336\\3482045390.py:20: PerformanceWarning:\n",
      "\n",
      "DataFrame is highly fragmented.  This is usually the result of calling `frame.insert` many times, which has poor performance.  Consider joining all columns at once using pd.concat(axis=1) instead. To get a de-fragmented frame, use `newframe = frame.copy()`\n",
      "\n",
      "C:\\Users\\jackm\\AppData\\Local\\Temp\\ipykernel_10336\\3482045390.py:20: PerformanceWarning:\n",
      "\n",
      "DataFrame is highly fragmented.  This is usually the result of calling `frame.insert` many times, which has poor performance.  Consider joining all columns at once using pd.concat(axis=1) instead. To get a de-fragmented frame, use `newframe = frame.copy()`\n",
      "\n",
      "C:\\Users\\jackm\\AppData\\Local\\Temp\\ipykernel_10336\\3482045390.py:20: PerformanceWarning:\n",
      "\n",
      "DataFrame is highly fragmented.  This is usually the result of calling `frame.insert` many times, which has poor performance.  Consider joining all columns at once using pd.concat(axis=1) instead. To get a de-fragmented frame, use `newframe = frame.copy()`\n",
      "\n",
      "C:\\Users\\jackm\\AppData\\Local\\Temp\\ipykernel_10336\\3482045390.py:20: PerformanceWarning:\n",
      "\n",
      "DataFrame is highly fragmented.  This is usually the result of calling `frame.insert` many times, which has poor performance.  Consider joining all columns at once using pd.concat(axis=1) instead. To get a de-fragmented frame, use `newframe = frame.copy()`\n",
      "\n",
      "C:\\Users\\jackm\\AppData\\Local\\Temp\\ipykernel_10336\\3482045390.py:20: PerformanceWarning:\n",
      "\n",
      "DataFrame is highly fragmented.  This is usually the result of calling `frame.insert` many times, which has poor performance.  Consider joining all columns at once using pd.concat(axis=1) instead. To get a de-fragmented frame, use `newframe = frame.copy()`\n",
      "\n",
      "C:\\Users\\jackm\\AppData\\Local\\Temp\\ipykernel_10336\\3482045390.py:20: PerformanceWarning:\n",
      "\n",
      "DataFrame is highly fragmented.  This is usually the result of calling `frame.insert` many times, which has poor performance.  Consider joining all columns at once using pd.concat(axis=1) instead. To get a de-fragmented frame, use `newframe = frame.copy()`\n",
      "\n",
      "C:\\Users\\jackm\\AppData\\Local\\Temp\\ipykernel_10336\\3482045390.py:20: PerformanceWarning:\n",
      "\n",
      "DataFrame is highly fragmented.  This is usually the result of calling `frame.insert` many times, which has poor performance.  Consider joining all columns at once using pd.concat(axis=1) instead. To get a de-fragmented frame, use `newframe = frame.copy()`\n",
      "\n",
      "C:\\Users\\jackm\\AppData\\Local\\Temp\\ipykernel_10336\\3482045390.py:20: PerformanceWarning:\n",
      "\n",
      "DataFrame is highly fragmented.  This is usually the result of calling `frame.insert` many times, which has poor performance.  Consider joining all columns at once using pd.concat(axis=1) instead. To get a de-fragmented frame, use `newframe = frame.copy()`\n",
      "\n",
      "C:\\Users\\jackm\\AppData\\Local\\Temp\\ipykernel_10336\\3482045390.py:20: PerformanceWarning:\n",
      "\n",
      "DataFrame is highly fragmented.  This is usually the result of calling `frame.insert` many times, which has poor performance.  Consider joining all columns at once using pd.concat(axis=1) instead. To get a de-fragmented frame, use `newframe = frame.copy()`\n",
      "\n",
      "C:\\Users\\jackm\\AppData\\Local\\Temp\\ipykernel_10336\\3482045390.py:20: PerformanceWarning:\n",
      "\n",
      "DataFrame is highly fragmented.  This is usually the result of calling `frame.insert` many times, which has poor performance.  Consider joining all columns at once using pd.concat(axis=1) instead. To get a de-fragmented frame, use `newframe = frame.copy()`\n",
      "\n",
      "C:\\Users\\jackm\\AppData\\Local\\Temp\\ipykernel_10336\\3482045390.py:20: PerformanceWarning:\n",
      "\n",
      "DataFrame is highly fragmented.  This is usually the result of calling `frame.insert` many times, which has poor performance.  Consider joining all columns at once using pd.concat(axis=1) instead. To get a de-fragmented frame, use `newframe = frame.copy()`\n",
      "\n"
     ]
    },
    {
     "name": "stdout",
     "output_type": "stream",
     "text": [
      "shape after engineering (458913, 1124)\n",
      "train shape: (458913, 1124)\n",
      "CPU times: total: 4min 9s\n",
      "Wall time: 3min 15s\n"
     ]
    }
   ],
   "source": [
    "%%time\n",
    "for i in ['test', 'train'] if INFERENCE else ['train']:\n",
    "    df = pd.read_parquet(f'./input/amex-data-integer-dtypes-parquet-format/{i}.parquet')\n",
    "    \n",
    "    ### Just keep select features (not enough ARAM for all features)\n",
    "    cat_features = [\"B_30\",\"B_38\",\"D_114\",\"D_116\",\"D_117\",\"D_120\",\"D_126\",\"D_63\",\"D_64\",\"D_66\",\"D_68\"]\n",
    "    cat_cols=['Balance 30', 'Balance 38', 'Delinquency 63', 'Delinquency 64', 'Delinquency 66', 'Delinquency 68',\n",
    "          'Delinquency 114', 'Delinquency 116', 'Delinquency 117', 'Delinquency 120', 'Delinquency 126', 'Target']\n",
    "    cols_to_keep = features_to_use + cat_cols + cat_features + ['customer_ID', 'S_2']\n",
    "    cols_to_drop=[col for col in df.columns if (col not in cols_to_keep)]\n",
    "    ### DROP R_ cols TO SAVE RAM for this test\n",
    "    print('orig num cols: ' + str(len(df.columns)))\n",
    "    df.drop(columns=cols_to_drop, inplace=True)\n",
    "    gc.collect()\n",
    "    print('NEW num cols: ' + str(len(df.columns)))\n",
    "    \n",
    "    df = process_and_feature_engineer(df)\n",
    "    \n",
    "#     cid = pd.Categorical(df.pop('customer_ID'), ordered=True)\n",
    "#     last = (cid != np.roll(cid, -1)) # mask for last statement of every customer\n",
    "#     first = (cid != np.roll(cid, 0))   ### does this get first? - verify\n",
    "#     if 'target' in df.columns:\n",
    "#         df.drop(columns=['target'], inplace=True)\n",
    "#     gc.collect()\n",
    "#     print('Read', i)\n",
    "#     df_avg = (df\n",
    "#               .groupby(cid)\n",
    "#               .mean()[features_avg]\n",
    "#               .rename(columns={f: f\"{f}_avg\" for f in features_avg})\n",
    "#              )\n",
    "#     gc.collect()\n",
    "#     print('Computed avg', i)\n",
    "#     df_min = (df\n",
    "#               .groupby(cid)\n",
    "#               .min()[features_min]\n",
    "#               .rename(columns={f: f\"{f}_min\" for f in features_min})\n",
    "#              )\n",
    "#     gc.collect()\n",
    "#     print('Computed min', i)\n",
    "#     df_max = (df\n",
    "#               .groupby(cid)\n",
    "#               .max()[features_max]\n",
    "#               .rename(columns={f: f\"{f}_max\" for f in features_max})\n",
    "#              )\n",
    "#     gc.collect()\n",
    "#     print('Computed max', i)\n",
    "#     df = (df.loc[last, features_last]\n",
    "#           .rename(columns={f: f\"{f}_last\" for f in features_last})\n",
    "#           .set_index(np.asarray(cid[last]))\n",
    "#          )\n",
    "#     gc.collect()\n",
    "#     print('Computed last', i)\n",
    "    \n",
    "#     df = (df.loc[first, features_last]\n",
    "#           .rename(columns={f: f\"{f}_first\" for f in features_last})\n",
    "#           .set_index(np.asarray(cid[first]))\n",
    "#          )\n",
    "#     gc.collect()\n",
    "#     print('Computed first', i)\n",
    "    \n",
    "#     # Lag Features\n",
    "#     for col in df:\n",
    "#         if 'last' in col and col.replace('last', 'first') in df:\n",
    "#             df[col + '_lag_sub'] = df[col] - df[col.replace('last', 'first')]\n",
    "#             df[col + '_lag_div'] = df[col] / (df[col.replace('last', 'first')] + 0.000001)\n",
    "#     print('Added lag features', i)\n",
    "    \n",
    "#     df = pd.concat([df, df_min, df_max, df_avg], axis=1)\n",
    "    \n",
    "    if i == 'train': train = df\n",
    "    else: test = df\n",
    "    print(f\"{i} shape: {df.shape}\")\n",
    "\n",
    "    del df   ###, df_avg, df_min, df_max, cid, last"
   ]
  },
  {
   "cell_type": "code",
   "execution_count": 59,
   "id": "db490f28",
   "metadata": {
    "execution": {
     "iopub.execute_input": "2022-07-21T14:35:06.032071Z",
     "iopub.status.busy": "2022-07-21T14:35:06.031143Z",
     "iopub.status.idle": "2022-07-21T14:35:06.979212Z",
     "shell.execute_reply": "2022-07-21T14:35:06.977699Z"
    },
    "papermill": {
     "duration": 0.960127,
     "end_time": "2022-07-21T14:35:06.981411",
     "exception": false,
     "start_time": "2022-07-21T14:35:06.021284",
     "status": "completed"
    },
    "tags": []
   },
   "outputs": [
    {
     "name": "stdout",
     "output_type": "stream",
     "text": [
      "target shape: (458913,)\n"
     ]
    }
   ],
   "source": [
    "target = pd.read_csv('./input/amex-default-prediction/train_labels.csv').target.values\n",
    "print(f\"target shape: {target.shape}\")"
   ]
  },
  {
   "cell_type": "code",
   "execution_count": 60,
   "id": "f120b2ff",
   "metadata": {
    "execution": {
     "iopub.execute_input": "2022-07-21T14:35:06.999772Z",
     "iopub.status.busy": "2022-07-21T14:35:06.999364Z",
     "iopub.status.idle": "2022-07-21T14:35:07.243759Z",
     "shell.execute_reply": "2022-07-21T14:35:07.242621Z"
    },
    "papermill": {
     "duration": 0.256605,
     "end_time": "2022-07-21T14:35:07.246475",
     "exception": false,
     "start_time": "2022-07-21T14:35:06.989870",
     "status": "completed"
    },
    "tags": []
   },
   "outputs": [
    {
     "data": {
      "text/html": [
       "<div>\n",
       "<style scoped>\n",
       "    .dataframe tbody tr th:only-of-type {\n",
       "        vertical-align: middle;\n",
       "    }\n",
       "\n",
       "    .dataframe tbody tr th {\n",
       "        vertical-align: top;\n",
       "    }\n",
       "\n",
       "    .dataframe thead th {\n",
       "        text-align: right;\n",
       "    }\n",
       "</style>\n",
       "<table border=\"1\" class=\"dataframe\">\n",
       "  <thead>\n",
       "    <tr style=\"text-align: right;\">\n",
       "      <th></th>\n",
       "      <th>P_2_first</th>\n",
       "      <th>P_2_last</th>\n",
       "      <th>P_2_mean</th>\n",
       "      <th>P_2_median</th>\n",
       "      <th>P_2_std</th>\n",
       "      <th>P_2_min</th>\n",
       "      <th>P_2_max</th>\n",
       "      <th>D_39_first</th>\n",
       "      <th>D_39_last</th>\n",
       "      <th>D_39_mean</th>\n",
       "      <th>...</th>\n",
       "      <th>D_64_nunique</th>\n",
       "      <th>D_64_first</th>\n",
       "      <th>D_66_count</th>\n",
       "      <th>D_66_last</th>\n",
       "      <th>D_66_nunique</th>\n",
       "      <th>D_66_first</th>\n",
       "      <th>D_68_count</th>\n",
       "      <th>D_68_last</th>\n",
       "      <th>D_68_nunique</th>\n",
       "      <th>D_68_first</th>\n",
       "    </tr>\n",
       "    <tr>\n",
       "      <th>customer_ID</th>\n",
       "      <th></th>\n",
       "      <th></th>\n",
       "      <th></th>\n",
       "      <th></th>\n",
       "      <th></th>\n",
       "      <th></th>\n",
       "      <th></th>\n",
       "      <th></th>\n",
       "      <th></th>\n",
       "      <th></th>\n",
       "      <th></th>\n",
       "      <th></th>\n",
       "      <th></th>\n",
       "      <th></th>\n",
       "      <th></th>\n",
       "      <th></th>\n",
       "      <th></th>\n",
       "      <th></th>\n",
       "      <th></th>\n",
       "      <th></th>\n",
       "      <th></th>\n",
       "    </tr>\n",
       "  </thead>\n",
       "  <tbody>\n",
       "    <tr>\n",
       "      <th>0000099d6bd597052cdcda90ffabf56573fe9d7c79be5fbac11a8ed792feb62a</th>\n",
       "      <td>0.938469</td>\n",
       "      <td>0.934745</td>\n",
       "      <td>0.933824</td>\n",
       "      <td>0.938469</td>\n",
       "      <td>0.024194</td>\n",
       "      <td>0.868580</td>\n",
       "      <td>0.960384</td>\n",
       "      <td>0</td>\n",
       "      <td>0</td>\n",
       "      <td>0.230769</td>\n",
       "      <td>...</td>\n",
       "      <td>1</td>\n",
       "      <td>0</td>\n",
       "      <td>13</td>\n",
       "      <td>-1</td>\n",
       "      <td>1</td>\n",
       "      <td>-1</td>\n",
       "      <td>13</td>\n",
       "      <td>6</td>\n",
       "      <td>1</td>\n",
       "      <td>6</td>\n",
       "    </tr>\n",
       "    <tr>\n",
       "      <th>00000fd6641609c6ece5454664794f0340ad84dddce9a267a310b5ae68e9d8e5</th>\n",
       "      <td>0.929122</td>\n",
       "      <td>0.880519</td>\n",
       "      <td>0.899820</td>\n",
       "      <td>0.904814</td>\n",
       "      <td>0.022119</td>\n",
       "      <td>0.861109</td>\n",
       "      <td>0.929122</td>\n",
       "      <td>13</td>\n",
       "      <td>6</td>\n",
       "      <td>7.153846</td>\n",
       "      <td>...</td>\n",
       "      <td>1</td>\n",
       "      <td>0</td>\n",
       "      <td>13</td>\n",
       "      <td>-1</td>\n",
       "      <td>1</td>\n",
       "      <td>-1</td>\n",
       "      <td>13</td>\n",
       "      <td>6</td>\n",
       "      <td>1</td>\n",
       "      <td>6</td>\n",
       "    </tr>\n",
       "    <tr>\n",
       "      <th>00001b22f846c82c51f6e3958ccd81970162bae8b007e80662ef27519fcc18c1</th>\n",
       "      <td>0.876615</td>\n",
       "      <td>0.880875</td>\n",
       "      <td>0.878454</td>\n",
       "      <td>0.884522</td>\n",
       "      <td>0.028911</td>\n",
       "      <td>0.797670</td>\n",
       "      <td>0.904482</td>\n",
       "      <td>0</td>\n",
       "      <td>0</td>\n",
       "      <td>0.000000</td>\n",
       "      <td>...</td>\n",
       "      <td>1</td>\n",
       "      <td>2</td>\n",
       "      <td>13</td>\n",
       "      <td>-1</td>\n",
       "      <td>1</td>\n",
       "      <td>-1</td>\n",
       "      <td>13</td>\n",
       "      <td>6</td>\n",
       "      <td>1</td>\n",
       "      <td>6</td>\n",
       "    </tr>\n",
       "    <tr>\n",
       "      <th>000041bdba6ecadd89a52d11886e8eaaec9325906c9723355abb5ca523658edc</th>\n",
       "      <td>0.567442</td>\n",
       "      <td>0.621776</td>\n",
       "      <td>0.598969</td>\n",
       "      <td>0.598278</td>\n",
       "      <td>0.020107</td>\n",
       "      <td>0.567442</td>\n",
       "      <td>0.623392</td>\n",
       "      <td>9</td>\n",
       "      <td>0</td>\n",
       "      <td>1.538462</td>\n",
       "      <td>...</td>\n",
       "      <td>1</td>\n",
       "      <td>0</td>\n",
       "      <td>13</td>\n",
       "      <td>-1</td>\n",
       "      <td>1</td>\n",
       "      <td>-1</td>\n",
       "      <td>13</td>\n",
       "      <td>3</td>\n",
       "      <td>3</td>\n",
       "      <td>2</td>\n",
       "    </tr>\n",
       "    <tr>\n",
       "      <th>00007889e4fcd2614b6cbe7f8f3d2e5c728eca32d9eb8ad51ca8b8c4a24cefed</th>\n",
       "      <td>0.936842</td>\n",
       "      <td>0.871900</td>\n",
       "      <td>0.891679</td>\n",
       "      <td>0.879238</td>\n",
       "      <td>0.042325</td>\n",
       "      <td>0.805045</td>\n",
       "      <td>0.940382</td>\n",
       "      <td>0</td>\n",
       "      <td>0</td>\n",
       "      <td>0.000000</td>\n",
       "      <td>...</td>\n",
       "      <td>1</td>\n",
       "      <td>0</td>\n",
       "      <td>13</td>\n",
       "      <td>1</td>\n",
       "      <td>1</td>\n",
       "      <td>1</td>\n",
       "      <td>13</td>\n",
       "      <td>6</td>\n",
       "      <td>1</td>\n",
       "      <td>6</td>\n",
       "    </tr>\n",
       "    <tr>\n",
       "      <th>...</th>\n",
       "      <td>...</td>\n",
       "      <td>...</td>\n",
       "      <td>...</td>\n",
       "      <td>...</td>\n",
       "      <td>...</td>\n",
       "      <td>...</td>\n",
       "      <td>...</td>\n",
       "      <td>...</td>\n",
       "      <td>...</td>\n",
       "      <td>...</td>\n",
       "      <td>...</td>\n",
       "      <td>...</td>\n",
       "      <td>...</td>\n",
       "      <td>...</td>\n",
       "      <td>...</td>\n",
       "      <td>...</td>\n",
       "      <td>...</td>\n",
       "      <td>...</td>\n",
       "      <td>...</td>\n",
       "      <td>...</td>\n",
       "      <td>...</td>\n",
       "    </tr>\n",
       "    <tr>\n",
       "      <th>ffff41c8a52833b56430603969b9ca48d208e7c192c6a4081a6acc28cf4f8af7</th>\n",
       "      <td>0.859869</td>\n",
       "      <td>0.844229</td>\n",
       "      <td>0.848750</td>\n",
       "      <td>0.859869</td>\n",
       "      <td>0.041969</td>\n",
       "      <td>0.730505</td>\n",
       "      <td>0.895553</td>\n",
       "      <td>3</td>\n",
       "      <td>15</td>\n",
       "      <td>3.846154</td>\n",
       "      <td>...</td>\n",
       "      <td>1</td>\n",
       "      <td>3</td>\n",
       "      <td>13</td>\n",
       "      <td>1</td>\n",
       "      <td>1</td>\n",
       "      <td>1</td>\n",
       "      <td>13</td>\n",
       "      <td>6</td>\n",
       "      <td>1</td>\n",
       "      <td>6</td>\n",
       "    </tr>\n",
       "    <tr>\n",
       "      <th>ffff518bb2075e4816ee3fe9f3b152c57fc0e6f01bf7fdd3e5b57cfcbee30286</th>\n",
       "      <td>0.863153</td>\n",
       "      <td>0.831279</td>\n",
       "      <td>0.859327</td>\n",
       "      <td>0.864945</td>\n",
       "      <td>0.012425</td>\n",
       "      <td>0.831279</td>\n",
       "      <td>0.868121</td>\n",
       "      <td>0</td>\n",
       "      <td>1</td>\n",
       "      <td>2.076923</td>\n",
       "      <td>...</td>\n",
       "      <td>1</td>\n",
       "      <td>2</td>\n",
       "      <td>13</td>\n",
       "      <td>-1</td>\n",
       "      <td>1</td>\n",
       "      <td>-1</td>\n",
       "      <td>13</td>\n",
       "      <td>6</td>\n",
       "      <td>1</td>\n",
       "      <td>6</td>\n",
       "    </tr>\n",
       "    <tr>\n",
       "      <th>ffff9984b999fccb2b6127635ed0736dda94e544e67e026eee4d20f680639ff6</th>\n",
       "      <td>0.793724</td>\n",
       "      <td>0.800522</td>\n",
       "      <td>0.786838</td>\n",
       "      <td>0.793587</td>\n",
       "      <td>0.014312</td>\n",
       "      <td>0.756983</td>\n",
       "      <td>0.802953</td>\n",
       "      <td>18</td>\n",
       "      <td>9</td>\n",
       "      <td>7.384615</td>\n",
       "      <td>...</td>\n",
       "      <td>1</td>\n",
       "      <td>3</td>\n",
       "      <td>13</td>\n",
       "      <td>-1</td>\n",
       "      <td>1</td>\n",
       "      <td>-1</td>\n",
       "      <td>13</td>\n",
       "      <td>5</td>\n",
       "      <td>1</td>\n",
       "      <td>5</td>\n",
       "    </tr>\n",
       "    <tr>\n",
       "      <th>ffffa5c46bc8de74f5a4554e74e239c8dee6b9baf388145b2c3d01967fcce461</th>\n",
       "      <td>0.856981</td>\n",
       "      <td>0.754129</td>\n",
       "      <td>0.804454</td>\n",
       "      <td>0.791680</td>\n",
       "      <td>0.037442</td>\n",
       "      <td>0.754129</td>\n",
       "      <td>0.856981</td>\n",
       "      <td>0</td>\n",
       "      <td>0</td>\n",
       "      <td>0.923077</td>\n",
       "      <td>...</td>\n",
       "      <td>2</td>\n",
       "      <td>3</td>\n",
       "      <td>13</td>\n",
       "      <td>-1</td>\n",
       "      <td>1</td>\n",
       "      <td>-1</td>\n",
       "      <td>13</td>\n",
       "      <td>3</td>\n",
       "      <td>2</td>\n",
       "      <td>4</td>\n",
       "    </tr>\n",
       "    <tr>\n",
       "      <th>fffff1d38b785cef84adeace64f8f83db3a0c31e8d92eaba8b115f71cab04681</th>\n",
       "      <td>0.999057</td>\n",
       "      <td>0.982175</td>\n",
       "      <td>0.983617</td>\n",
       "      <td>0.982175</td>\n",
       "      <td>0.012879</td>\n",
       "      <td>0.965709</td>\n",
       "      <td>1.005768</td>\n",
       "      <td>7</td>\n",
       "      <td>0</td>\n",
       "      <td>9.769231</td>\n",
       "      <td>...</td>\n",
       "      <td>2</td>\n",
       "      <td>3</td>\n",
       "      <td>13</td>\n",
       "      <td>-1</td>\n",
       "      <td>1</td>\n",
       "      <td>-1</td>\n",
       "      <td>13</td>\n",
       "      <td>5</td>\n",
       "      <td>2</td>\n",
       "      <td>6</td>\n",
       "    </tr>\n",
       "  </tbody>\n",
       "</table>\n",
       "<p>458913 rows × 1124 columns</p>\n",
       "</div>"
      ],
      "text/plain": [
       "                                                    P_2_first  P_2_last  \\\n",
       "customer_ID                                                               \n",
       "0000099d6bd597052cdcda90ffabf56573fe9d7c79be5fb...   0.938469  0.934745   \n",
       "00000fd6641609c6ece5454664794f0340ad84dddce9a26...   0.929122  0.880519   \n",
       "00001b22f846c82c51f6e3958ccd81970162bae8b007e80...   0.876615  0.880875   \n",
       "000041bdba6ecadd89a52d11886e8eaaec9325906c97233...   0.567442  0.621776   \n",
       "00007889e4fcd2614b6cbe7f8f3d2e5c728eca32d9eb8ad...   0.936842  0.871900   \n",
       "...                                                       ...       ...   \n",
       "ffff41c8a52833b56430603969b9ca48d208e7c192c6a40...   0.859869  0.844229   \n",
       "ffff518bb2075e4816ee3fe9f3b152c57fc0e6f01bf7fdd...   0.863153  0.831279   \n",
       "ffff9984b999fccb2b6127635ed0736dda94e544e67e026...   0.793724  0.800522   \n",
       "ffffa5c46bc8de74f5a4554e74e239c8dee6b9baf388145...   0.856981  0.754129   \n",
       "fffff1d38b785cef84adeace64f8f83db3a0c31e8d92eab...   0.999057  0.982175   \n",
       "\n",
       "                                                    P_2_mean  P_2_median  \\\n",
       "customer_ID                                                                \n",
       "0000099d6bd597052cdcda90ffabf56573fe9d7c79be5fb...  0.933824    0.938469   \n",
       "00000fd6641609c6ece5454664794f0340ad84dddce9a26...  0.899820    0.904814   \n",
       "00001b22f846c82c51f6e3958ccd81970162bae8b007e80...  0.878454    0.884522   \n",
       "000041bdba6ecadd89a52d11886e8eaaec9325906c97233...  0.598969    0.598278   \n",
       "00007889e4fcd2614b6cbe7f8f3d2e5c728eca32d9eb8ad...  0.891679    0.879238   \n",
       "...                                                      ...         ...   \n",
       "ffff41c8a52833b56430603969b9ca48d208e7c192c6a40...  0.848750    0.859869   \n",
       "ffff518bb2075e4816ee3fe9f3b152c57fc0e6f01bf7fdd...  0.859327    0.864945   \n",
       "ffff9984b999fccb2b6127635ed0736dda94e544e67e026...  0.786838    0.793587   \n",
       "ffffa5c46bc8de74f5a4554e74e239c8dee6b9baf388145...  0.804454    0.791680   \n",
       "fffff1d38b785cef84adeace64f8f83db3a0c31e8d92eab...  0.983617    0.982175   \n",
       "\n",
       "                                                     P_2_std   P_2_min  \\\n",
       "customer_ID                                                              \n",
       "0000099d6bd597052cdcda90ffabf56573fe9d7c79be5fb...  0.024194  0.868580   \n",
       "00000fd6641609c6ece5454664794f0340ad84dddce9a26...  0.022119  0.861109   \n",
       "00001b22f846c82c51f6e3958ccd81970162bae8b007e80...  0.028911  0.797670   \n",
       "000041bdba6ecadd89a52d11886e8eaaec9325906c97233...  0.020107  0.567442   \n",
       "00007889e4fcd2614b6cbe7f8f3d2e5c728eca32d9eb8ad...  0.042325  0.805045   \n",
       "...                                                      ...       ...   \n",
       "ffff41c8a52833b56430603969b9ca48d208e7c192c6a40...  0.041969  0.730505   \n",
       "ffff518bb2075e4816ee3fe9f3b152c57fc0e6f01bf7fdd...  0.012425  0.831279   \n",
       "ffff9984b999fccb2b6127635ed0736dda94e544e67e026...  0.014312  0.756983   \n",
       "ffffa5c46bc8de74f5a4554e74e239c8dee6b9baf388145...  0.037442  0.754129   \n",
       "fffff1d38b785cef84adeace64f8f83db3a0c31e8d92eab...  0.012879  0.965709   \n",
       "\n",
       "                                                     P_2_max  D_39_first  \\\n",
       "customer_ID                                                                \n",
       "0000099d6bd597052cdcda90ffabf56573fe9d7c79be5fb...  0.960384           0   \n",
       "00000fd6641609c6ece5454664794f0340ad84dddce9a26...  0.929122          13   \n",
       "00001b22f846c82c51f6e3958ccd81970162bae8b007e80...  0.904482           0   \n",
       "000041bdba6ecadd89a52d11886e8eaaec9325906c97233...  0.623392           9   \n",
       "00007889e4fcd2614b6cbe7f8f3d2e5c728eca32d9eb8ad...  0.940382           0   \n",
       "...                                                      ...         ...   \n",
       "ffff41c8a52833b56430603969b9ca48d208e7c192c6a40...  0.895553           3   \n",
       "ffff518bb2075e4816ee3fe9f3b152c57fc0e6f01bf7fdd...  0.868121           0   \n",
       "ffff9984b999fccb2b6127635ed0736dda94e544e67e026...  0.802953          18   \n",
       "ffffa5c46bc8de74f5a4554e74e239c8dee6b9baf388145...  0.856981           0   \n",
       "fffff1d38b785cef84adeace64f8f83db3a0c31e8d92eab...  1.005768           7   \n",
       "\n",
       "                                                    D_39_last  D_39_mean  ...  \\\n",
       "customer_ID                                                               ...   \n",
       "0000099d6bd597052cdcda90ffabf56573fe9d7c79be5fb...          0   0.230769  ...   \n",
       "00000fd6641609c6ece5454664794f0340ad84dddce9a26...          6   7.153846  ...   \n",
       "00001b22f846c82c51f6e3958ccd81970162bae8b007e80...          0   0.000000  ...   \n",
       "000041bdba6ecadd89a52d11886e8eaaec9325906c97233...          0   1.538462  ...   \n",
       "00007889e4fcd2614b6cbe7f8f3d2e5c728eca32d9eb8ad...          0   0.000000  ...   \n",
       "...                                                       ...        ...  ...   \n",
       "ffff41c8a52833b56430603969b9ca48d208e7c192c6a40...         15   3.846154  ...   \n",
       "ffff518bb2075e4816ee3fe9f3b152c57fc0e6f01bf7fdd...          1   2.076923  ...   \n",
       "ffff9984b999fccb2b6127635ed0736dda94e544e67e026...          9   7.384615  ...   \n",
       "ffffa5c46bc8de74f5a4554e74e239c8dee6b9baf388145...          0   0.923077  ...   \n",
       "fffff1d38b785cef84adeace64f8f83db3a0c31e8d92eab...          0   9.769231  ...   \n",
       "\n",
       "                                                    D_64_nunique  D_64_first  \\\n",
       "customer_ID                                                                    \n",
       "0000099d6bd597052cdcda90ffabf56573fe9d7c79be5fb...             1           0   \n",
       "00000fd6641609c6ece5454664794f0340ad84dddce9a26...             1           0   \n",
       "00001b22f846c82c51f6e3958ccd81970162bae8b007e80...             1           2   \n",
       "000041bdba6ecadd89a52d11886e8eaaec9325906c97233...             1           0   \n",
       "00007889e4fcd2614b6cbe7f8f3d2e5c728eca32d9eb8ad...             1           0   \n",
       "...                                                          ...         ...   \n",
       "ffff41c8a52833b56430603969b9ca48d208e7c192c6a40...             1           3   \n",
       "ffff518bb2075e4816ee3fe9f3b152c57fc0e6f01bf7fdd...             1           2   \n",
       "ffff9984b999fccb2b6127635ed0736dda94e544e67e026...             1           3   \n",
       "ffffa5c46bc8de74f5a4554e74e239c8dee6b9baf388145...             2           3   \n",
       "fffff1d38b785cef84adeace64f8f83db3a0c31e8d92eab...             2           3   \n",
       "\n",
       "                                                    D_66_count  D_66_last  \\\n",
       "customer_ID                                                                 \n",
       "0000099d6bd597052cdcda90ffabf56573fe9d7c79be5fb...          13         -1   \n",
       "00000fd6641609c6ece5454664794f0340ad84dddce9a26...          13         -1   \n",
       "00001b22f846c82c51f6e3958ccd81970162bae8b007e80...          13         -1   \n",
       "000041bdba6ecadd89a52d11886e8eaaec9325906c97233...          13         -1   \n",
       "00007889e4fcd2614b6cbe7f8f3d2e5c728eca32d9eb8ad...          13          1   \n",
       "...                                                        ...        ...   \n",
       "ffff41c8a52833b56430603969b9ca48d208e7c192c6a40...          13          1   \n",
       "ffff518bb2075e4816ee3fe9f3b152c57fc0e6f01bf7fdd...          13         -1   \n",
       "ffff9984b999fccb2b6127635ed0736dda94e544e67e026...          13         -1   \n",
       "ffffa5c46bc8de74f5a4554e74e239c8dee6b9baf388145...          13         -1   \n",
       "fffff1d38b785cef84adeace64f8f83db3a0c31e8d92eab...          13         -1   \n",
       "\n",
       "                                                    D_66_nunique  D_66_first  \\\n",
       "customer_ID                                                                    \n",
       "0000099d6bd597052cdcda90ffabf56573fe9d7c79be5fb...             1          -1   \n",
       "00000fd6641609c6ece5454664794f0340ad84dddce9a26...             1          -1   \n",
       "00001b22f846c82c51f6e3958ccd81970162bae8b007e80...             1          -1   \n",
       "000041bdba6ecadd89a52d11886e8eaaec9325906c97233...             1          -1   \n",
       "00007889e4fcd2614b6cbe7f8f3d2e5c728eca32d9eb8ad...             1           1   \n",
       "...                                                          ...         ...   \n",
       "ffff41c8a52833b56430603969b9ca48d208e7c192c6a40...             1           1   \n",
       "ffff518bb2075e4816ee3fe9f3b152c57fc0e6f01bf7fdd...             1          -1   \n",
       "ffff9984b999fccb2b6127635ed0736dda94e544e67e026...             1          -1   \n",
       "ffffa5c46bc8de74f5a4554e74e239c8dee6b9baf388145...             1          -1   \n",
       "fffff1d38b785cef84adeace64f8f83db3a0c31e8d92eab...             1          -1   \n",
       "\n",
       "                                                    D_68_count  D_68_last  \\\n",
       "customer_ID                                                                 \n",
       "0000099d6bd597052cdcda90ffabf56573fe9d7c79be5fb...          13          6   \n",
       "00000fd6641609c6ece5454664794f0340ad84dddce9a26...          13          6   \n",
       "00001b22f846c82c51f6e3958ccd81970162bae8b007e80...          13          6   \n",
       "000041bdba6ecadd89a52d11886e8eaaec9325906c97233...          13          3   \n",
       "00007889e4fcd2614b6cbe7f8f3d2e5c728eca32d9eb8ad...          13          6   \n",
       "...                                                        ...        ...   \n",
       "ffff41c8a52833b56430603969b9ca48d208e7c192c6a40...          13          6   \n",
       "ffff518bb2075e4816ee3fe9f3b152c57fc0e6f01bf7fdd...          13          6   \n",
       "ffff9984b999fccb2b6127635ed0736dda94e544e67e026...          13          5   \n",
       "ffffa5c46bc8de74f5a4554e74e239c8dee6b9baf388145...          13          3   \n",
       "fffff1d38b785cef84adeace64f8f83db3a0c31e8d92eab...          13          5   \n",
       "\n",
       "                                                    D_68_nunique  D_68_first  \n",
       "customer_ID                                                                   \n",
       "0000099d6bd597052cdcda90ffabf56573fe9d7c79be5fb...             1           6  \n",
       "00000fd6641609c6ece5454664794f0340ad84dddce9a26...             1           6  \n",
       "00001b22f846c82c51f6e3958ccd81970162bae8b007e80...             1           6  \n",
       "000041bdba6ecadd89a52d11886e8eaaec9325906c97233...             3           2  \n",
       "00007889e4fcd2614b6cbe7f8f3d2e5c728eca32d9eb8ad...             1           6  \n",
       "...                                                          ...         ...  \n",
       "ffff41c8a52833b56430603969b9ca48d208e7c192c6a40...             1           6  \n",
       "ffff518bb2075e4816ee3fe9f3b152c57fc0e6f01bf7fdd...             1           6  \n",
       "ffff9984b999fccb2b6127635ed0736dda94e544e67e026...             1           5  \n",
       "ffffa5c46bc8de74f5a4554e74e239c8dee6b9baf388145...             2           4  \n",
       "fffff1d38b785cef84adeace64f8f83db3a0c31e8d92eab...             2           6  \n",
       "\n",
       "[458913 rows x 1124 columns]"
      ]
     },
     "execution_count": 60,
     "metadata": {},
     "output_type": "execute_result"
    }
   ],
   "source": [
    "train"
   ]
  },
  {
   "cell_type": "code",
   "execution_count": 61,
   "id": "b3a95844",
   "metadata": {
    "execution": {
     "iopub.execute_input": "2022-07-21T14:35:07.268001Z",
     "iopub.status.busy": "2022-07-21T14:35:07.267591Z",
     "iopub.status.idle": "2022-07-21T14:35:07.622762Z",
     "shell.execute_reply": "2022-07-21T14:35:07.621518Z"
    },
    "papermill": {
     "duration": 0.36942,
     "end_time": "2022-07-21T14:35:07.625538",
     "exception": false,
     "start_time": "2022-07-21T14:35:07.256118",
     "status": "completed"
    },
    "tags": []
   },
   "outputs": [
    {
     "name": "stdout",
     "output_type": "stream",
     "text": [
      "135\n"
     ]
    },
    {
     "data": {
      "text/html": [
       "<div>\n",
       "<style scoped>\n",
       "    .dataframe tbody tr th:only-of-type {\n",
       "        vertical-align: middle;\n",
       "    }\n",
       "\n",
       "    .dataframe tbody tr th {\n",
       "        vertical-align: top;\n",
       "    }\n",
       "\n",
       "    .dataframe thead th {\n",
       "        text-align: right;\n",
       "    }\n",
       "</style>\n",
       "<table border=\"1\" class=\"dataframe\">\n",
       "  <thead>\n",
       "    <tr style=\"text-align: right;\">\n",
       "      <th></th>\n",
       "      <th>P_2_last_lag_div</th>\n",
       "      <th>D_39_last_lag_div</th>\n",
       "      <th>B_1_last_lag_div</th>\n",
       "      <th>B_2_last_lag_div</th>\n",
       "      <th>R_1_last_lag_div</th>\n",
       "      <th>S_3_last_lag_div</th>\n",
       "      <th>D_41_last_lag_div</th>\n",
       "      <th>B_3_last_lag_div</th>\n",
       "      <th>D_42_last_lag_div</th>\n",
       "      <th>D_43_last_lag_div</th>\n",
       "      <th>...</th>\n",
       "      <th>D_130_last_lag_div</th>\n",
       "      <th>D_131_last_lag_div</th>\n",
       "      <th>D_132_last_lag_div</th>\n",
       "      <th>D_133_last_lag_div</th>\n",
       "      <th>D_134_last_lag_div</th>\n",
       "      <th>D_138_last_lag_div</th>\n",
       "      <th>D_140_last_lag_div</th>\n",
       "      <th>D_141_last_lag_div</th>\n",
       "      <th>D_142_last_lag_div</th>\n",
       "      <th>D_145_last_lag_div</th>\n",
       "    </tr>\n",
       "    <tr>\n",
       "      <th>customer_ID</th>\n",
       "      <th></th>\n",
       "      <th></th>\n",
       "      <th></th>\n",
       "      <th></th>\n",
       "      <th></th>\n",
       "      <th></th>\n",
       "      <th></th>\n",
       "      <th></th>\n",
       "      <th></th>\n",
       "      <th></th>\n",
       "      <th></th>\n",
       "      <th></th>\n",
       "      <th></th>\n",
       "      <th></th>\n",
       "      <th></th>\n",
       "      <th></th>\n",
       "      <th></th>\n",
       "      <th></th>\n",
       "      <th></th>\n",
       "      <th></th>\n",
       "      <th></th>\n",
       "    </tr>\n",
       "  </thead>\n",
       "  <tbody>\n",
       "    <tr>\n",
       "      <th>0000099d6bd597052cdcda90ffabf56573fe9d7c79be5fbac11a8ed792feb62a</th>\n",
       "      <td>0.996031</td>\n",
       "      <td>0.000000</td>\n",
       "      <td>1.075295</td>\n",
       "      <td>1.000803</td>\n",
       "      <td>0.661387</td>\n",
       "      <td>1.088564</td>\n",
       "      <td>0.0</td>\n",
       "      <td>1.523130</td>\n",
       "      <td>-127.0</td>\n",
       "      <td>-127.000000</td>\n",
       "      <td>...</td>\n",
       "      <td>0.000000</td>\n",
       "      <td>0.000000</td>\n",
       "      <td>-127.000000</td>\n",
       "      <td>1.428900</td>\n",
       "      <td>-127.0</td>\n",
       "      <td>1.000001</td>\n",
       "      <td>0.0</td>\n",
       "      <td>0.000000</td>\n",
       "      <td>-127.000000</td>\n",
       "      <td>0.0</td>\n",
       "    </tr>\n",
       "    <tr>\n",
       "      <th>00000fd6641609c6ece5454664794f0340ad84dddce9a267a310b5ae68e9d8e5</th>\n",
       "      <td>0.947688</td>\n",
       "      <td>0.461538</td>\n",
       "      <td>1.345260</td>\n",
       "      <td>1.001376</td>\n",
       "      <td>1.252994</td>\n",
       "      <td>1.843085</td>\n",
       "      <td>0.0</td>\n",
       "      <td>0.869107</td>\n",
       "      <td>-127.0</td>\n",
       "      <td>0.115383</td>\n",
       "      <td>...</td>\n",
       "      <td>0.000000</td>\n",
       "      <td>0.000000</td>\n",
       "      <td>-127.000000</td>\n",
       "      <td>2.322996</td>\n",
       "      <td>-127.0</td>\n",
       "      <td>1.000001</td>\n",
       "      <td>0.0</td>\n",
       "      <td>0.000000</td>\n",
       "      <td>-127.000000</td>\n",
       "      <td>0.0</td>\n",
       "    </tr>\n",
       "    <tr>\n",
       "      <th>00001b22f846c82c51f6e3958ccd81970162bae8b007e80662ef27519fcc18c1</th>\n",
       "      <td>1.004857</td>\n",
       "      <td>0.000000</td>\n",
       "      <td>2.908019</td>\n",
       "      <td>1.002284</td>\n",
       "      <td>1.082963</td>\n",
       "      <td>-127.000000</td>\n",
       "      <td>0.0</td>\n",
       "      <td>1.490837</td>\n",
       "      <td>-127.0</td>\n",
       "      <td>-127.000000</td>\n",
       "      <td>...</td>\n",
       "      <td>0.000000</td>\n",
       "      <td>0.000000</td>\n",
       "      <td>-127.000000</td>\n",
       "      <td>4.285858</td>\n",
       "      <td>-127.0</td>\n",
       "      <td>1.000001</td>\n",
       "      <td>0.0</td>\n",
       "      <td>0.000000</td>\n",
       "      <td>-127.000000</td>\n",
       "      <td>0.0</td>\n",
       "    </tr>\n",
       "    <tr>\n",
       "      <th>000041bdba6ecadd89a52d11886e8eaaec9325906c9723355abb5ca523658edc</th>\n",
       "      <td>1.095751</td>\n",
       "      <td>0.000000</td>\n",
       "      <td>0.178692</td>\n",
       "      <td>1.239060</td>\n",
       "      <td>1.851380</td>\n",
       "      <td>0.706309</td>\n",
       "      <td>0.0</td>\n",
       "      <td>0.909320</td>\n",
       "      <td>-127.0</td>\n",
       "      <td>6.949583</td>\n",
       "      <td>...</td>\n",
       "      <td>0.000000</td>\n",
       "      <td>0.000000</td>\n",
       "      <td>-127.000000</td>\n",
       "      <td>0.379072</td>\n",
       "      <td>-127.0</td>\n",
       "      <td>1.000001</td>\n",
       "      <td>0.0</td>\n",
       "      <td>0.000000</td>\n",
       "      <td>-127.000000</td>\n",
       "      <td>0.0</td>\n",
       "    </tr>\n",
       "    <tr>\n",
       "      <th>00007889e4fcd2614b6cbe7f8f3d2e5c728eca32d9eb8ad51ca8b8c4a24cefed</th>\n",
       "      <td>0.930679</td>\n",
       "      <td>0.000000</td>\n",
       "      <td>2.235962</td>\n",
       "      <td>0.996401</td>\n",
       "      <td>0.172197</td>\n",
       "      <td>1.061449</td>\n",
       "      <td>0.0</td>\n",
       "      <td>0.932479</td>\n",
       "      <td>-127.0</td>\n",
       "      <td>0.720913</td>\n",
       "      <td>...</td>\n",
       "      <td>0.997930</td>\n",
       "      <td>0.000000</td>\n",
       "      <td>-127.000000</td>\n",
       "      <td>1.489205</td>\n",
       "      <td>-127.0</td>\n",
       "      <td>1.000001</td>\n",
       "      <td>0.0</td>\n",
       "      <td>0.000000</td>\n",
       "      <td>-127.000000</td>\n",
       "      <td>0.0</td>\n",
       "    </tr>\n",
       "    <tr>\n",
       "      <th>...</th>\n",
       "      <td>...</td>\n",
       "      <td>...</td>\n",
       "      <td>...</td>\n",
       "      <td>...</td>\n",
       "      <td>...</td>\n",
       "      <td>...</td>\n",
       "      <td>...</td>\n",
       "      <td>...</td>\n",
       "      <td>...</td>\n",
       "      <td>...</td>\n",
       "      <td>...</td>\n",
       "      <td>...</td>\n",
       "      <td>...</td>\n",
       "      <td>...</td>\n",
       "      <td>...</td>\n",
       "      <td>...</td>\n",
       "      <td>...</td>\n",
       "      <td>...</td>\n",
       "      <td>...</td>\n",
       "      <td>...</td>\n",
       "      <td>...</td>\n",
       "    </tr>\n",
       "    <tr>\n",
       "      <th>ffff41c8a52833b56430603969b9ca48d208e7c192c6a4081a6acc28cf4f8af7</th>\n",
       "      <td>0.981810</td>\n",
       "      <td>4.999998</td>\n",
       "      <td>4.686096</td>\n",
       "      <td>1.009169</td>\n",
       "      <td>0.205656</td>\n",
       "      <td>1.208378</td>\n",
       "      <td>0.0</td>\n",
       "      <td>0.747846</td>\n",
       "      <td>-127.0</td>\n",
       "      <td>0.432699</td>\n",
       "      <td>...</td>\n",
       "      <td>0.000000</td>\n",
       "      <td>0.000000</td>\n",
       "      <td>-127.000000</td>\n",
       "      <td>0.257569</td>\n",
       "      <td>-127.0</td>\n",
       "      <td>1.000001</td>\n",
       "      <td>0.0</td>\n",
       "      <td>0.000000</td>\n",
       "      <td>-127.000000</td>\n",
       "      <td>0.0</td>\n",
       "    </tr>\n",
       "    <tr>\n",
       "      <th>ffff518bb2075e4816ee3fe9f3b152c57fc0e6f01bf7fdd3e5b57cfcbee30286</th>\n",
       "      <td>0.963072</td>\n",
       "      <td>1000000.000000</td>\n",
       "      <td>0.677687</td>\n",
       "      <td>1.816430</td>\n",
       "      <td>1.478398</td>\n",
       "      <td>0.599260</td>\n",
       "      <td>0.0</td>\n",
       "      <td>0.767970</td>\n",
       "      <td>-127.0</td>\n",
       "      <td>0.258482</td>\n",
       "      <td>...</td>\n",
       "      <td>0.995273</td>\n",
       "      <td>1.018187</td>\n",
       "      <td>1.598577</td>\n",
       "      <td>1.500991</td>\n",
       "      <td>-127.0</td>\n",
       "      <td>1.000001</td>\n",
       "      <td>0.0</td>\n",
       "      <td>0.000000</td>\n",
       "      <td>-127.000000</td>\n",
       "      <td>0.0</td>\n",
       "    </tr>\n",
       "    <tr>\n",
       "      <th>ffff9984b999fccb2b6127635ed0736dda94e544e67e026eee4d20f680639ff6</th>\n",
       "      <td>1.008564</td>\n",
       "      <td>0.500000</td>\n",
       "      <td>0.321918</td>\n",
       "      <td>0.998231</td>\n",
       "      <td>0.125616</td>\n",
       "      <td>0.792916</td>\n",
       "      <td>0.0</td>\n",
       "      <td>2.095083</td>\n",
       "      <td>-127.0</td>\n",
       "      <td>0.657381</td>\n",
       "      <td>...</td>\n",
       "      <td>0.000000</td>\n",
       "      <td>0.000000</td>\n",
       "      <td>-127.000000</td>\n",
       "      <td>1.057423</td>\n",
       "      <td>-127.0</td>\n",
       "      <td>1.000001</td>\n",
       "      <td>0.0</td>\n",
       "      <td>0.000000</td>\n",
       "      <td>-127.000000</td>\n",
       "      <td>0.0</td>\n",
       "    </tr>\n",
       "    <tr>\n",
       "      <th>ffffa5c46bc8de74f5a4554e74e239c8dee6b9baf388145b2c3d01967fcce461</th>\n",
       "      <td>0.879982</td>\n",
       "      <td>0.000000</td>\n",
       "      <td>4.531908</td>\n",
       "      <td>0.710245</td>\n",
       "      <td>0.174426</td>\n",
       "      <td>1.107514</td>\n",
       "      <td>0.0</td>\n",
       "      <td>0.524555</td>\n",
       "      <td>-127.0</td>\n",
       "      <td>0.140878</td>\n",
       "      <td>...</td>\n",
       "      <td>0.997562</td>\n",
       "      <td>0.000000</td>\n",
       "      <td>-127.000000</td>\n",
       "      <td>0.059733</td>\n",
       "      <td>-127.0</td>\n",
       "      <td>1.000001</td>\n",
       "      <td>0.0</td>\n",
       "      <td>1.019854</td>\n",
       "      <td>1.134883</td>\n",
       "      <td>1.0</td>\n",
       "    </tr>\n",
       "    <tr>\n",
       "      <th>fffff1d38b785cef84adeace64f8f83db3a0c31e8d92eaba8b115f71cab04681</th>\n",
       "      <td>0.983101</td>\n",
       "      <td>0.000000</td>\n",
       "      <td>0.000644</td>\n",
       "      <td>0.983333</td>\n",
       "      <td>0.335809</td>\n",
       "      <td>-16.335155</td>\n",
       "      <td>0.0</td>\n",
       "      <td>0.252120</td>\n",
       "      <td>-127.0</td>\n",
       "      <td>0.756422</td>\n",
       "      <td>...</td>\n",
       "      <td>0.000000</td>\n",
       "      <td>0.000000</td>\n",
       "      <td>-127.000000</td>\n",
       "      <td>3.626474</td>\n",
       "      <td>-127.0</td>\n",
       "      <td>1.000001</td>\n",
       "      <td>0.0</td>\n",
       "      <td>0.000000</td>\n",
       "      <td>-127.000000</td>\n",
       "      <td>0.0</td>\n",
       "    </tr>\n",
       "  </tbody>\n",
       "</table>\n",
       "<p>458913 rows × 135 columns</p>\n",
       "</div>"
      ],
      "text/plain": [
       "                                                    P_2_last_lag_div  \\\n",
       "customer_ID                                                            \n",
       "0000099d6bd597052cdcda90ffabf56573fe9d7c79be5fb...          0.996031   \n",
       "00000fd6641609c6ece5454664794f0340ad84dddce9a26...          0.947688   \n",
       "00001b22f846c82c51f6e3958ccd81970162bae8b007e80...          1.004857   \n",
       "000041bdba6ecadd89a52d11886e8eaaec9325906c97233...          1.095751   \n",
       "00007889e4fcd2614b6cbe7f8f3d2e5c728eca32d9eb8ad...          0.930679   \n",
       "...                                                              ...   \n",
       "ffff41c8a52833b56430603969b9ca48d208e7c192c6a40...          0.981810   \n",
       "ffff518bb2075e4816ee3fe9f3b152c57fc0e6f01bf7fdd...          0.963072   \n",
       "ffff9984b999fccb2b6127635ed0736dda94e544e67e026...          1.008564   \n",
       "ffffa5c46bc8de74f5a4554e74e239c8dee6b9baf388145...          0.879982   \n",
       "fffff1d38b785cef84adeace64f8f83db3a0c31e8d92eab...          0.983101   \n",
       "\n",
       "                                                    D_39_last_lag_div  \\\n",
       "customer_ID                                                             \n",
       "0000099d6bd597052cdcda90ffabf56573fe9d7c79be5fb...           0.000000   \n",
       "00000fd6641609c6ece5454664794f0340ad84dddce9a26...           0.461538   \n",
       "00001b22f846c82c51f6e3958ccd81970162bae8b007e80...           0.000000   \n",
       "000041bdba6ecadd89a52d11886e8eaaec9325906c97233...           0.000000   \n",
       "00007889e4fcd2614b6cbe7f8f3d2e5c728eca32d9eb8ad...           0.000000   \n",
       "...                                                               ...   \n",
       "ffff41c8a52833b56430603969b9ca48d208e7c192c6a40...           4.999998   \n",
       "ffff518bb2075e4816ee3fe9f3b152c57fc0e6f01bf7fdd...     1000000.000000   \n",
       "ffff9984b999fccb2b6127635ed0736dda94e544e67e026...           0.500000   \n",
       "ffffa5c46bc8de74f5a4554e74e239c8dee6b9baf388145...           0.000000   \n",
       "fffff1d38b785cef84adeace64f8f83db3a0c31e8d92eab...           0.000000   \n",
       "\n",
       "                                                    B_1_last_lag_div  \\\n",
       "customer_ID                                                            \n",
       "0000099d6bd597052cdcda90ffabf56573fe9d7c79be5fb...          1.075295   \n",
       "00000fd6641609c6ece5454664794f0340ad84dddce9a26...          1.345260   \n",
       "00001b22f846c82c51f6e3958ccd81970162bae8b007e80...          2.908019   \n",
       "000041bdba6ecadd89a52d11886e8eaaec9325906c97233...          0.178692   \n",
       "00007889e4fcd2614b6cbe7f8f3d2e5c728eca32d9eb8ad...          2.235962   \n",
       "...                                                              ...   \n",
       "ffff41c8a52833b56430603969b9ca48d208e7c192c6a40...          4.686096   \n",
       "ffff518bb2075e4816ee3fe9f3b152c57fc0e6f01bf7fdd...          0.677687   \n",
       "ffff9984b999fccb2b6127635ed0736dda94e544e67e026...          0.321918   \n",
       "ffffa5c46bc8de74f5a4554e74e239c8dee6b9baf388145...          4.531908   \n",
       "fffff1d38b785cef84adeace64f8f83db3a0c31e8d92eab...          0.000644   \n",
       "\n",
       "                                                    B_2_last_lag_div  \\\n",
       "customer_ID                                                            \n",
       "0000099d6bd597052cdcda90ffabf56573fe9d7c79be5fb...          1.000803   \n",
       "00000fd6641609c6ece5454664794f0340ad84dddce9a26...          1.001376   \n",
       "00001b22f846c82c51f6e3958ccd81970162bae8b007e80...          1.002284   \n",
       "000041bdba6ecadd89a52d11886e8eaaec9325906c97233...          1.239060   \n",
       "00007889e4fcd2614b6cbe7f8f3d2e5c728eca32d9eb8ad...          0.996401   \n",
       "...                                                              ...   \n",
       "ffff41c8a52833b56430603969b9ca48d208e7c192c6a40...          1.009169   \n",
       "ffff518bb2075e4816ee3fe9f3b152c57fc0e6f01bf7fdd...          1.816430   \n",
       "ffff9984b999fccb2b6127635ed0736dda94e544e67e026...          0.998231   \n",
       "ffffa5c46bc8de74f5a4554e74e239c8dee6b9baf388145...          0.710245   \n",
       "fffff1d38b785cef84adeace64f8f83db3a0c31e8d92eab...          0.983333   \n",
       "\n",
       "                                                    R_1_last_lag_div  \\\n",
       "customer_ID                                                            \n",
       "0000099d6bd597052cdcda90ffabf56573fe9d7c79be5fb...          0.661387   \n",
       "00000fd6641609c6ece5454664794f0340ad84dddce9a26...          1.252994   \n",
       "00001b22f846c82c51f6e3958ccd81970162bae8b007e80...          1.082963   \n",
       "000041bdba6ecadd89a52d11886e8eaaec9325906c97233...          1.851380   \n",
       "00007889e4fcd2614b6cbe7f8f3d2e5c728eca32d9eb8ad...          0.172197   \n",
       "...                                                              ...   \n",
       "ffff41c8a52833b56430603969b9ca48d208e7c192c6a40...          0.205656   \n",
       "ffff518bb2075e4816ee3fe9f3b152c57fc0e6f01bf7fdd...          1.478398   \n",
       "ffff9984b999fccb2b6127635ed0736dda94e544e67e026...          0.125616   \n",
       "ffffa5c46bc8de74f5a4554e74e239c8dee6b9baf388145...          0.174426   \n",
       "fffff1d38b785cef84adeace64f8f83db3a0c31e8d92eab...          0.335809   \n",
       "\n",
       "                                                    S_3_last_lag_div  \\\n",
       "customer_ID                                                            \n",
       "0000099d6bd597052cdcda90ffabf56573fe9d7c79be5fb...          1.088564   \n",
       "00000fd6641609c6ece5454664794f0340ad84dddce9a26...          1.843085   \n",
       "00001b22f846c82c51f6e3958ccd81970162bae8b007e80...       -127.000000   \n",
       "000041bdba6ecadd89a52d11886e8eaaec9325906c97233...          0.706309   \n",
       "00007889e4fcd2614b6cbe7f8f3d2e5c728eca32d9eb8ad...          1.061449   \n",
       "...                                                              ...   \n",
       "ffff41c8a52833b56430603969b9ca48d208e7c192c6a40...          1.208378   \n",
       "ffff518bb2075e4816ee3fe9f3b152c57fc0e6f01bf7fdd...          0.599260   \n",
       "ffff9984b999fccb2b6127635ed0736dda94e544e67e026...          0.792916   \n",
       "ffffa5c46bc8de74f5a4554e74e239c8dee6b9baf388145...          1.107514   \n",
       "fffff1d38b785cef84adeace64f8f83db3a0c31e8d92eab...        -16.335155   \n",
       "\n",
       "                                                    D_41_last_lag_div  \\\n",
       "customer_ID                                                             \n",
       "0000099d6bd597052cdcda90ffabf56573fe9d7c79be5fb...                0.0   \n",
       "00000fd6641609c6ece5454664794f0340ad84dddce9a26...                0.0   \n",
       "00001b22f846c82c51f6e3958ccd81970162bae8b007e80...                0.0   \n",
       "000041bdba6ecadd89a52d11886e8eaaec9325906c97233...                0.0   \n",
       "00007889e4fcd2614b6cbe7f8f3d2e5c728eca32d9eb8ad...                0.0   \n",
       "...                                                               ...   \n",
       "ffff41c8a52833b56430603969b9ca48d208e7c192c6a40...                0.0   \n",
       "ffff518bb2075e4816ee3fe9f3b152c57fc0e6f01bf7fdd...                0.0   \n",
       "ffff9984b999fccb2b6127635ed0736dda94e544e67e026...                0.0   \n",
       "ffffa5c46bc8de74f5a4554e74e239c8dee6b9baf388145...                0.0   \n",
       "fffff1d38b785cef84adeace64f8f83db3a0c31e8d92eab...                0.0   \n",
       "\n",
       "                                                    B_3_last_lag_div  \\\n",
       "customer_ID                                                            \n",
       "0000099d6bd597052cdcda90ffabf56573fe9d7c79be5fb...          1.523130   \n",
       "00000fd6641609c6ece5454664794f0340ad84dddce9a26...          0.869107   \n",
       "00001b22f846c82c51f6e3958ccd81970162bae8b007e80...          1.490837   \n",
       "000041bdba6ecadd89a52d11886e8eaaec9325906c97233...          0.909320   \n",
       "00007889e4fcd2614b6cbe7f8f3d2e5c728eca32d9eb8ad...          0.932479   \n",
       "...                                                              ...   \n",
       "ffff41c8a52833b56430603969b9ca48d208e7c192c6a40...          0.747846   \n",
       "ffff518bb2075e4816ee3fe9f3b152c57fc0e6f01bf7fdd...          0.767970   \n",
       "ffff9984b999fccb2b6127635ed0736dda94e544e67e026...          2.095083   \n",
       "ffffa5c46bc8de74f5a4554e74e239c8dee6b9baf388145...          0.524555   \n",
       "fffff1d38b785cef84adeace64f8f83db3a0c31e8d92eab...          0.252120   \n",
       "\n",
       "                                                    D_42_last_lag_div  \\\n",
       "customer_ID                                                             \n",
       "0000099d6bd597052cdcda90ffabf56573fe9d7c79be5fb...             -127.0   \n",
       "00000fd6641609c6ece5454664794f0340ad84dddce9a26...             -127.0   \n",
       "00001b22f846c82c51f6e3958ccd81970162bae8b007e80...             -127.0   \n",
       "000041bdba6ecadd89a52d11886e8eaaec9325906c97233...             -127.0   \n",
       "00007889e4fcd2614b6cbe7f8f3d2e5c728eca32d9eb8ad...             -127.0   \n",
       "...                                                               ...   \n",
       "ffff41c8a52833b56430603969b9ca48d208e7c192c6a40...             -127.0   \n",
       "ffff518bb2075e4816ee3fe9f3b152c57fc0e6f01bf7fdd...             -127.0   \n",
       "ffff9984b999fccb2b6127635ed0736dda94e544e67e026...             -127.0   \n",
       "ffffa5c46bc8de74f5a4554e74e239c8dee6b9baf388145...             -127.0   \n",
       "fffff1d38b785cef84adeace64f8f83db3a0c31e8d92eab...             -127.0   \n",
       "\n",
       "                                                    D_43_last_lag_div  ...  \\\n",
       "customer_ID                                                            ...   \n",
       "0000099d6bd597052cdcda90ffabf56573fe9d7c79be5fb...        -127.000000  ...   \n",
       "00000fd6641609c6ece5454664794f0340ad84dddce9a26...           0.115383  ...   \n",
       "00001b22f846c82c51f6e3958ccd81970162bae8b007e80...        -127.000000  ...   \n",
       "000041bdba6ecadd89a52d11886e8eaaec9325906c97233...           6.949583  ...   \n",
       "00007889e4fcd2614b6cbe7f8f3d2e5c728eca32d9eb8ad...           0.720913  ...   \n",
       "...                                                               ...  ...   \n",
       "ffff41c8a52833b56430603969b9ca48d208e7c192c6a40...           0.432699  ...   \n",
       "ffff518bb2075e4816ee3fe9f3b152c57fc0e6f01bf7fdd...           0.258482  ...   \n",
       "ffff9984b999fccb2b6127635ed0736dda94e544e67e026...           0.657381  ...   \n",
       "ffffa5c46bc8de74f5a4554e74e239c8dee6b9baf388145...           0.140878  ...   \n",
       "fffff1d38b785cef84adeace64f8f83db3a0c31e8d92eab...           0.756422  ...   \n",
       "\n",
       "                                                    D_130_last_lag_div  \\\n",
       "customer_ID                                                              \n",
       "0000099d6bd597052cdcda90ffabf56573fe9d7c79be5fb...            0.000000   \n",
       "00000fd6641609c6ece5454664794f0340ad84dddce9a26...            0.000000   \n",
       "00001b22f846c82c51f6e3958ccd81970162bae8b007e80...            0.000000   \n",
       "000041bdba6ecadd89a52d11886e8eaaec9325906c97233...            0.000000   \n",
       "00007889e4fcd2614b6cbe7f8f3d2e5c728eca32d9eb8ad...            0.997930   \n",
       "...                                                                ...   \n",
       "ffff41c8a52833b56430603969b9ca48d208e7c192c6a40...            0.000000   \n",
       "ffff518bb2075e4816ee3fe9f3b152c57fc0e6f01bf7fdd...            0.995273   \n",
       "ffff9984b999fccb2b6127635ed0736dda94e544e67e026...            0.000000   \n",
       "ffffa5c46bc8de74f5a4554e74e239c8dee6b9baf388145...            0.997562   \n",
       "fffff1d38b785cef84adeace64f8f83db3a0c31e8d92eab...            0.000000   \n",
       "\n",
       "                                                    D_131_last_lag_div  \\\n",
       "customer_ID                                                              \n",
       "0000099d6bd597052cdcda90ffabf56573fe9d7c79be5fb...            0.000000   \n",
       "00000fd6641609c6ece5454664794f0340ad84dddce9a26...            0.000000   \n",
       "00001b22f846c82c51f6e3958ccd81970162bae8b007e80...            0.000000   \n",
       "000041bdba6ecadd89a52d11886e8eaaec9325906c97233...            0.000000   \n",
       "00007889e4fcd2614b6cbe7f8f3d2e5c728eca32d9eb8ad...            0.000000   \n",
       "...                                                                ...   \n",
       "ffff41c8a52833b56430603969b9ca48d208e7c192c6a40...            0.000000   \n",
       "ffff518bb2075e4816ee3fe9f3b152c57fc0e6f01bf7fdd...            1.018187   \n",
       "ffff9984b999fccb2b6127635ed0736dda94e544e67e026...            0.000000   \n",
       "ffffa5c46bc8de74f5a4554e74e239c8dee6b9baf388145...            0.000000   \n",
       "fffff1d38b785cef84adeace64f8f83db3a0c31e8d92eab...            0.000000   \n",
       "\n",
       "                                                    D_132_last_lag_div  \\\n",
       "customer_ID                                                              \n",
       "0000099d6bd597052cdcda90ffabf56573fe9d7c79be5fb...         -127.000000   \n",
       "00000fd6641609c6ece5454664794f0340ad84dddce9a26...         -127.000000   \n",
       "00001b22f846c82c51f6e3958ccd81970162bae8b007e80...         -127.000000   \n",
       "000041bdba6ecadd89a52d11886e8eaaec9325906c97233...         -127.000000   \n",
       "00007889e4fcd2614b6cbe7f8f3d2e5c728eca32d9eb8ad...         -127.000000   \n",
       "...                                                                ...   \n",
       "ffff41c8a52833b56430603969b9ca48d208e7c192c6a40...         -127.000000   \n",
       "ffff518bb2075e4816ee3fe9f3b152c57fc0e6f01bf7fdd...            1.598577   \n",
       "ffff9984b999fccb2b6127635ed0736dda94e544e67e026...         -127.000000   \n",
       "ffffa5c46bc8de74f5a4554e74e239c8dee6b9baf388145...         -127.000000   \n",
       "fffff1d38b785cef84adeace64f8f83db3a0c31e8d92eab...         -127.000000   \n",
       "\n",
       "                                                    D_133_last_lag_div  \\\n",
       "customer_ID                                                              \n",
       "0000099d6bd597052cdcda90ffabf56573fe9d7c79be5fb...            1.428900   \n",
       "00000fd6641609c6ece5454664794f0340ad84dddce9a26...            2.322996   \n",
       "00001b22f846c82c51f6e3958ccd81970162bae8b007e80...            4.285858   \n",
       "000041bdba6ecadd89a52d11886e8eaaec9325906c97233...            0.379072   \n",
       "00007889e4fcd2614b6cbe7f8f3d2e5c728eca32d9eb8ad...            1.489205   \n",
       "...                                                                ...   \n",
       "ffff41c8a52833b56430603969b9ca48d208e7c192c6a40...            0.257569   \n",
       "ffff518bb2075e4816ee3fe9f3b152c57fc0e6f01bf7fdd...            1.500991   \n",
       "ffff9984b999fccb2b6127635ed0736dda94e544e67e026...            1.057423   \n",
       "ffffa5c46bc8de74f5a4554e74e239c8dee6b9baf388145...            0.059733   \n",
       "fffff1d38b785cef84adeace64f8f83db3a0c31e8d92eab...            3.626474   \n",
       "\n",
       "                                                    D_134_last_lag_div  \\\n",
       "customer_ID                                                              \n",
       "0000099d6bd597052cdcda90ffabf56573fe9d7c79be5fb...              -127.0   \n",
       "00000fd6641609c6ece5454664794f0340ad84dddce9a26...              -127.0   \n",
       "00001b22f846c82c51f6e3958ccd81970162bae8b007e80...              -127.0   \n",
       "000041bdba6ecadd89a52d11886e8eaaec9325906c97233...              -127.0   \n",
       "00007889e4fcd2614b6cbe7f8f3d2e5c728eca32d9eb8ad...              -127.0   \n",
       "...                                                                ...   \n",
       "ffff41c8a52833b56430603969b9ca48d208e7c192c6a40...              -127.0   \n",
       "ffff518bb2075e4816ee3fe9f3b152c57fc0e6f01bf7fdd...              -127.0   \n",
       "ffff9984b999fccb2b6127635ed0736dda94e544e67e026...              -127.0   \n",
       "ffffa5c46bc8de74f5a4554e74e239c8dee6b9baf388145...              -127.0   \n",
       "fffff1d38b785cef84adeace64f8f83db3a0c31e8d92eab...              -127.0   \n",
       "\n",
       "                                                    D_138_last_lag_div  \\\n",
       "customer_ID                                                              \n",
       "0000099d6bd597052cdcda90ffabf56573fe9d7c79be5fb...            1.000001   \n",
       "00000fd6641609c6ece5454664794f0340ad84dddce9a26...            1.000001   \n",
       "00001b22f846c82c51f6e3958ccd81970162bae8b007e80...            1.000001   \n",
       "000041bdba6ecadd89a52d11886e8eaaec9325906c97233...            1.000001   \n",
       "00007889e4fcd2614b6cbe7f8f3d2e5c728eca32d9eb8ad...            1.000001   \n",
       "...                                                                ...   \n",
       "ffff41c8a52833b56430603969b9ca48d208e7c192c6a40...            1.000001   \n",
       "ffff518bb2075e4816ee3fe9f3b152c57fc0e6f01bf7fdd...            1.000001   \n",
       "ffff9984b999fccb2b6127635ed0736dda94e544e67e026...            1.000001   \n",
       "ffffa5c46bc8de74f5a4554e74e239c8dee6b9baf388145...            1.000001   \n",
       "fffff1d38b785cef84adeace64f8f83db3a0c31e8d92eab...            1.000001   \n",
       "\n",
       "                                                    D_140_last_lag_div  \\\n",
       "customer_ID                                                              \n",
       "0000099d6bd597052cdcda90ffabf56573fe9d7c79be5fb...                 0.0   \n",
       "00000fd6641609c6ece5454664794f0340ad84dddce9a26...                 0.0   \n",
       "00001b22f846c82c51f6e3958ccd81970162bae8b007e80...                 0.0   \n",
       "000041bdba6ecadd89a52d11886e8eaaec9325906c97233...                 0.0   \n",
       "00007889e4fcd2614b6cbe7f8f3d2e5c728eca32d9eb8ad...                 0.0   \n",
       "...                                                                ...   \n",
       "ffff41c8a52833b56430603969b9ca48d208e7c192c6a40...                 0.0   \n",
       "ffff518bb2075e4816ee3fe9f3b152c57fc0e6f01bf7fdd...                 0.0   \n",
       "ffff9984b999fccb2b6127635ed0736dda94e544e67e026...                 0.0   \n",
       "ffffa5c46bc8de74f5a4554e74e239c8dee6b9baf388145...                 0.0   \n",
       "fffff1d38b785cef84adeace64f8f83db3a0c31e8d92eab...                 0.0   \n",
       "\n",
       "                                                    D_141_last_lag_div  \\\n",
       "customer_ID                                                              \n",
       "0000099d6bd597052cdcda90ffabf56573fe9d7c79be5fb...            0.000000   \n",
       "00000fd6641609c6ece5454664794f0340ad84dddce9a26...            0.000000   \n",
       "00001b22f846c82c51f6e3958ccd81970162bae8b007e80...            0.000000   \n",
       "000041bdba6ecadd89a52d11886e8eaaec9325906c97233...            0.000000   \n",
       "00007889e4fcd2614b6cbe7f8f3d2e5c728eca32d9eb8ad...            0.000000   \n",
       "...                                                                ...   \n",
       "ffff41c8a52833b56430603969b9ca48d208e7c192c6a40...            0.000000   \n",
       "ffff518bb2075e4816ee3fe9f3b152c57fc0e6f01bf7fdd...            0.000000   \n",
       "ffff9984b999fccb2b6127635ed0736dda94e544e67e026...            0.000000   \n",
       "ffffa5c46bc8de74f5a4554e74e239c8dee6b9baf388145...            1.019854   \n",
       "fffff1d38b785cef84adeace64f8f83db3a0c31e8d92eab...            0.000000   \n",
       "\n",
       "                                                    D_142_last_lag_div  \\\n",
       "customer_ID                                                              \n",
       "0000099d6bd597052cdcda90ffabf56573fe9d7c79be5fb...         -127.000000   \n",
       "00000fd6641609c6ece5454664794f0340ad84dddce9a26...         -127.000000   \n",
       "00001b22f846c82c51f6e3958ccd81970162bae8b007e80...         -127.000000   \n",
       "000041bdba6ecadd89a52d11886e8eaaec9325906c97233...         -127.000000   \n",
       "00007889e4fcd2614b6cbe7f8f3d2e5c728eca32d9eb8ad...         -127.000000   \n",
       "...                                                                ...   \n",
       "ffff41c8a52833b56430603969b9ca48d208e7c192c6a40...         -127.000000   \n",
       "ffff518bb2075e4816ee3fe9f3b152c57fc0e6f01bf7fdd...         -127.000000   \n",
       "ffff9984b999fccb2b6127635ed0736dda94e544e67e026...         -127.000000   \n",
       "ffffa5c46bc8de74f5a4554e74e239c8dee6b9baf388145...            1.134883   \n",
       "fffff1d38b785cef84adeace64f8f83db3a0c31e8d92eab...         -127.000000   \n",
       "\n",
       "                                                    D_145_last_lag_div  \n",
       "customer_ID                                                             \n",
       "0000099d6bd597052cdcda90ffabf56573fe9d7c79be5fb...                 0.0  \n",
       "00000fd6641609c6ece5454664794f0340ad84dddce9a26...                 0.0  \n",
       "00001b22f846c82c51f6e3958ccd81970162bae8b007e80...                 0.0  \n",
       "000041bdba6ecadd89a52d11886e8eaaec9325906c97233...                 0.0  \n",
       "00007889e4fcd2614b6cbe7f8f3d2e5c728eca32d9eb8ad...                 0.0  \n",
       "...                                                                ...  \n",
       "ffff41c8a52833b56430603969b9ca48d208e7c192c6a40...                 0.0  \n",
       "ffff518bb2075e4816ee3fe9f3b152c57fc0e6f01bf7fdd...                 0.0  \n",
       "ffff9984b999fccb2b6127635ed0736dda94e544e67e026...                 0.0  \n",
       "ffffa5c46bc8de74f5a4554e74e239c8dee6b9baf388145...                 1.0  \n",
       "fffff1d38b785cef84adeace64f8f83db3a0c31e8d92eab...                 0.0  \n",
       "\n",
       "[458913 rows x 135 columns]"
      ]
     },
     "execution_count": 61,
     "metadata": {},
     "output_type": "execute_result"
    }
   ],
   "source": [
    "select_cols=[col for col in train.columns if (col.endswith(('div')))]\n",
    "print(str(len(select_cols)))\n",
    "train[select_cols]"
   ]
  },
  {
   "cell_type": "code",
   "execution_count": 62,
   "id": "b474eaf1",
   "metadata": {
    "execution": {
     "iopub.execute_input": "2022-07-21T14:35:07.648817Z",
     "iopub.status.busy": "2022-07-21T14:35:07.648359Z",
     "iopub.status.idle": "2022-07-21T14:35:07.676714Z",
     "shell.execute_reply": "2022-07-21T14:35:07.675644Z"
    },
    "papermill": {
     "duration": 0.042492,
     "end_time": "2022-07-21T14:35:07.678925",
     "exception": false,
     "start_time": "2022-07-21T14:35:07.636433",
     "status": "completed"
    },
    "tags": []
   },
   "outputs": [
    {
     "name": "stdout",
     "output_type": "stream",
     "text": [
      "8\n"
     ]
    },
    {
     "data": {
      "text/html": [
       "<div>\n",
       "<style scoped>\n",
       "    .dataframe tbody tr th:only-of-type {\n",
       "        vertical-align: middle;\n",
       "    }\n",
       "\n",
       "    .dataframe tbody tr th {\n",
       "        vertical-align: top;\n",
       "    }\n",
       "\n",
       "    .dataframe thead th {\n",
       "        text-align: right;\n",
       "    }\n",
       "</style>\n",
       "<table border=\"1\" class=\"dataframe\">\n",
       "  <thead>\n",
       "    <tr style=\"text-align: right;\">\n",
       "      <th></th>\n",
       "      <th>P_2_first</th>\n",
       "      <th>P_2_last</th>\n",
       "      <th>P_2_mean</th>\n",
       "      <th>P_2_median</th>\n",
       "      <th>P_2_std</th>\n",
       "      <th>P_2_min</th>\n",
       "      <th>P_2_max</th>\n",
       "      <th>P_2_last_lag_div</th>\n",
       "    </tr>\n",
       "    <tr>\n",
       "      <th>customer_ID</th>\n",
       "      <th></th>\n",
       "      <th></th>\n",
       "      <th></th>\n",
       "      <th></th>\n",
       "      <th></th>\n",
       "      <th></th>\n",
       "      <th></th>\n",
       "      <th></th>\n",
       "    </tr>\n",
       "  </thead>\n",
       "  <tbody>\n",
       "    <tr>\n",
       "      <th>0000099d6bd597052cdcda90ffabf56573fe9d7c79be5fbac11a8ed792feb62a</th>\n",
       "      <td>0.938469</td>\n",
       "      <td>0.934745</td>\n",
       "      <td>0.933824</td>\n",
       "      <td>0.938469</td>\n",
       "      <td>0.024194</td>\n",
       "      <td>0.868580</td>\n",
       "      <td>0.960384</td>\n",
       "      <td>0.996031</td>\n",
       "    </tr>\n",
       "    <tr>\n",
       "      <th>00000fd6641609c6ece5454664794f0340ad84dddce9a267a310b5ae68e9d8e5</th>\n",
       "      <td>0.929122</td>\n",
       "      <td>0.880519</td>\n",
       "      <td>0.899820</td>\n",
       "      <td>0.904814</td>\n",
       "      <td>0.022119</td>\n",
       "      <td>0.861109</td>\n",
       "      <td>0.929122</td>\n",
       "      <td>0.947688</td>\n",
       "    </tr>\n",
       "    <tr>\n",
       "      <th>00001b22f846c82c51f6e3958ccd81970162bae8b007e80662ef27519fcc18c1</th>\n",
       "      <td>0.876615</td>\n",
       "      <td>0.880875</td>\n",
       "      <td>0.878454</td>\n",
       "      <td>0.884522</td>\n",
       "      <td>0.028911</td>\n",
       "      <td>0.797670</td>\n",
       "      <td>0.904482</td>\n",
       "      <td>1.004857</td>\n",
       "    </tr>\n",
       "    <tr>\n",
       "      <th>000041bdba6ecadd89a52d11886e8eaaec9325906c9723355abb5ca523658edc</th>\n",
       "      <td>0.567442</td>\n",
       "      <td>0.621776</td>\n",
       "      <td>0.598969</td>\n",
       "      <td>0.598278</td>\n",
       "      <td>0.020107</td>\n",
       "      <td>0.567442</td>\n",
       "      <td>0.623392</td>\n",
       "      <td>1.095751</td>\n",
       "    </tr>\n",
       "    <tr>\n",
       "      <th>00007889e4fcd2614b6cbe7f8f3d2e5c728eca32d9eb8ad51ca8b8c4a24cefed</th>\n",
       "      <td>0.936842</td>\n",
       "      <td>0.871900</td>\n",
       "      <td>0.891679</td>\n",
       "      <td>0.879238</td>\n",
       "      <td>0.042325</td>\n",
       "      <td>0.805045</td>\n",
       "      <td>0.940382</td>\n",
       "      <td>0.930679</td>\n",
       "    </tr>\n",
       "    <tr>\n",
       "      <th>...</th>\n",
       "      <td>...</td>\n",
       "      <td>...</td>\n",
       "      <td>...</td>\n",
       "      <td>...</td>\n",
       "      <td>...</td>\n",
       "      <td>...</td>\n",
       "      <td>...</td>\n",
       "      <td>...</td>\n",
       "    </tr>\n",
       "    <tr>\n",
       "      <th>ffff41c8a52833b56430603969b9ca48d208e7c192c6a4081a6acc28cf4f8af7</th>\n",
       "      <td>0.859869</td>\n",
       "      <td>0.844229</td>\n",
       "      <td>0.848750</td>\n",
       "      <td>0.859869</td>\n",
       "      <td>0.041969</td>\n",
       "      <td>0.730505</td>\n",
       "      <td>0.895553</td>\n",
       "      <td>0.981810</td>\n",
       "    </tr>\n",
       "    <tr>\n",
       "      <th>ffff518bb2075e4816ee3fe9f3b152c57fc0e6f01bf7fdd3e5b57cfcbee30286</th>\n",
       "      <td>0.863153</td>\n",
       "      <td>0.831279</td>\n",
       "      <td>0.859327</td>\n",
       "      <td>0.864945</td>\n",
       "      <td>0.012425</td>\n",
       "      <td>0.831279</td>\n",
       "      <td>0.868121</td>\n",
       "      <td>0.963072</td>\n",
       "    </tr>\n",
       "    <tr>\n",
       "      <th>ffff9984b999fccb2b6127635ed0736dda94e544e67e026eee4d20f680639ff6</th>\n",
       "      <td>0.793724</td>\n",
       "      <td>0.800522</td>\n",
       "      <td>0.786838</td>\n",
       "      <td>0.793587</td>\n",
       "      <td>0.014312</td>\n",
       "      <td>0.756983</td>\n",
       "      <td>0.802953</td>\n",
       "      <td>1.008564</td>\n",
       "    </tr>\n",
       "    <tr>\n",
       "      <th>ffffa5c46bc8de74f5a4554e74e239c8dee6b9baf388145b2c3d01967fcce461</th>\n",
       "      <td>0.856981</td>\n",
       "      <td>0.754129</td>\n",
       "      <td>0.804454</td>\n",
       "      <td>0.791680</td>\n",
       "      <td>0.037442</td>\n",
       "      <td>0.754129</td>\n",
       "      <td>0.856981</td>\n",
       "      <td>0.879982</td>\n",
       "    </tr>\n",
       "    <tr>\n",
       "      <th>fffff1d38b785cef84adeace64f8f83db3a0c31e8d92eaba8b115f71cab04681</th>\n",
       "      <td>0.999057</td>\n",
       "      <td>0.982175</td>\n",
       "      <td>0.983617</td>\n",
       "      <td>0.982175</td>\n",
       "      <td>0.012879</td>\n",
       "      <td>0.965709</td>\n",
       "      <td>1.005768</td>\n",
       "      <td>0.983101</td>\n",
       "    </tr>\n",
       "  </tbody>\n",
       "</table>\n",
       "<p>458913 rows × 8 columns</p>\n",
       "</div>"
      ],
      "text/plain": [
       "                                                    P_2_first  P_2_last  \\\n",
       "customer_ID                                                               \n",
       "0000099d6bd597052cdcda90ffabf56573fe9d7c79be5fb...   0.938469  0.934745   \n",
       "00000fd6641609c6ece5454664794f0340ad84dddce9a26...   0.929122  0.880519   \n",
       "00001b22f846c82c51f6e3958ccd81970162bae8b007e80...   0.876615  0.880875   \n",
       "000041bdba6ecadd89a52d11886e8eaaec9325906c97233...   0.567442  0.621776   \n",
       "00007889e4fcd2614b6cbe7f8f3d2e5c728eca32d9eb8ad...   0.936842  0.871900   \n",
       "...                                                       ...       ...   \n",
       "ffff41c8a52833b56430603969b9ca48d208e7c192c6a40...   0.859869  0.844229   \n",
       "ffff518bb2075e4816ee3fe9f3b152c57fc0e6f01bf7fdd...   0.863153  0.831279   \n",
       "ffff9984b999fccb2b6127635ed0736dda94e544e67e026...   0.793724  0.800522   \n",
       "ffffa5c46bc8de74f5a4554e74e239c8dee6b9baf388145...   0.856981  0.754129   \n",
       "fffff1d38b785cef84adeace64f8f83db3a0c31e8d92eab...   0.999057  0.982175   \n",
       "\n",
       "                                                    P_2_mean  P_2_median  \\\n",
       "customer_ID                                                                \n",
       "0000099d6bd597052cdcda90ffabf56573fe9d7c79be5fb...  0.933824    0.938469   \n",
       "00000fd6641609c6ece5454664794f0340ad84dddce9a26...  0.899820    0.904814   \n",
       "00001b22f846c82c51f6e3958ccd81970162bae8b007e80...  0.878454    0.884522   \n",
       "000041bdba6ecadd89a52d11886e8eaaec9325906c97233...  0.598969    0.598278   \n",
       "00007889e4fcd2614b6cbe7f8f3d2e5c728eca32d9eb8ad...  0.891679    0.879238   \n",
       "...                                                      ...         ...   \n",
       "ffff41c8a52833b56430603969b9ca48d208e7c192c6a40...  0.848750    0.859869   \n",
       "ffff518bb2075e4816ee3fe9f3b152c57fc0e6f01bf7fdd...  0.859327    0.864945   \n",
       "ffff9984b999fccb2b6127635ed0736dda94e544e67e026...  0.786838    0.793587   \n",
       "ffffa5c46bc8de74f5a4554e74e239c8dee6b9baf388145...  0.804454    0.791680   \n",
       "fffff1d38b785cef84adeace64f8f83db3a0c31e8d92eab...  0.983617    0.982175   \n",
       "\n",
       "                                                     P_2_std   P_2_min  \\\n",
       "customer_ID                                                              \n",
       "0000099d6bd597052cdcda90ffabf56573fe9d7c79be5fb...  0.024194  0.868580   \n",
       "00000fd6641609c6ece5454664794f0340ad84dddce9a26...  0.022119  0.861109   \n",
       "00001b22f846c82c51f6e3958ccd81970162bae8b007e80...  0.028911  0.797670   \n",
       "000041bdba6ecadd89a52d11886e8eaaec9325906c97233...  0.020107  0.567442   \n",
       "00007889e4fcd2614b6cbe7f8f3d2e5c728eca32d9eb8ad...  0.042325  0.805045   \n",
       "...                                                      ...       ...   \n",
       "ffff41c8a52833b56430603969b9ca48d208e7c192c6a40...  0.041969  0.730505   \n",
       "ffff518bb2075e4816ee3fe9f3b152c57fc0e6f01bf7fdd...  0.012425  0.831279   \n",
       "ffff9984b999fccb2b6127635ed0736dda94e544e67e026...  0.014312  0.756983   \n",
       "ffffa5c46bc8de74f5a4554e74e239c8dee6b9baf388145...  0.037442  0.754129   \n",
       "fffff1d38b785cef84adeace64f8f83db3a0c31e8d92eab...  0.012879  0.965709   \n",
       "\n",
       "                                                     P_2_max  P_2_last_lag_div  \n",
       "customer_ID                                                                     \n",
       "0000099d6bd597052cdcda90ffabf56573fe9d7c79be5fb...  0.960384          0.996031  \n",
       "00000fd6641609c6ece5454664794f0340ad84dddce9a26...  0.929122          0.947688  \n",
       "00001b22f846c82c51f6e3958ccd81970162bae8b007e80...  0.904482          1.004857  \n",
       "000041bdba6ecadd89a52d11886e8eaaec9325906c97233...  0.623392          1.095751  \n",
       "00007889e4fcd2614b6cbe7f8f3d2e5c728eca32d9eb8ad...  0.940382          0.930679  \n",
       "...                                                      ...               ...  \n",
       "ffff41c8a52833b56430603969b9ca48d208e7c192c6a40...  0.895553          0.981810  \n",
       "ffff518bb2075e4816ee3fe9f3b152c57fc0e6f01bf7fdd...  0.868121          0.963072  \n",
       "ffff9984b999fccb2b6127635ed0736dda94e544e67e026...  0.802953          1.008564  \n",
       "ffffa5c46bc8de74f5a4554e74e239c8dee6b9baf388145...  0.856981          0.879982  \n",
       "fffff1d38b785cef84adeace64f8f83db3a0c31e8d92eab...  1.005768          0.983101  \n",
       "\n",
       "[458913 rows x 8 columns]"
      ]
     },
     "execution_count": 62,
     "metadata": {},
     "output_type": "execute_result"
    }
   ],
   "source": [
    "select_cols=[col for col in train.columns if (col.startswith(('P_2')))]\n",
    "print(str(len(select_cols)))\n",
    "train[select_cols]"
   ]
  },
  {
   "cell_type": "markdown",
   "id": "8ffe863f",
   "metadata": {
    "papermill": {
     "duration": 0.01087,
     "end_time": "2022-07-21T14:35:07.701316",
     "exception": false,
     "start_time": "2022-07-21T14:35:07.690446",
     "status": "completed"
    },
    "tags": []
   },
   "source": [
    "# Cross-validation\n",
    "\n",
    "We cross-validate with a five-fold StratifiedKFold because the classes are imbalanced.\n",
    "\n",
    "Notice that lightgbm logs the validation score with the competition's scoring function every hundred iterations."
   ]
  },
  {
   "cell_type": "code",
   "execution_count": 63,
   "id": "eb291544",
   "metadata": {
    "execution": {
     "iopub.execute_input": "2022-07-21T14:35:07.725465Z",
     "iopub.status.busy": "2022-07-21T14:35:07.724395Z",
     "iopub.status.idle": "2022-07-21T14:35:07.879749Z",
     "shell.execute_reply": "2022-07-21T14:35:07.878770Z"
    },
    "papermill": {
     "duration": 0.170324,
     "end_time": "2022-07-21T14:35:07.882420",
     "exception": false,
     "start_time": "2022-07-21T14:35:07.712096",
     "status": "completed"
    },
    "tags": []
   },
   "outputs": [
    {
     "data": {
      "text/plain": [
       "4902"
      ]
     },
     "execution_count": 63,
     "metadata": {},
     "output_type": "execute_result"
    }
   ],
   "source": [
    "gc.collect()"
   ]
  },
  {
   "cell_type": "code",
   "execution_count": 64,
   "id": "c63aa733",
   "metadata": {
    "execution": {
     "iopub.execute_input": "2022-07-21T14:35:07.906840Z",
     "iopub.status.busy": "2022-07-21T14:35:07.905897Z",
     "iopub.status.idle": "2022-07-21T14:45:00.904020Z",
     "shell.execute_reply": "2022-07-21T14:45:00.902717Z"
    },
    "papermill": {
     "duration": 593.01298,
     "end_time": "2022-07-21T14:45:00.906356",
     "exception": false,
     "start_time": "2022-07-21T14:35:07.893376",
     "status": "completed"
    },
    "tags": []
   },
   "outputs": [
    {
     "name": "stdout",
     "output_type": "stream",
     "text": [
      "1124 features\n",
      "[100]\tvalid_0's binary_logloss: 0.246949\tvalid_0's amex: 0.765019\n",
      "[200]\tvalid_0's binary_logloss: 0.228415\tvalid_0's amex: 0.77987\n",
      "[300]\tvalid_0's binary_logloss: 0.223543\tvalid_0's amex: 0.785622\n",
      "[400]\tvalid_0's binary_logloss: 0.221365\tvalid_0's amex: 0.78909\n",
      "[500]\tvalid_0's binary_logloss: 0.220208\tvalid_0's amex: 0.790326\n",
      "[600]\tvalid_0's binary_logloss: 0.219471\tvalid_0's amex: 0.790737\n",
      "[700]\tvalid_0's binary_logloss: 0.218937\tvalid_0's amex: 0.792193\n",
      "[800]\tvalid_0's binary_logloss: 0.218578\tvalid_0's amex: 0.793166\n",
      "[900]\tvalid_0's binary_logloss: 0.218367\tvalid_0's amex: 0.793181\n",
      "[1000]\tvalid_0's binary_logloss: 0.218252\tvalid_0's amex: 0.792538\n",
      "[1100]\tvalid_0's binary_logloss: 0.218153\tvalid_0's amex: 0.792414\n",
      "[1200]\tvalid_0's binary_logloss: 0.218143\tvalid_0's amex: 0.793225\n",
      "\u001b[32m\u001b[1mFold 0 | 02:43 |  1200 trees |                Score = 0.79299\u001b[0m\n",
      "[100]\tvalid_0's binary_logloss: 0.245754\tvalid_0's amex: 0.760691\n",
      "[200]\tvalid_0's binary_logloss: 0.227001\tvalid_0's amex: 0.777511\n",
      "[300]\tvalid_0's binary_logloss: 0.222436\tvalid_0's amex: 0.783666\n",
      "[400]\tvalid_0's binary_logloss: 0.220389\tvalid_0's amex: 0.787259\n",
      "[500]\tvalid_0's binary_logloss: 0.219266\tvalid_0's amex: 0.789528\n",
      "[600]\tvalid_0's binary_logloss: 0.218639\tvalid_0's amex: 0.790215\n",
      "[700]\tvalid_0's binary_logloss: 0.218106\tvalid_0's amex: 0.790215\n",
      "[800]\tvalid_0's binary_logloss: 0.217813\tvalid_0's amex: 0.790936\n",
      "[900]\tvalid_0's binary_logloss: 0.217639\tvalid_0's amex: 0.791614\n",
      "[1000]\tvalid_0's binary_logloss: 0.217522\tvalid_0's amex: 0.791913\n",
      "[1100]\tvalid_0's binary_logloss: 0.217478\tvalid_0's amex: 0.791264\n",
      "[1200]\tvalid_0's binary_logloss: 0.217471\tvalid_0's amex: 0.790499\n",
      "\u001b[32m\u001b[1mFold 1 | 02:44 |  1200 trees |                Score = 0.79026\u001b[0m\n",
      "[100]\tvalid_0's binary_logloss: 0.24446\tvalid_0's amex: 0.768437\n",
      "[200]\tvalid_0's binary_logloss: 0.225393\tvalid_0's amex: 0.779778\n",
      "[300]\tvalid_0's binary_logloss: 0.220649\tvalid_0's amex: 0.785097\n",
      "[400]\tvalid_0's binary_logloss: 0.218693\tvalid_0's amex: 0.78793\n",
      "[500]\tvalid_0's binary_logloss: 0.217604\tvalid_0's amex: 0.78946\n",
      "[600]\tvalid_0's binary_logloss: 0.21697\tvalid_0's amex: 0.791047\n",
      "[700]\tvalid_0's binary_logloss: 0.216583\tvalid_0's amex: 0.79135\n",
      "[800]\tvalid_0's binary_logloss: 0.21635\tvalid_0's amex: 0.791977\n",
      "[900]\tvalid_0's binary_logloss: 0.216171\tvalid_0's amex: 0.792592\n",
      "[1000]\tvalid_0's binary_logloss: 0.21607\tvalid_0's amex: 0.79225\n",
      "[1100]\tvalid_0's binary_logloss: 0.216064\tvalid_0's amex: 0.792317\n",
      "[1200]\tvalid_0's binary_logloss: 0.216013\tvalid_0's amex: 0.792741\n",
      "\u001b[32m\u001b[1mFold 2 | 02:45 |  1200 trees |                Score = 0.79252\u001b[0m\n",
      "[100]\tvalid_0's binary_logloss: 0.243323\tvalid_0's amex: 0.769506\n",
      "[200]\tvalid_0's binary_logloss: 0.223876\tvalid_0's amex: 0.782109\n",
      "[300]\tvalid_0's binary_logloss: 0.21916\tvalid_0's amex: 0.788789\n",
      "[400]\tvalid_0's binary_logloss: 0.217228\tvalid_0's amex: 0.789822\n",
      "[500]\tvalid_0's binary_logloss: 0.216149\tvalid_0's amex: 0.790604\n",
      "[600]\tvalid_0's binary_logloss: 0.215564\tvalid_0's amex: 0.792584\n",
      "[700]\tvalid_0's binary_logloss: 0.215153\tvalid_0's amex: 0.793413\n",
      "[800]\tvalid_0's binary_logloss: 0.214947\tvalid_0's amex: 0.794132\n",
      "[900]\tvalid_0's binary_logloss: 0.214724\tvalid_0's amex: 0.794021\n",
      "[1000]\tvalid_0's binary_logloss: 0.214631\tvalid_0's amex: 0.793965\n",
      "[1100]\tvalid_0's binary_logloss: 0.21454\tvalid_0's amex: 0.794294\n",
      "[1200]\tvalid_0's binary_logloss: 0.214516\tvalid_0's amex: 0.793922\n",
      "\u001b[32m\u001b[1mFold 3 | 02:44 |  1200 trees |                Score = 0.79371\u001b[0m\n",
      "[100]\tvalid_0's binary_logloss: 0.24349\tvalid_0's amex: 0.767898\n",
      "[200]\tvalid_0's binary_logloss: 0.224555\tvalid_0's amex: 0.783833\n",
      "[300]\tvalid_0's binary_logloss: 0.219775\tvalid_0's amex: 0.788874\n",
      "[400]\tvalid_0's binary_logloss: 0.217776\tvalid_0's amex: 0.791214\n",
      "[500]\tvalid_0's binary_logloss: 0.21673\tvalid_0's amex: 0.791506\n",
      "[600]\tvalid_0's binary_logloss: 0.216054\tvalid_0's amex: 0.792692\n",
      "[700]\tvalid_0's binary_logloss: 0.21563\tvalid_0's amex: 0.79349\n",
      "[800]\tvalid_0's binary_logloss: 0.215361\tvalid_0's amex: 0.793436\n",
      "[900]\tvalid_0's binary_logloss: 0.215175\tvalid_0's amex: 0.793985\n",
      "[1000]\tvalid_0's binary_logloss: 0.215083\tvalid_0's amex: 0.793344\n",
      "[1100]\tvalid_0's binary_logloss: 0.215036\tvalid_0's amex: 0.79387\n",
      "[1200]\tvalid_0's binary_logloss: 0.215029\tvalid_0's amex: 0.793413\n",
      "\u001b[32m\u001b[1mFold 4 | 02:47 |  1200 trees |                Score = 0.79320\u001b[0m\n",
      "\u001b[32m\u001b[1mOOF Score:                       0.79254\u001b[0m\n",
      "CPU times: total: 5h 1min 5s\n",
      "Wall time: 15min 13s\n"
     ]
    }
   ],
   "source": [
    "%%time\n",
    "# Cross-validation of the classifier\n",
    "\n",
    "### MOVED ABOVE ONLY_FIRST_FOLD = True   ### WAS False\n",
    "\n",
    "features = [f for f in train.columns if f != 'customer_ID' and f != 'target']\n",
    "\n",
    "def my_booster(random_state=1, n_estimators=1200):\n",
    "    return LGBMClassifier(n_estimators=n_estimators,\n",
    "                          learning_rate=0.03, reg_lambda=50,\n",
    "                          min_child_samples=2400,\n",
    "                          num_leaves=95,\n",
    "                          colsample_bytree=0.19,\n",
    "                          max_bins=511, random_state=random_state)\n",
    "      \n",
    "print(f\"{len(features)} features\")\n",
    "score_list = []\n",
    "y_pred_list = []\n",
    "\n",
    "ft_importance=pd.DataFrame(index=train.columns)   ### ADD\n",
    "\n",
    "kf = StratifiedKFold(n_splits=5)\n",
    "for fold, (idx_tr, idx_va) in enumerate(kf.split(train, target)):\n",
    "    X_tr, X_va, y_tr, y_va, model = None, None, None, None, None\n",
    "    start_time = datetime.datetime.now()\n",
    "    X_tr = train.iloc[idx_tr][features]\n",
    "    X_va = train.iloc[idx_va][features]\n",
    "    y_tr = target[idx_tr]\n",
    "    y_va = target[idx_va]\n",
    "    \n",
    "    model = my_booster()\n",
    "    with warnings.catch_warnings():\n",
    "        warnings.filterwarnings('ignore', category=UserWarning)\n",
    "        model.fit(X_tr, y_tr,\n",
    "                  eval_set = [(X_va, y_va)], \n",
    "                  eval_metric=[lgb_amex_metric],\n",
    "                  callbacks=[log_evaluation(100)])\n",
    "    X_tr, y_tr = None, None\n",
    "    y_va_pred = model.predict_proba(X_va, raw_score=True)\n",
    "    score = amex_metric(y_va, y_va_pred)\n",
    "    n_trees = model.best_iteration_\n",
    "    if n_trees is None: n_trees = model.n_estimators\n",
    "    print(f\"{Fore.GREEN}{Style.BRIGHT}Fold {fold} | {str(datetime.datetime.now() - start_time)[-12:-7]} |\"\n",
    "          f\" {n_trees:5} trees |\"\n",
    "          f\"                Score = {score:.5f}{Style.RESET_ALL}\")\n",
    "    score_list.append(score)\n",
    "    ft_importance[\"Importance_Fold\"+str(fold)]=model.feature_importances_   ### ADD\n",
    "    \n",
    "    if INFERENCE:\n",
    "        y_pred_list.append(model.predict_proba(test[features], raw_score=True))\n",
    "        \n",
    "    if ONLY_FIRST_FOLD: break # we only want the first fold\n",
    "    gc.collect()\n",
    "    \n",
    "print(f\"{Fore.GREEN}{Style.BRIGHT}OOF Score:                       {np.mean(score_list):.5f}{Style.RESET_ALL}\")"
   ]
  },
  {
   "cell_type": "code",
   "execution_count": 65,
   "id": "e688ce7f",
   "metadata": {
    "execution": {
     "iopub.execute_input": "2022-07-21T14:45:00.932754Z",
     "iopub.status.busy": "2022-07-21T14:45:00.932156Z",
     "iopub.status.idle": "2022-07-21T14:45:00.939508Z",
     "shell.execute_reply": "2022-07-21T14:45:00.938838Z"
    },
    "papermill": {
     "duration": 0.024448,
     "end_time": "2022-07-21T14:45:00.942555",
     "exception": false,
     "start_time": "2022-07-21T14:45:00.918107",
     "status": "completed"
    },
    "tags": []
   },
   "outputs": [
    {
     "name": "stdout",
     "output_type": "stream",
     "text": [
      "1124\n"
     ]
    },
    {
     "data": {
      "text/plain": [
       "Index(['P_2_first', 'P_2_last', 'P_2_mean', 'P_2_median', 'P_2_std', 'P_2_min',\n",
       "       'P_2_max', 'D_39_first', 'D_39_last', 'D_39_mean',\n",
       "       ...\n",
       "       'D_64_nunique', 'D_64_first', 'D_66_count', 'D_66_last', 'D_66_nunique',\n",
       "       'D_66_first', 'D_68_count', 'D_68_last', 'D_68_nunique', 'D_68_first'],\n",
       "      dtype='object', length=1124)"
      ]
     },
     "execution_count": 65,
     "metadata": {},
     "output_type": "execute_result"
    }
   ],
   "source": [
    "print(str(len(train.columns)))\n",
    "train.columns"
   ]
  },
  {
   "cell_type": "code",
   "execution_count": 66,
   "id": "27c20815",
   "metadata": {
    "execution": {
     "iopub.execute_input": "2022-07-21T14:45:00.969312Z",
     "iopub.status.busy": "2022-07-21T14:45:00.968752Z",
     "iopub.status.idle": "2022-07-21T14:45:02.180257Z",
     "shell.execute_reply": "2022-07-21T14:45:02.179043Z"
    },
    "papermill": {
     "duration": 1.228332,
     "end_time": "2022-07-21T14:45:02.183512",
     "exception": false,
     "start_time": "2022-07-21T14:45:00.955180",
     "status": "completed"
    },
    "tags": []
   },
   "outputs": [
    {
     "data": {
      "application/vnd.plotly.v1+json": {
       "config": {
        "plotlyServerURL": "https://plot.ly"
       },
       "data": [
        {
         "hovertemplate": "%{y} Importance = %{x:.0f}<extra></extra>",
         "marker": {
          "color": [
           "#0b1f5e",
           "#0e2265",
           "#12256d",
           "#162874",
           "#192b7c",
           "#1d2e83",
           "#21308b",
           "#243392",
           "#253795",
           "#243c98",
           "#24419a",
           "#24479d",
           "#234c9f",
           "#2351a2",
           "#2356a4",
           "#225ca7",
           "#2260a9",
           "#2166ac",
           "#216daf",
           "#2073b2",
           "#1f7ab5",
           "#1f80b8",
           "#1e86bb",
           "#1d8dbe",
           "#1d91c0",
           "#2296c1",
           "#269bc1",
           "#2b9fc2",
           "#2fa4c2",
           "#34a9c3",
           "#39adc3",
           "#3db2c4",
           "#40b5c4",
           "#48b9c3",
           "#50bbc2",
           "#57bec1",
           "#5fc1c0",
           "#67c4be",
           "#6fc7bd",
           "#76cabc",
           "#7ecdbb",
           "#85cfba",
           "#8ed3ba",
           "#97d6b9",
           "#a0dab8",
           "#a9ddb7",
           "#b2e1b6",
           "#bbe4b5",
           "#c4e8b4",
           "#c9eab4",
           "#ceecb3",
           "#d3eeb3",
           "#d7efb3",
           "#dcf1b2",
           "#e1f3b2",
           "#e6f5b2",
           "#eaf7b1",
           "#edf8b2",
           "#f0f9b7",
           "#f2fabc",
           "#f4fbc1",
           "#f7fcc6",
           "#f9fdcb",
           "#fbfdd0",
           "#fdfed5"
          ],
          "size": 8
         },
         "mode": "markers",
         "type": "scatter",
         "x": [
          238.8,
          239.6,
          239.6,
          243.6,
          244,
          244,
          245.8,
          246,
          247.6,
          249.6,
          254.6,
          254.8,
          255.4,
          256.8,
          256.8,
          257.4,
          257.8,
          258.2,
          259.2,
          259.2,
          262.2,
          265.8,
          266.4,
          270.6,
          272.8,
          273.4,
          274.6,
          277.2,
          277.2,
          277.6,
          279.8,
          281.6,
          286,
          294.8,
          300,
          302.2,
          303.8,
          304.6,
          314.2,
          317.2,
          323.4,
          329.8,
          337,
          356.8,
          379.4,
          380,
          383,
          396.8,
          407.4,
          452
         ],
         "y": [
          "B_5_last_lag_div",
          "B_7_last",
          "D_43_std",
          "S_3_median",
          "D_52_last_lag_div",
          "S_24_last",
          "D_46_first",
          "D_47_last",
          "D_47_median",
          "S_11_mean",
          "S_23_last_lag_div",
          "B_40_std",
          "B_3_max",
          "B_9_last",
          "B_4_last_lag_div",
          "B_24_last",
          "S_3_min",
          "S_25_max",
          "B_37_last",
          "S_5_last",
          "D_48_last",
          "B_1_last",
          "B_9_last_lag_div",
          "S_3_mean",
          "D_48_last_lag_div",
          "B_4_max",
          "D_119_min",
          "P_3_first",
          "P_2_min",
          "B_3_last_lag_div",
          "P_2_median",
          "S_12_mean",
          "D_39_last",
          "S_12_min",
          "D_39_std",
          "D_43_mean",
          "P_2_mean",
          "B_2_last",
          "R_1_last",
          "P_3_last",
          "P_2_last_lag_div",
          "P_2_last",
          "B_11_last",
          "S_3_last",
          "B_4_std",
          "D_43_last",
          "B_5_last",
          "B_3_last",
          "D_46_last",
          "B_4_last"
         ]
        }
       ],
       "layout": {
        "height": 1000,
        "margin": {
         "l": 150,
         "t": 80
        },
        "shapes": [
         {
          "line": {
           "color": "#0b1f5e",
           "width": 4
          },
          "opacity": 0.8,
          "type": "line",
          "x0": 0,
          "x1": 238.8,
          "y0": 0,
          "y1": 0
         },
         {
          "line": {
           "color": "#0e2265",
           "width": 4
          },
          "opacity": 0.8,
          "type": "line",
          "x0": 0,
          "x1": 239.6,
          "y0": 1,
          "y1": 1
         },
         {
          "line": {
           "color": "#12256d",
           "width": 4
          },
          "opacity": 0.8,
          "type": "line",
          "x0": 0,
          "x1": 239.6,
          "y0": 2,
          "y1": 2
         },
         {
          "line": {
           "color": "#162874",
           "width": 4
          },
          "opacity": 0.8,
          "type": "line",
          "x0": 0,
          "x1": 243.6,
          "y0": 3,
          "y1": 3
         },
         {
          "line": {
           "color": "#192b7c",
           "width": 4
          },
          "opacity": 0.8,
          "type": "line",
          "x0": 0,
          "x1": 244,
          "y0": 4,
          "y1": 4
         },
         {
          "line": {
           "color": "#1d2e83",
           "width": 4
          },
          "opacity": 0.8,
          "type": "line",
          "x0": 0,
          "x1": 244,
          "y0": 5,
          "y1": 5
         },
         {
          "line": {
           "color": "#21308b",
           "width": 4
          },
          "opacity": 0.8,
          "type": "line",
          "x0": 0,
          "x1": 245.8,
          "y0": 6,
          "y1": 6
         },
         {
          "line": {
           "color": "#243392",
           "width": 4
          },
          "opacity": 0.8,
          "type": "line",
          "x0": 0,
          "x1": 246,
          "y0": 7,
          "y1": 7
         },
         {
          "line": {
           "color": "#253795",
           "width": 4
          },
          "opacity": 0.8,
          "type": "line",
          "x0": 0,
          "x1": 247.6,
          "y0": 8,
          "y1": 8
         },
         {
          "line": {
           "color": "#243c98",
           "width": 4
          },
          "opacity": 0.8,
          "type": "line",
          "x0": 0,
          "x1": 249.6,
          "y0": 9,
          "y1": 9
         },
         {
          "line": {
           "color": "#24419a",
           "width": 4
          },
          "opacity": 0.8,
          "type": "line",
          "x0": 0,
          "x1": 254.6,
          "y0": 10,
          "y1": 10
         },
         {
          "line": {
           "color": "#24479d",
           "width": 4
          },
          "opacity": 0.8,
          "type": "line",
          "x0": 0,
          "x1": 254.8,
          "y0": 11,
          "y1": 11
         },
         {
          "line": {
           "color": "#234c9f",
           "width": 4
          },
          "opacity": 0.8,
          "type": "line",
          "x0": 0,
          "x1": 255.4,
          "y0": 12,
          "y1": 12
         },
         {
          "line": {
           "color": "#2351a2",
           "width": 4
          },
          "opacity": 0.8,
          "type": "line",
          "x0": 0,
          "x1": 256.8,
          "y0": 13,
          "y1": 13
         },
         {
          "line": {
           "color": "#2356a4",
           "width": 4
          },
          "opacity": 0.8,
          "type": "line",
          "x0": 0,
          "x1": 256.8,
          "y0": 14,
          "y1": 14
         },
         {
          "line": {
           "color": "#225ca7",
           "width": 4
          },
          "opacity": 0.8,
          "type": "line",
          "x0": 0,
          "x1": 257.4,
          "y0": 15,
          "y1": 15
         },
         {
          "line": {
           "color": "#2260a9",
           "width": 4
          },
          "opacity": 0.8,
          "type": "line",
          "x0": 0,
          "x1": 257.8,
          "y0": 16,
          "y1": 16
         },
         {
          "line": {
           "color": "#2166ac",
           "width": 4
          },
          "opacity": 0.8,
          "type": "line",
          "x0": 0,
          "x1": 258.2,
          "y0": 17,
          "y1": 17
         },
         {
          "line": {
           "color": "#216daf",
           "width": 4
          },
          "opacity": 0.8,
          "type": "line",
          "x0": 0,
          "x1": 259.2,
          "y0": 18,
          "y1": 18
         },
         {
          "line": {
           "color": "#2073b2",
           "width": 4
          },
          "opacity": 0.8,
          "type": "line",
          "x0": 0,
          "x1": 259.2,
          "y0": 19,
          "y1": 19
         },
         {
          "line": {
           "color": "#1f7ab5",
           "width": 4
          },
          "opacity": 0.8,
          "type": "line",
          "x0": 0,
          "x1": 262.2,
          "y0": 20,
          "y1": 20
         },
         {
          "line": {
           "color": "#1f80b8",
           "width": 4
          },
          "opacity": 0.8,
          "type": "line",
          "x0": 0,
          "x1": 265.8,
          "y0": 21,
          "y1": 21
         },
         {
          "line": {
           "color": "#1e86bb",
           "width": 4
          },
          "opacity": 0.8,
          "type": "line",
          "x0": 0,
          "x1": 266.4,
          "y0": 22,
          "y1": 22
         },
         {
          "line": {
           "color": "#1d8dbe",
           "width": 4
          },
          "opacity": 0.8,
          "type": "line",
          "x0": 0,
          "x1": 270.6,
          "y0": 23,
          "y1": 23
         },
         {
          "line": {
           "color": "#1d91c0",
           "width": 4
          },
          "opacity": 0.8,
          "type": "line",
          "x0": 0,
          "x1": 272.8,
          "y0": 24,
          "y1": 24
         },
         {
          "line": {
           "color": "#2296c1",
           "width": 4
          },
          "opacity": 0.8,
          "type": "line",
          "x0": 0,
          "x1": 273.4,
          "y0": 25,
          "y1": 25
         },
         {
          "line": {
           "color": "#269bc1",
           "width": 4
          },
          "opacity": 0.8,
          "type": "line",
          "x0": 0,
          "x1": 274.6,
          "y0": 26,
          "y1": 26
         },
         {
          "line": {
           "color": "#2b9fc2",
           "width": 4
          },
          "opacity": 0.8,
          "type": "line",
          "x0": 0,
          "x1": 277.2,
          "y0": 27,
          "y1": 27
         },
         {
          "line": {
           "color": "#2fa4c2",
           "width": 4
          },
          "opacity": 0.8,
          "type": "line",
          "x0": 0,
          "x1": 277.2,
          "y0": 28,
          "y1": 28
         },
         {
          "line": {
           "color": "#34a9c3",
           "width": 4
          },
          "opacity": 0.8,
          "type": "line",
          "x0": 0,
          "x1": 277.6,
          "y0": 29,
          "y1": 29
         },
         {
          "line": {
           "color": "#39adc3",
           "width": 4
          },
          "opacity": 0.8,
          "type": "line",
          "x0": 0,
          "x1": 279.8,
          "y0": 30,
          "y1": 30
         },
         {
          "line": {
           "color": "#3db2c4",
           "width": 4
          },
          "opacity": 0.8,
          "type": "line",
          "x0": 0,
          "x1": 281.6,
          "y0": 31,
          "y1": 31
         },
         {
          "line": {
           "color": "#40b5c4",
           "width": 4
          },
          "opacity": 0.8,
          "type": "line",
          "x0": 0,
          "x1": 286,
          "y0": 32,
          "y1": 32
         },
         {
          "line": {
           "color": "#48b9c3",
           "width": 4
          },
          "opacity": 0.8,
          "type": "line",
          "x0": 0,
          "x1": 294.8,
          "y0": 33,
          "y1": 33
         },
         {
          "line": {
           "color": "#50bbc2",
           "width": 4
          },
          "opacity": 0.8,
          "type": "line",
          "x0": 0,
          "x1": 300,
          "y0": 34,
          "y1": 34
         },
         {
          "line": {
           "color": "#57bec1",
           "width": 4
          },
          "opacity": 0.8,
          "type": "line",
          "x0": 0,
          "x1": 302.2,
          "y0": 35,
          "y1": 35
         },
         {
          "line": {
           "color": "#5fc1c0",
           "width": 4
          },
          "opacity": 0.8,
          "type": "line",
          "x0": 0,
          "x1": 303.8,
          "y0": 36,
          "y1": 36
         },
         {
          "line": {
           "color": "#67c4be",
           "width": 4
          },
          "opacity": 0.8,
          "type": "line",
          "x0": 0,
          "x1": 304.6,
          "y0": 37,
          "y1": 37
         },
         {
          "line": {
           "color": "#6fc7bd",
           "width": 4
          },
          "opacity": 0.8,
          "type": "line",
          "x0": 0,
          "x1": 314.2,
          "y0": 38,
          "y1": 38
         },
         {
          "line": {
           "color": "#76cabc",
           "width": 4
          },
          "opacity": 0.8,
          "type": "line",
          "x0": 0,
          "x1": 317.2,
          "y0": 39,
          "y1": 39
         },
         {
          "line": {
           "color": "#7ecdbb",
           "width": 4
          },
          "opacity": 0.8,
          "type": "line",
          "x0": 0,
          "x1": 323.4,
          "y0": 40,
          "y1": 40
         },
         {
          "line": {
           "color": "#85cfba",
           "width": 4
          },
          "opacity": 0.8,
          "type": "line",
          "x0": 0,
          "x1": 329.8,
          "y0": 41,
          "y1": 41
         },
         {
          "line": {
           "color": "#8ed3ba",
           "width": 4
          },
          "opacity": 0.8,
          "type": "line",
          "x0": 0,
          "x1": 337,
          "y0": 42,
          "y1": 42
         },
         {
          "line": {
           "color": "#97d6b9",
           "width": 4
          },
          "opacity": 0.8,
          "type": "line",
          "x0": 0,
          "x1": 356.8,
          "y0": 43,
          "y1": 43
         },
         {
          "line": {
           "color": "#a0dab8",
           "width": 4
          },
          "opacity": 0.8,
          "type": "line",
          "x0": 0,
          "x1": 379.4,
          "y0": 44,
          "y1": 44
         },
         {
          "line": {
           "color": "#a9ddb7",
           "width": 4
          },
          "opacity": 0.8,
          "type": "line",
          "x0": 0,
          "x1": 380,
          "y0": 45,
          "y1": 45
         },
         {
          "line": {
           "color": "#b2e1b6",
           "width": 4
          },
          "opacity": 0.8,
          "type": "line",
          "x0": 0,
          "x1": 383,
          "y0": 46,
          "y1": 46
         },
         {
          "line": {
           "color": "#bbe4b5",
           "width": 4
          },
          "opacity": 0.8,
          "type": "line",
          "x0": 0,
          "x1": 396.8,
          "y0": 47,
          "y1": 47
         },
         {
          "line": {
           "color": "#c4e8b4",
           "width": 4
          },
          "opacity": 0.8,
          "type": "line",
          "x0": 0,
          "x1": 407.4,
          "y0": 48,
          "y1": 48
         },
         {
          "line": {
           "color": "#c9eab4",
           "width": 4
          },
          "opacity": 0.8,
          "type": "line",
          "x0": 0,
          "x1": 452,
          "y0": 49,
          "y1": 49
         }
        ],
        "template": {
         "data": {
          "bar": [
           {
            "error_x": {
             "color": "#2a3f5f"
            },
            "error_y": {
             "color": "#2a3f5f"
            },
            "marker": {
             "line": {
              "color": "#E5ECF6",
              "width": 0.5
             },
             "pattern": {
              "fillmode": "overlay",
              "size": 10,
              "solidity": 0.2
             }
            },
            "type": "bar"
           }
          ],
          "barpolar": [
           {
            "marker": {
             "line": {
              "color": "#E5ECF6",
              "width": 0.5
             },
             "pattern": {
              "fillmode": "overlay",
              "size": 10,
              "solidity": 0.2
             }
            },
            "type": "barpolar"
           }
          ],
          "carpet": [
           {
            "aaxis": {
             "endlinecolor": "#2a3f5f",
             "gridcolor": "white",
             "linecolor": "white",
             "minorgridcolor": "white",
             "startlinecolor": "#2a3f5f"
            },
            "baxis": {
             "endlinecolor": "#2a3f5f",
             "gridcolor": "white",
             "linecolor": "white",
             "minorgridcolor": "white",
             "startlinecolor": "#2a3f5f"
            },
            "type": "carpet"
           }
          ],
          "choropleth": [
           {
            "colorbar": {
             "outlinewidth": 0,
             "ticks": ""
            },
            "type": "choropleth"
           }
          ],
          "contour": [
           {
            "colorbar": {
             "outlinewidth": 0,
             "ticks": ""
            },
            "colorscale": [
             [
              0,
              "#0d0887"
             ],
             [
              0.1111111111111111,
              "#46039f"
             ],
             [
              0.2222222222222222,
              "#7201a8"
             ],
             [
              0.3333333333333333,
              "#9c179e"
             ],
             [
              0.4444444444444444,
              "#bd3786"
             ],
             [
              0.5555555555555556,
              "#d8576b"
             ],
             [
              0.6666666666666666,
              "#ed7953"
             ],
             [
              0.7777777777777778,
              "#fb9f3a"
             ],
             [
              0.8888888888888888,
              "#fdca26"
             ],
             [
              1,
              "#f0f921"
             ]
            ],
            "type": "contour"
           }
          ],
          "contourcarpet": [
           {
            "colorbar": {
             "outlinewidth": 0,
             "ticks": ""
            },
            "type": "contourcarpet"
           }
          ],
          "heatmap": [
           {
            "colorbar": {
             "outlinewidth": 0,
             "ticks": ""
            },
            "colorscale": [
             [
              0,
              "#0d0887"
             ],
             [
              0.1111111111111111,
              "#46039f"
             ],
             [
              0.2222222222222222,
              "#7201a8"
             ],
             [
              0.3333333333333333,
              "#9c179e"
             ],
             [
              0.4444444444444444,
              "#bd3786"
             ],
             [
              0.5555555555555556,
              "#d8576b"
             ],
             [
              0.6666666666666666,
              "#ed7953"
             ],
             [
              0.7777777777777778,
              "#fb9f3a"
             ],
             [
              0.8888888888888888,
              "#fdca26"
             ],
             [
              1,
              "#f0f921"
             ]
            ],
            "type": "heatmap"
           }
          ],
          "heatmapgl": [
           {
            "colorbar": {
             "outlinewidth": 0,
             "ticks": ""
            },
            "colorscale": [
             [
              0,
              "#0d0887"
             ],
             [
              0.1111111111111111,
              "#46039f"
             ],
             [
              0.2222222222222222,
              "#7201a8"
             ],
             [
              0.3333333333333333,
              "#9c179e"
             ],
             [
              0.4444444444444444,
              "#bd3786"
             ],
             [
              0.5555555555555556,
              "#d8576b"
             ],
             [
              0.6666666666666666,
              "#ed7953"
             ],
             [
              0.7777777777777778,
              "#fb9f3a"
             ],
             [
              0.8888888888888888,
              "#fdca26"
             ],
             [
              1,
              "#f0f921"
             ]
            ],
            "type": "heatmapgl"
           }
          ],
          "histogram": [
           {
            "marker": {
             "pattern": {
              "fillmode": "overlay",
              "size": 10,
              "solidity": 0.2
             }
            },
            "type": "histogram"
           }
          ],
          "histogram2d": [
           {
            "colorbar": {
             "outlinewidth": 0,
             "ticks": ""
            },
            "colorscale": [
             [
              0,
              "#0d0887"
             ],
             [
              0.1111111111111111,
              "#46039f"
             ],
             [
              0.2222222222222222,
              "#7201a8"
             ],
             [
              0.3333333333333333,
              "#9c179e"
             ],
             [
              0.4444444444444444,
              "#bd3786"
             ],
             [
              0.5555555555555556,
              "#d8576b"
             ],
             [
              0.6666666666666666,
              "#ed7953"
             ],
             [
              0.7777777777777778,
              "#fb9f3a"
             ],
             [
              0.8888888888888888,
              "#fdca26"
             ],
             [
              1,
              "#f0f921"
             ]
            ],
            "type": "histogram2d"
           }
          ],
          "histogram2dcontour": [
           {
            "colorbar": {
             "outlinewidth": 0,
             "ticks": ""
            },
            "colorscale": [
             [
              0,
              "#0d0887"
             ],
             [
              0.1111111111111111,
              "#46039f"
             ],
             [
              0.2222222222222222,
              "#7201a8"
             ],
             [
              0.3333333333333333,
              "#9c179e"
             ],
             [
              0.4444444444444444,
              "#bd3786"
             ],
             [
              0.5555555555555556,
              "#d8576b"
             ],
             [
              0.6666666666666666,
              "#ed7953"
             ],
             [
              0.7777777777777778,
              "#fb9f3a"
             ],
             [
              0.8888888888888888,
              "#fdca26"
             ],
             [
              1,
              "#f0f921"
             ]
            ],
            "type": "histogram2dcontour"
           }
          ],
          "mesh3d": [
           {
            "colorbar": {
             "outlinewidth": 0,
             "ticks": ""
            },
            "type": "mesh3d"
           }
          ],
          "parcoords": [
           {
            "line": {
             "colorbar": {
              "outlinewidth": 0,
              "ticks": ""
             }
            },
            "type": "parcoords"
           }
          ],
          "pie": [
           {
            "automargin": true,
            "type": "pie"
           }
          ],
          "scatter": [
           {
            "fillpattern": {
             "fillmode": "overlay",
             "size": 10,
             "solidity": 0.2
            },
            "type": "scatter"
           }
          ],
          "scatter3d": [
           {
            "line": {
             "colorbar": {
              "outlinewidth": 0,
              "ticks": ""
             }
            },
            "marker": {
             "colorbar": {
              "outlinewidth": 0,
              "ticks": ""
             }
            },
            "type": "scatter3d"
           }
          ],
          "scattercarpet": [
           {
            "marker": {
             "colorbar": {
              "outlinewidth": 0,
              "ticks": ""
             }
            },
            "type": "scattercarpet"
           }
          ],
          "scattergeo": [
           {
            "marker": {
             "colorbar": {
              "outlinewidth": 0,
              "ticks": ""
             }
            },
            "type": "scattergeo"
           }
          ],
          "scattergl": [
           {
            "marker": {
             "colorbar": {
              "outlinewidth": 0,
              "ticks": ""
             }
            },
            "type": "scattergl"
           }
          ],
          "scattermapbox": [
           {
            "marker": {
             "colorbar": {
              "outlinewidth": 0,
              "ticks": ""
             }
            },
            "type": "scattermapbox"
           }
          ],
          "scatterpolar": [
           {
            "marker": {
             "colorbar": {
              "outlinewidth": 0,
              "ticks": ""
             }
            },
            "type": "scatterpolar"
           }
          ],
          "scatterpolargl": [
           {
            "marker": {
             "colorbar": {
              "outlinewidth": 0,
              "ticks": ""
             }
            },
            "type": "scatterpolargl"
           }
          ],
          "scatterternary": [
           {
            "marker": {
             "colorbar": {
              "outlinewidth": 0,
              "ticks": ""
             }
            },
            "type": "scatterternary"
           }
          ],
          "surface": [
           {
            "colorbar": {
             "outlinewidth": 0,
             "ticks": ""
            },
            "colorscale": [
             [
              0,
              "#0d0887"
             ],
             [
              0.1111111111111111,
              "#46039f"
             ],
             [
              0.2222222222222222,
              "#7201a8"
             ],
             [
              0.3333333333333333,
              "#9c179e"
             ],
             [
              0.4444444444444444,
              "#bd3786"
             ],
             [
              0.5555555555555556,
              "#d8576b"
             ],
             [
              0.6666666666666666,
              "#ed7953"
             ],
             [
              0.7777777777777778,
              "#fb9f3a"
             ],
             [
              0.8888888888888888,
              "#fdca26"
             ],
             [
              1,
              "#f0f921"
             ]
            ],
            "type": "surface"
           }
          ],
          "table": [
           {
            "cells": {
             "fill": {
              "color": "#EBF0F8"
             },
             "line": {
              "color": "white"
             }
            },
            "header": {
             "fill": {
              "color": "#C8D4E3"
             },
             "line": {
              "color": "white"
             }
            },
            "type": "table"
           }
          ]
         },
         "layout": {
          "font": {
           "family": "Franklin Gothic",
           "size": 12
          },
          "height": 500,
          "width": 1000
         }
        },
        "title": {
         "text": "LGBM Feature Importance<br>Top 50"
        },
        "width": 800,
        "xaxis": {
         "title": {
          "text": "Importance"
         },
         "zeroline": false
        },
        "yaxis": {
         "showgrid": false
        }
       }
      }
     },
     "metadata": {},
     "output_type": "display_data"
    }
   ],
   "source": [
    "### ADD FROM --> https://www.kaggle.com/code/kellibelcher/amex-default-prediction-eda-lgbm-baseline\n",
    "\n",
    "import seaborn as sns\n",
    "import plotly.graph_objects as go\n",
    "\n",
    "temp=dict(layout=go.Layout(font=dict(family=\"Franklin Gothic\", size=12), \n",
    "                           height=500, width=1000))\n",
    "\n",
    "ft_importance['avg']=ft_importance.mean(axis=1)\n",
    "ft_importance=ft_importance.avg.nlargest(50).sort_values(ascending=True)\n",
    "\n",
    "pal=sns.color_palette(\"YlGnBu\", 65).as_hex()\n",
    "fig=go.Figure()\n",
    "for i in range(len(ft_importance.index)):\n",
    "    fig.add_shape(dict(type=\"line\", y0=i, y1=i, x0=0, x1=ft_importance[i], \n",
    "                       line_color=pal[::-1][i],opacity=0.8,line_width=4))\n",
    "fig.add_trace(go.Scatter(x=ft_importance, y=ft_importance.index, mode='markers', \n",
    "                         marker_color=pal[::-1], marker_size=8,\n",
    "                         hovertemplate='%{y} Importance = %{x:.0f}<extra></extra>'))\n",
    "fig.update_layout(template=temp,title='LGBM Feature Importance<br>Top 50', \n",
    "                  margin=dict(l=150,t=80),\n",
    "                  xaxis=dict(title='Importance', zeroline=False),\n",
    "                  yaxis_showgrid=False, height=1000, width=800)\n",
    "fig.show()"
   ]
  },
  {
   "cell_type": "markdown",
   "id": "6b3a723d",
   "metadata": {
    "papermill": {
     "duration": 0.013164,
     "end_time": "2022-07-21T14:45:02.210259",
     "exception": false,
     "start_time": "2022-07-21T14:45:02.197095",
     "status": "completed"
    },
    "tags": []
   },
   "source": [
    "# Prediction histogram"
   ]
  },
  {
   "cell_type": "code",
   "execution_count": 67,
   "id": "1fa8ddf6",
   "metadata": {
    "execution": {
     "iopub.execute_input": "2022-07-21T14:45:02.239307Z",
     "iopub.status.busy": "2022-07-21T14:45:02.238580Z",
     "iopub.status.idle": "2022-07-21T14:45:02.965582Z",
     "shell.execute_reply": "2022-07-21T14:45:02.964487Z"
    },
    "papermill": {
     "duration": 0.743756,
     "end_time": "2022-07-21T14:45:02.967864",
     "exception": false,
     "start_time": "2022-07-21T14:45:02.224108",
     "status": "completed"
    },
    "tags": []
   },
   "outputs": [
    {
     "data": {
      "image/png": "[encoded data removed]",
      "text/plain": [
       "<Figure size 720x288 with 1 Axes>"
      ]
     },
     "metadata": {
      "needs_background": "light"
     },
     "output_type": "display_data"
    }
   ],
   "source": [
    "def sigmoid(log_odds):\n",
    "    return 1 / (1 + np.exp(-log_odds))\n",
    "\n",
    "plt.figure(figsize=(10, 4))\n",
    "plt.hist(sigmoid(y_va_pred[y_va == 0]), bins=np.linspace(0, 1, 101),\n",
    "         alpha=0.5, density=True, label='0')\n",
    "plt.hist(sigmoid(y_va_pred[y_va == 1]), bins=np.linspace(0, 1, 101),\n",
    "         alpha=0.5, density=True, label='1')\n",
    "plt.xlabel('y_pred')\n",
    "plt.ylabel('density')\n",
    "plt.title('OOF Prediction histogram', color='k')\n",
    "plt.legend()\n",
    "plt.show()"
   ]
  },
  {
   "cell_type": "markdown",
   "id": "d1b71a2c",
   "metadata": {
    "papermill": {
     "duration": 0.012862,
     "end_time": "2022-07-21T14:45:02.993900",
     "exception": false,
     "start_time": "2022-07-21T14:45:02.981038",
     "status": "completed"
    },
    "tags": []
   },
   "source": [
    "# Calibration diagram\n",
    "\n",
    "The calibration diagram shows how the model predicts the default probability of customers:"
   ]
  },
  {
   "cell_type": "code",
   "execution_count": 68,
   "id": "9ef980a6",
   "metadata": {
    "execution": {
     "iopub.execute_input": "2022-07-21T14:45:03.022047Z",
     "iopub.status.busy": "2022-07-21T14:45:03.021650Z",
     "iopub.status.idle": "2022-07-21T14:45:03.258908Z",
     "shell.execute_reply": "2022-07-21T14:45:03.257708Z"
    },
    "papermill": {
     "duration": 0.254001,
     "end_time": "2022-07-21T14:45:03.261127",
     "exception": false,
     "start_time": "2022-07-21T14:45:03.007126",
     "status": "completed"
    },
    "tags": []
   },
   "outputs": [
    {
     "data": {
      "image/png": "[encoded data removed]",
      "text/plain": [
       "<Figure size 864x288 with 1 Axes>"
      ]
     },
     "metadata": {
      "needs_background": "light"
     },
     "output_type": "display_data"
    }
   ],
   "source": [
    "plt.figure(figsize=(12, 4))\n",
    "CalibrationDisplay.from_predictions(y_va, sigmoid(y_va_pred), n_bins=50,\n",
    "                                    strategy='quantile', ax=plt.gca())\n",
    "plt.title('Probability calibration')\n",
    "plt.show()"
   ]
  },
  {
   "cell_type": "markdown",
   "id": "6c9cd6f5",
   "metadata": {
    "papermill": {
     "duration": 0.013275,
     "end_time": "2022-07-21T14:45:03.288019",
     "exception": false,
     "start_time": "2022-07-21T14:45:03.274744",
     "status": "completed"
    },
    "tags": []
   },
   "source": [
    "# Submission\n",
    "\n",
    "We submit the mean of the five predictions. As proposed by @lucasmorin, we [take the mean of the log odds](https://www.kaggle.com/competitions/amex-default-prediction/discussion/329103) rather than of the probabilities."
   ]
  },
  {
   "cell_type": "code",
   "execution_count": 69,
   "id": "66085aa3",
   "metadata": {
    "execution": {
     "iopub.execute_input": "2022-07-21T14:45:03.318416Z",
     "iopub.status.busy": "2022-07-21T14:45:03.317718Z",
     "iopub.status.idle": "2022-07-21T14:45:03.323328Z",
     "shell.execute_reply": "2022-07-21T14:45:03.322300Z"
    },
    "papermill": {
     "duration": 0.023918,
     "end_time": "2022-07-21T14:45:03.325730",
     "exception": false,
     "start_time": "2022-07-21T14:45:03.301812",
     "status": "completed"
    },
    "tags": []
   },
   "outputs": [
    {
     "data": {
      "text/html": [
       "<div>\n",
       "<style scoped>\n",
       "    .dataframe tbody tr th:only-of-type {\n",
       "        vertical-align: middle;\n",
       "    }\n",
       "\n",
       "    .dataframe tbody tr th {\n",
       "        vertical-align: top;\n",
       "    }\n",
       "\n",
       "    .dataframe thead th {\n",
       "        text-align: right;\n",
       "    }\n",
       "</style>\n",
       "<table border=\"1\" class=\"dataframe\">\n",
       "  <thead>\n",
       "    <tr style=\"text-align: right;\">\n",
       "      <th></th>\n",
       "      <th>customer_ID</th>\n",
       "      <th>prediction</th>\n",
       "    </tr>\n",
       "  </thead>\n",
       "  <tbody>\n",
       "    <tr>\n",
       "      <th>0</th>\n",
       "      <td>00000469ba478561f23a92a868bd366de6f6527a684c9a...</td>\n",
       "      <td>-3.927225</td>\n",
       "    </tr>\n",
       "    <tr>\n",
       "      <th>1</th>\n",
       "      <td>00001bf2e77ff879fab36aa4fac689b9ba411dae63ae39...</td>\n",
       "      <td>-7.309913</td>\n",
       "    </tr>\n",
       "    <tr>\n",
       "      <th>2</th>\n",
       "      <td>0000210045da4f81e5f122c6bde5c2a617d03eef67f82c...</td>\n",
       "      <td>-3.131304</td>\n",
       "    </tr>\n",
       "    <tr>\n",
       "      <th>3</th>\n",
       "      <td>00003b41e58ede33b8daf61ab56d9952f17c9ad1c3976c...</td>\n",
       "      <td>-1.514675</td>\n",
       "    </tr>\n",
       "    <tr>\n",
       "      <th>4</th>\n",
       "      <td>00004b22eaeeeb0ec976890c1d9bfc14fd9427e98c4ee9...</td>\n",
       "      <td>1.756631</td>\n",
       "    </tr>\n",
       "    <tr>\n",
       "      <th>...</th>\n",
       "      <td>...</td>\n",
       "      <td>...</td>\n",
       "    </tr>\n",
       "    <tr>\n",
       "      <th>924616</th>\n",
       "      <td>ffff952c631f2c911b8a2a8ca56ea6e656309a83d2f64c...</td>\n",
       "      <td>-4.875607</td>\n",
       "    </tr>\n",
       "    <tr>\n",
       "      <th>924617</th>\n",
       "      <td>ffffcf5df59e5e0bba2a5ac4578a34e2b5aa64a1546cd3...</td>\n",
       "      <td>1.078513</td>\n",
       "    </tr>\n",
       "    <tr>\n",
       "      <th>924618</th>\n",
       "      <td>ffffd61f098cc056dbd7d2a21380c4804bbfe60856f475...</td>\n",
       "      <td>-0.327318</td>\n",
       "    </tr>\n",
       "    <tr>\n",
       "      <th>924619</th>\n",
       "      <td>ffffddef1fc3643ea179c93245b68dca0f36941cd83977...</td>\n",
       "      <td>-0.923045</td>\n",
       "    </tr>\n",
       "    <tr>\n",
       "      <th>924620</th>\n",
       "      <td>fffffa7cf7e453e1acc6a1426475d5cb9400859f82ff61...</td>\n",
       "      <td>-3.015766</td>\n",
       "    </tr>\n",
       "  </tbody>\n",
       "</table>\n",
       "<p>924621 rows × 2 columns</p>\n",
       "</div>"
      ],
      "text/plain": [
       "                                              customer_ID  prediction\n",
       "0       00000469ba478561f23a92a868bd366de6f6527a684c9a...   -3.927225\n",
       "1       00001bf2e77ff879fab36aa4fac689b9ba411dae63ae39...   -7.309913\n",
       "2       0000210045da4f81e5f122c6bde5c2a617d03eef67f82c...   -3.131304\n",
       "3       00003b41e58ede33b8daf61ab56d9952f17c9ad1c3976c...   -1.514675\n",
       "4       00004b22eaeeeb0ec976890c1d9bfc14fd9427e98c4ee9...    1.756631\n",
       "...                                                   ...         ...\n",
       "924616  ffff952c631f2c911b8a2a8ca56ea6e656309a83d2f64c...   -4.875607\n",
       "924617  ffffcf5df59e5e0bba2a5ac4578a34e2b5aa64a1546cd3...    1.078513\n",
       "924618  ffffd61f098cc056dbd7d2a21380c4804bbfe60856f475...   -0.327318\n",
       "924619  ffffddef1fc3643ea179c93245b68dca0f36941cd83977...   -0.923045\n",
       "924620  fffffa7cf7e453e1acc6a1426475d5cb9400859f82ff61...   -3.015766\n",
       "\n",
       "[924621 rows x 2 columns]"
      ]
     },
     "metadata": {},
     "output_type": "display_data"
    }
   ],
   "source": [
    "if INFERENCE:\n",
    "    sub = pd.DataFrame({'customer_ID': test.index,\n",
    "                        'prediction': np.mean(y_pred_list, axis=0)})\n",
    "    sub.to_csv('submission.csv', index=False)\n",
    "    display(sub)"
   ]
  },
  {
   "cell_type": "markdown",
   "id": "cd062043",
   "metadata": {
    "papermill": {
     "duration": 0.01326,
     "end_time": "2022-07-21T14:45:03.353156",
     "exception": false,
     "start_time": "2022-07-21T14:45:03.339896",
     "status": "completed"
    },
    "tags": []
   },
   "source": [
    "As a final check, we verify that the test prediction distribution equals the validation prediction distribution. "
   ]
  },
  {
   "cell_type": "code",
   "execution_count": 70,
   "id": "0d5adf5c",
   "metadata": {
    "execution": {
     "iopub.execute_input": "2022-07-21T14:45:03.382423Z",
     "iopub.status.busy": "2022-07-21T14:45:03.381980Z",
     "iopub.status.idle": "2022-07-21T14:45:03.388618Z",
     "shell.execute_reply": "2022-07-21T14:45:03.387447Z"
    },
    "papermill": {
     "duration": 0.024258,
     "end_time": "2022-07-21T14:45:03.391085",
     "exception": false,
     "start_time": "2022-07-21T14:45:03.366827",
     "status": "completed"
    },
    "tags": []
   },
   "outputs": [
    {
     "data": {
      "image/png": "[encoded data removed]",
      "text/plain": [
       "<Figure size 864x288 with 1 Axes>"
      ]
     },
     "metadata": {
      "needs_background": "light"
     },
     "output_type": "display_data"
    }
   ],
   "source": [
    "if INFERENCE:\n",
    "    plt.figure(figsize=(12, 4))\n",
    "    plt.hist(sigmoid(sub.prediction), bins=np.linspace(0, 1, 101), density=True)\n",
    "    plt.hist(sigmoid(y_va_pred), bins=np.linspace(0, 1, 101), rwidth=0.5, color='orange', density=True)\n",
    "    plt.show()"
   ]
  },
  {
   "cell_type": "code",
   "execution_count": null,
   "id": "1ff3fd8e",
   "metadata": {
    "papermill": {
     "duration": 0.013373,
     "end_time": "2022-07-21T14:45:03.418789",
     "exception": false,
     "start_time": "2022-07-21T14:45:03.405416",
     "status": "completed"
    },
    "tags": []
   },
   "outputs": [],
   "source": []
  }
 ],
 "metadata": {
  "kernelspec": {
   "display_name": "Python 3.10.5 64-bit",
   "language": "python",
   "name": "python3"
  },
  "language_info": {
   "codemirror_mode": {
    "name": "ipython",
    "version": 3
   },
   "file_extension": ".py",
   "mimetype": "text/x-python",
   "name": "python",
   "nbconvert_exporter": "python",
   "pygments_lexer": "ipython3",
   "version": "3.10.5"
  },
  "papermill": {
   "default_parameters": {},
   "duration": 745.434684,
   "end_time": "2022-07-21T14:45:05.708610",
   "environment_variables": {},
   "exception": null,
   "input_path": "__notebook__.ipynb",
   "output_path": "__notebook__.ipynb",
   "parameters": {},
   "start_time": "2022-07-21T14:32:40.273926",
   "version": "2.3.4"
  },
  "vscode": {
   "interpreter": {
    "hash": "bea2f145059fa3dfc9a4373fa52e8ba84bfcc9279a5a4281ca435068bf44c804"
   }
  }
 },
 "nbformat": 4,
 "nbformat_minor": 5
}
