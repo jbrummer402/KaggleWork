{
 "cells": [
  {
   "cell_type": "markdown",
   "id": "a405ad8b",
   "metadata": {
    "papermill": {
     "duration": 0.00705,
     "end_time": "2022-07-19T13:10:50.740512",
     "exception": false,
     "start_time": "2022-07-19T13:10:50.733462",
     "status": "completed"
    },
    "tags": []
   },
   "source": [
    "# XGBoost Starter - LB 0.793\n",
    "In this notebook we build and train an XGBoost model using @raddar Kaggle dataset from [here][1] with discussion [here][2]. Then we engineer features suggested by @huseyincot in his notebooks [here][3] and [here][4]. This XGB model achieves CV 0.792 LB 0.793! When training with XGB, we use a special XGB dataloader called `DeviceQuantileDMatrix` which uses a small GPU memory footprint. This allows us to engineer more additional columns and train with more rows of data. Our feature engineering is performed using [RAPIDS][5] on the GPU to create new features quickly.\n",
    "\n",
    "[1]: https://www.kaggle.com/datasets/raddar/amex-data-integer-dtypes-parquet-format\n",
    "[2]: https://www.kaggle.com/competitions/amex-default-prediction/discussion/328514\n",
    "[3]: https://www.kaggle.com/code/huseyincot/amex-catboost-0-793\n",
    "[4]: https://www.kaggle.com/code/huseyincot/amex-agg-data-how-it-created\n",
    "[5]: https://rapids.ai/"
   ]
  },
  {
   "cell_type": "markdown",
   "id": "dc58024c",
   "metadata": {
    "papermill": {
     "duration": 0.005705,
     "end_time": "2022-07-19T13:10:50.752244",
     "exception": false,
     "start_time": "2022-07-19T13:10:50.746539",
     "status": "completed"
    },
    "tags": []
   },
   "source": [
    "# Load Libraries"
   ]
  },
  {
   "cell_type": "code",
   "execution_count": 1,
   "id": "cf627f34",
   "metadata": {
    "execution": {
     "iopub.execute_input": "2022-07-19T13:10:50.766327Z",
     "iopub.status.busy": "2022-07-19T13:10:50.765813Z",
     "iopub.status.idle": "2022-07-19T13:10:55.193802Z",
     "shell.execute_reply": "2022-07-19T13:10:55.191478Z"
    },
    "papermill": {
     "duration": 4.439058,
     "end_time": "2022-07-19T13:10:55.197210",
     "exception": false,
     "start_time": "2022-07-19T13:10:50.758152",
     "status": "completed"
    },
    "tags": []
   },
   "outputs": [
    {
     "name": "stdout",
     "output_type": "stream",
     "text": [
      "RAPIDS version 21.10.01\n"
     ]
    }
   ],
   "source": [
    "# LOAD LIBRARIES\n",
    "import pandas as pd, numpy as np # CPU libraries\n",
    "import cupy, cudf # GPU libraries\n",
    "import matplotlib.pyplot as plt, gc, os\n",
    "\n",
    "print('RAPIDS version',cudf.__version__)"
   ]
  },
  {
   "cell_type": "code",
   "execution_count": 2,
   "id": "1ed048f4",
   "metadata": {
    "execution": {
     "iopub.execute_input": "2022-07-19T13:10:55.212330Z",
     "iopub.status.busy": "2022-07-19T13:10:55.211970Z",
     "iopub.status.idle": "2022-07-19T13:10:55.216203Z",
     "shell.execute_reply": "2022-07-19T13:10:55.215440Z"
    },
    "papermill": {
     "duration": 0.013206,
     "end_time": "2022-07-19T13:10:55.217971",
     "exception": false,
     "start_time": "2022-07-19T13:10:55.204765",
     "status": "completed"
    },
    "tags": []
   },
   "outputs": [],
   "source": [
    "# VERSION NAME FOR SAVED MODEL FILES\n",
    "VER = 1\n",
    "\n",
    "# TRAIN RANDOM SEED\n",
    "SEED = 2022   ### WAS 42\n",
    "\n",
    "# FILL NAN VALUE\n",
    "NAN_VALUE = -127 # will fit in int8\n",
    "\n",
    "# FOLDS PER MODEL\n",
    "FOLDS = 5"
   ]
  },
  {
   "cell_type": "markdown",
   "id": "2a1ecdce",
   "metadata": {
    "papermill": {
     "duration": 0.005671,
     "end_time": "2022-07-19T13:10:55.229544",
     "exception": false,
     "start_time": "2022-07-19T13:10:55.223873",
     "status": "completed"
    },
    "tags": []
   },
   "source": [
    "# Process and Feature Engineer Train Data\n",
    "We will load @raddar Kaggle dataset from [here][1] with discussion [here][2]. Then we will engineer features suggested by @huseyincot in his notebooks [here][3] and [here][4]. We will use [RAPIDS][5] and the GPU to create new features quickly.\n",
    "\n",
    "[1]: https://www.kaggle.com/datasets/raddar/amex-data-integer-dtypes-parquet-format\n",
    "[2]: https://www.kaggle.com/competitions/amex-default-prediction/discussion/328514\n",
    "[3]: https://www.kaggle.com/code/huseyincot/amex-catboost-0-793\n",
    "[4]: https://www.kaggle.com/code/huseyincot/amex-agg-data-how-it-created\n",
    "[5]: https://rapids.ai/"
   ]
  },
  {
   "cell_type": "code",
   "execution_count": 3,
   "id": "d4f5041a",
   "metadata": {
    "execution": {
     "iopub.execute_input": "2022-07-19T13:10:55.242954Z",
     "iopub.status.busy": "2022-07-19T13:10:55.242231Z",
     "iopub.status.idle": "2022-07-19T13:11:19.206349Z",
     "shell.execute_reply": "2022-07-19T13:11:19.205326Z"
    },
    "papermill": {
     "duration": 23.973414,
     "end_time": "2022-07-19T13:11:19.208842",
     "exception": false,
     "start_time": "2022-07-19T13:10:55.235428",
     "status": "completed"
    },
    "tags": []
   },
   "outputs": [
    {
     "name": "stdout",
     "output_type": "stream",
     "text": [
      "Reading train data...\n",
      "shape of data: (5531451, 190)\n"
     ]
    }
   ],
   "source": [
    "def read_file(path = '', usecols = None):\n",
    "    # LOAD DATAFRAME\n",
    "    if usecols is not None: df = cudf.read_parquet(path, columns=usecols)\n",
    "    else: df = cudf.read_parquet(path)\n",
    "    # REDUCE DTYPE FOR CUSTOMER AND DATE\n",
    "    df['customer_ID'] = df['customer_ID'].str[-16:].str.hex_to_int().astype('int64')\n",
    "    df.S_2 = cudf.to_datetime( df.S_2 )\n",
    "    # SORT BY CUSTOMER AND DATE (so agg('last') works correctly)\n",
    "    #df = df.sort_values(['customer_ID','S_2'])\n",
    "    #df = df.reset_index(drop=True)\n",
    "    # FILL NAN\n",
    "    df = df.fillna(NAN_VALUE) \n",
    "    print('shape of data:', df.shape)\n",
    "    \n",
    "    return df\n",
    "\n",
    "print('Reading train data...')\n",
    "TRAIN_PATH = '../input/amex-data-integer-dtypes-parquet-format/train.parquet'\n",
    "train = read_file(path = TRAIN_PATH)"
   ]
  },
  {
   "cell_type": "code",
   "execution_count": 4,
   "id": "ff74b40a",
   "metadata": {
    "execution": {
     "iopub.execute_input": "2022-07-19T13:11:19.222735Z",
     "iopub.status.busy": "2022-07-19T13:11:19.222414Z",
     "iopub.status.idle": "2022-07-19T13:11:19.456539Z",
     "shell.execute_reply": "2022-07-19T13:11:19.455762Z"
    },
    "papermill": {
     "duration": 0.24309,
     "end_time": "2022-07-19T13:11:19.458478",
     "exception": false,
     "start_time": "2022-07-19T13:11:19.215388",
     "status": "completed"
    },
    "tags": []
   },
   "outputs": [
    {
     "data": {
      "text/html": [
       "<div>\n",
       "<style scoped>\n",
       "    .dataframe tbody tr th:only-of-type {\n",
       "        vertical-align: middle;\n",
       "    }\n",
       "\n",
       "    .dataframe tbody tr th {\n",
       "        vertical-align: top;\n",
       "    }\n",
       "\n",
       "    .dataframe thead th {\n",
       "        text-align: right;\n",
       "    }\n",
       "</style>\n",
       "<table border=\"1\" class=\"dataframe\">\n",
       "  <thead>\n",
       "    <tr style=\"text-align: right;\">\n",
       "      <th></th>\n",
       "      <th>customer_ID</th>\n",
       "      <th>S_2</th>\n",
       "      <th>P_2</th>\n",
       "      <th>D_39</th>\n",
       "      <th>B_1</th>\n",
       "      <th>B_2</th>\n",
       "      <th>R_1</th>\n",
       "      <th>S_3</th>\n",
       "      <th>D_41</th>\n",
       "      <th>B_3</th>\n",
       "      <th>...</th>\n",
       "      <th>D_136</th>\n",
       "      <th>D_137</th>\n",
       "      <th>D_138</th>\n",
       "      <th>D_139</th>\n",
       "      <th>D_140</th>\n",
       "      <th>D_141</th>\n",
       "      <th>D_142</th>\n",
       "      <th>D_143</th>\n",
       "      <th>D_144</th>\n",
       "      <th>D_145</th>\n",
       "    </tr>\n",
       "  </thead>\n",
       "  <tbody>\n",
       "    <tr>\n",
       "      <th>0</th>\n",
       "      <td>-4532153018459703766</td>\n",
       "      <td>2017-03-09</td>\n",
       "      <td>0.938469</td>\n",
       "      <td>0</td>\n",
       "      <td>0.008724</td>\n",
       "      <td>1.006838</td>\n",
       "      <td>0.009228</td>\n",
       "      <td>0.124035</td>\n",
       "      <td>0.0</td>\n",
       "      <td>0.004709</td>\n",
       "      <td>...</td>\n",
       "      <td>-1</td>\n",
       "      <td>-1</td>\n",
       "      <td>-1</td>\n",
       "      <td>0</td>\n",
       "      <td>0</td>\n",
       "      <td>0.0</td>\n",
       "      <td>-127.0</td>\n",
       "      <td>0</td>\n",
       "      <td>0.000610</td>\n",
       "      <td>0</td>\n",
       "    </tr>\n",
       "    <tr>\n",
       "      <th>1</th>\n",
       "      <td>-4532153018459703766</td>\n",
       "      <td>2017-04-07</td>\n",
       "      <td>0.936665</td>\n",
       "      <td>0</td>\n",
       "      <td>0.004923</td>\n",
       "      <td>1.000653</td>\n",
       "      <td>0.006151</td>\n",
       "      <td>0.126750</td>\n",
       "      <td>0.0</td>\n",
       "      <td>0.002714</td>\n",
       "      <td>...</td>\n",
       "      <td>-1</td>\n",
       "      <td>-1</td>\n",
       "      <td>-1</td>\n",
       "      <td>0</td>\n",
       "      <td>0</td>\n",
       "      <td>0.0</td>\n",
       "      <td>-127.0</td>\n",
       "      <td>0</td>\n",
       "      <td>0.005492</td>\n",
       "      <td>0</td>\n",
       "    </tr>\n",
       "    <tr>\n",
       "      <th>2</th>\n",
       "      <td>-4532153018459703766</td>\n",
       "      <td>2017-05-28</td>\n",
       "      <td>0.954180</td>\n",
       "      <td>3</td>\n",
       "      <td>0.021655</td>\n",
       "      <td>1.009672</td>\n",
       "      <td>0.006815</td>\n",
       "      <td>0.123977</td>\n",
       "      <td>0.0</td>\n",
       "      <td>0.009423</td>\n",
       "      <td>...</td>\n",
       "      <td>-1</td>\n",
       "      <td>-1</td>\n",
       "      <td>-1</td>\n",
       "      <td>0</td>\n",
       "      <td>0</td>\n",
       "      <td>0.0</td>\n",
       "      <td>-127.0</td>\n",
       "      <td>0</td>\n",
       "      <td>0.006986</td>\n",
       "      <td>0</td>\n",
       "    </tr>\n",
       "    <tr>\n",
       "      <th>3</th>\n",
       "      <td>-4532153018459703766</td>\n",
       "      <td>2017-06-13</td>\n",
       "      <td>0.960384</td>\n",
       "      <td>0</td>\n",
       "      <td>0.013683</td>\n",
       "      <td>1.002700</td>\n",
       "      <td>0.001373</td>\n",
       "      <td>0.117169</td>\n",
       "      <td>0.0</td>\n",
       "      <td>0.005531</td>\n",
       "      <td>...</td>\n",
       "      <td>-1</td>\n",
       "      <td>-1</td>\n",
       "      <td>-1</td>\n",
       "      <td>0</td>\n",
       "      <td>0</td>\n",
       "      <td>0.0</td>\n",
       "      <td>-127.0</td>\n",
       "      <td>0</td>\n",
       "      <td>0.006527</td>\n",
       "      <td>0</td>\n",
       "    </tr>\n",
       "    <tr>\n",
       "      <th>4</th>\n",
       "      <td>-4532153018459703766</td>\n",
       "      <td>2017-07-16</td>\n",
       "      <td>0.947248</td>\n",
       "      <td>0</td>\n",
       "      <td>0.015193</td>\n",
       "      <td>1.000727</td>\n",
       "      <td>0.007605</td>\n",
       "      <td>0.117325</td>\n",
       "      <td>0.0</td>\n",
       "      <td>0.009312</td>\n",
       "      <td>...</td>\n",
       "      <td>-1</td>\n",
       "      <td>-1</td>\n",
       "      <td>-1</td>\n",
       "      <td>0</td>\n",
       "      <td>0</td>\n",
       "      <td>0.0</td>\n",
       "      <td>-127.0</td>\n",
       "      <td>0</td>\n",
       "      <td>0.008126</td>\n",
       "      <td>0</td>\n",
       "    </tr>\n",
       "  </tbody>\n",
       "</table>\n",
       "<p>5 rows × 190 columns</p>\n",
       "</div>"
      ],
      "text/plain": [
       "           customer_ID        S_2       P_2  D_39       B_1       B_2  \\\n",
       "0 -4532153018459703766 2017-03-09  0.938469     0  0.008724  1.006838   \n",
       "1 -4532153018459703766 2017-04-07  0.936665     0  0.004923  1.000653   \n",
       "2 -4532153018459703766 2017-05-28  0.954180     3  0.021655  1.009672   \n",
       "3 -4532153018459703766 2017-06-13  0.960384     0  0.013683  1.002700   \n",
       "4 -4532153018459703766 2017-07-16  0.947248     0  0.015193  1.000727   \n",
       "\n",
       "        R_1       S_3  D_41       B_3  ...  D_136  D_137  D_138  D_139  D_140  \\\n",
       "0  0.009228  0.124035   0.0  0.004709  ...     -1     -1     -1      0      0   \n",
       "1  0.006151  0.126750   0.0  0.002714  ...     -1     -1     -1      0      0   \n",
       "2  0.006815  0.123977   0.0  0.009423  ...     -1     -1     -1      0      0   \n",
       "3  0.001373  0.117169   0.0  0.005531  ...     -1     -1     -1      0      0   \n",
       "4  0.007605  0.117325   0.0  0.009312  ...     -1     -1     -1      0      0   \n",
       "\n",
       "   D_141  D_142  D_143     D_144  D_145  \n",
       "0    0.0 -127.0      0  0.000610      0  \n",
       "1    0.0 -127.0      0  0.005492      0  \n",
       "2    0.0 -127.0      0  0.006986      0  \n",
       "3    0.0 -127.0      0  0.006527      0  \n",
       "4    0.0 -127.0      0  0.008126      0  \n",
       "\n",
       "[5 rows x 190 columns]"
      ]
     },
     "execution_count": 4,
     "metadata": {},
     "output_type": "execute_result"
    }
   ],
   "source": [
    "train.head()"
   ]
  },
  {
   "cell_type": "code",
   "execution_count": 5,
   "id": "8621c5fe",
   "metadata": {
    "execution": {
     "iopub.execute_input": "2022-07-19T13:11:19.473403Z",
     "iopub.status.busy": "2022-07-19T13:11:19.472614Z",
     "iopub.status.idle": "2022-07-19T13:11:25.683084Z",
     "shell.execute_reply": "2022-07-19T13:11:25.682130Z"
    },
    "papermill": {
     "duration": 6.219922,
     "end_time": "2022-07-19T13:11:25.685189",
     "exception": false,
     "start_time": "2022-07-19T13:11:19.465267",
     "status": "completed"
    },
    "tags": []
   },
   "outputs": [
    {
     "name": "stdout",
     "output_type": "stream",
     "text": [
      "shape after engineering (458913, 1283)\n"
     ]
    }
   ],
   "source": [
    "def process_and_feature_engineer(df):\n",
    "    # FEATURE ENGINEERING FROM \n",
    "    # https://www.kaggle.com/code/huseyincot/amex-agg-data-how-it-created\n",
    "    all_cols = [c for c in list(df.columns) if c not in ['customer_ID','S_2']]\n",
    "    cat_features = [\"B_30\",\"B_38\",\"D_114\",\"D_116\",\"D_117\",\"D_120\",\"D_126\",\"D_63\",\"D_64\",\"D_66\",\"D_68\"]\n",
    "    num_features = [col for col in all_cols if col not in cat_features]\n",
    "\n",
    "#     test_num_agg = df.groupby(\"customer_ID\")[num_features].agg(['mean', 'std', 'min', 'max', 'last']) ### ORIG\n",
    "    test_num_agg = df.groupby(\"customer_ID\")[num_features].agg(['mean', 'std', 'min', 'max', 'last', 'first', 'median'])\n",
    "    test_num_agg.columns = ['_'.join(x) for x in test_num_agg.columns]\n",
    "\n",
    "#     test_cat_agg = df.groupby(\"customer_ID\")[cat_features].agg(['count', 'last', 'nunique'])   ### ORIG\n",
    "    test_cat_agg = df.groupby(\"customer_ID\")[cat_features].agg(['count', 'last', 'nunique', 'first'])\n",
    "\n",
    "    test_cat_agg.columns = ['_'.join(x) for x in test_cat_agg.columns]\n",
    "\n",
    "    df = cudf.concat([test_num_agg, test_cat_agg], axis=1)\n",
    "    del test_num_agg, test_cat_agg\n",
    "    print('shape after engineering', df.shape )\n",
    "    \n",
    "    return df\n",
    "\n",
    "train = process_and_feature_engineer(train)"
   ]
  },
  {
   "cell_type": "code",
   "execution_count": 6,
   "id": "37060949",
   "metadata": {
    "execution": {
     "iopub.execute_input": "2022-07-19T13:11:25.699885Z",
     "iopub.status.busy": "2022-07-19T13:11:25.699107Z",
     "iopub.status.idle": "2022-07-19T13:11:27.632048Z",
     "shell.execute_reply": "2022-07-19T13:11:27.631224Z"
    },
    "papermill": {
     "duration": 1.942835,
     "end_time": "2022-07-19T13:11:27.634516",
     "exception": false,
     "start_time": "2022-07-19T13:11:25.691681",
     "status": "completed"
    },
    "tags": []
   },
   "outputs": [
    {
     "name": "stdout",
     "output_type": "stream",
     "text": [
      "There are 1283 features!\n"
     ]
    }
   ],
   "source": [
    "# ADD TARGETS\n",
    "targets = cudf.read_csv('../input/amex-default-prediction/train_labels.csv')\n",
    "targets['customer_ID'] = targets['customer_ID'].str[-16:].str.hex_to_int().astype('int64')\n",
    "targets = targets.set_index('customer_ID')\n",
    "train = train.merge(targets, left_index=True, right_index=True, how='left')\n",
    "train.target = train.target.astype('int8')\n",
    "del targets\n",
    "\n",
    "# NEEDED TO MAKE CV DETERMINISTIC (cudf merge above randomly shuffles rows)\n",
    "train = train.sort_index().reset_index()\n",
    "\n",
    "# FEATURES\n",
    "FEATURES = train.columns[1:-1]\n",
    "print(f'There are {len(FEATURES)} features!')"
   ]
  },
  {
   "cell_type": "markdown",
   "id": "19c8bcb3",
   "metadata": {
    "papermill": {
     "duration": 0.006164,
     "end_time": "2022-07-19T13:11:27.647314",
     "exception": false,
     "start_time": "2022-07-19T13:11:27.641150",
     "status": "completed"
    },
    "tags": []
   },
   "source": [
    "# Train XGB\n",
    "We will train using `DeviceQuantileDMatrix`. This has a very small GPU memory footprint."
   ]
  },
  {
   "cell_type": "code",
   "execution_count": 7,
   "id": "df12deff",
   "metadata": {
    "execution": {
     "iopub.execute_input": "2022-07-19T13:11:27.661561Z",
     "iopub.status.busy": "2022-07-19T13:11:27.660891Z",
     "iopub.status.idle": "2022-07-19T13:11:27.753493Z",
     "shell.execute_reply": "2022-07-19T13:11:27.752574Z"
    },
    "papermill": {
     "duration": 0.101782,
     "end_time": "2022-07-19T13:11:27.755473",
     "exception": false,
     "start_time": "2022-07-19T13:11:27.653691",
     "status": "completed"
    },
    "tags": []
   },
   "outputs": [
    {
     "name": "stdout",
     "output_type": "stream",
     "text": [
      "XGB Version 1.6.1\n"
     ]
    }
   ],
   "source": [
    "# LOAD XGB LIBRARY\n",
    "from sklearn.model_selection import KFold\n",
    "import xgboost as xgb\n",
    "print('XGB Version',xgb.__version__)\n",
    "\n",
    "# XGB MODEL PARAMETERS\n",
    "xgb_parms = { \n",
    "    'max_depth':4, \n",
    "    'learning_rate':0.05, \n",
    "    'subsample':0.8,\n",
    "    'colsample_bytree':0.6, \n",
    "    'eval_metric':'logloss',\n",
    "    'objective':'binary:logistic',\n",
    "    'tree_method':'gpu_hist',\n",
    "    'predictor':'gpu_predictor',\n",
    "    'random_state':SEED\n",
    "}"
   ]
  },
  {
   "cell_type": "code",
   "execution_count": 8,
   "id": "d4142396",
   "metadata": {
    "execution": {
     "iopub.execute_input": "2022-07-19T13:11:27.769825Z",
     "iopub.status.busy": "2022-07-19T13:11:27.769173Z",
     "iopub.status.idle": "2022-07-19T13:11:27.778806Z",
     "shell.execute_reply": "2022-07-19T13:11:27.778106Z"
    },
    "papermill": {
     "duration": 0.018518,
     "end_time": "2022-07-19T13:11:27.780478",
     "exception": false,
     "start_time": "2022-07-19T13:11:27.761960",
     "status": "completed"
    },
    "tags": []
   },
   "outputs": [],
   "source": [
    "# NEEDED WITH DeviceQuantileDMatrix BELOW\n",
    "class IterLoadForDMatrix(xgb.core.DataIter):\n",
    "    def __init__(self, df=None, features=None, target=None, batch_size=256*1024):\n",
    "        self.features = features\n",
    "        self.target = target\n",
    "        self.df = df\n",
    "        self.it = 0 # set iterator to 0\n",
    "        self.batch_size = batch_size\n",
    "        self.batches = int( np.ceil( len(df) / self.batch_size ) )\n",
    "        super().__init__()\n",
    "\n",
    "    def reset(self):\n",
    "        '''Reset the iterator'''\n",
    "        self.it = 0\n",
    "\n",
    "    def next(self, input_data):\n",
    "        '''Yield next batch of data.'''\n",
    "        if self.it == self.batches:\n",
    "            return 0 # Return 0 when there's no more batch.\n",
    "        \n",
    "        a = self.it * self.batch_size\n",
    "        b = min( (self.it + 1) * self.batch_size, len(self.df) )\n",
    "        dt = cudf.DataFrame(self.df.iloc[a:b])\n",
    "        input_data(data=dt[self.features], label=dt[self.target]) #, weight=dt['weight'])\n",
    "        self.it += 1\n",
    "        return 1"
   ]
  },
  {
   "cell_type": "code",
   "execution_count": 9,
   "id": "985f686c",
   "metadata": {
    "execution": {
     "iopub.execute_input": "2022-07-19T13:11:27.794583Z",
     "iopub.status.busy": "2022-07-19T13:11:27.793994Z",
     "iopub.status.idle": "2022-07-19T13:11:27.803016Z",
     "shell.execute_reply": "2022-07-19T13:11:27.802221Z"
    },
    "papermill": {
     "duration": 0.017814,
     "end_time": "2022-07-19T13:11:27.804653",
     "exception": false,
     "start_time": "2022-07-19T13:11:27.786839",
     "status": "completed"
    },
    "tags": []
   },
   "outputs": [],
   "source": [
    "# https://www.kaggle.com/kyakovlev\n",
    "# https://www.kaggle.com/competitions/amex-default-prediction/discussion/327534\n",
    "def amex_metric_mod(y_true, y_pred):\n",
    "\n",
    "    labels     = np.transpose(np.array([y_true, y_pred]))\n",
    "    labels     = labels[labels[:, 1].argsort()[::-1]]\n",
    "    weights    = np.where(labels[:,0]==0, 20, 1)\n",
    "    cut_vals   = labels[np.cumsum(weights) <= int(0.04 * np.sum(weights))]\n",
    "    top_four   = np.sum(cut_vals[:,0]) / np.sum(labels[:,0])\n",
    "\n",
    "    gini = [0,0]\n",
    "    for i in [1,0]:\n",
    "        labels         = np.transpose(np.array([y_true, y_pred]))\n",
    "        labels         = labels[labels[:, i].argsort()[::-1]]\n",
    "        weight         = np.where(labels[:,0]==0, 20, 1)\n",
    "        weight_random  = np.cumsum(weight / np.sum(weight))\n",
    "        total_pos      = np.sum(labels[:, 0] *  weight)\n",
    "        cum_pos_found  = np.cumsum(labels[:, 0] * weight)\n",
    "        lorentz        = cum_pos_found / total_pos\n",
    "        gini[i]        = np.sum((lorentz - weight_random) * weight)\n",
    "\n",
    "    return 0.5 * (gini[1]/gini[0] + top_four)"
   ]
  },
  {
   "cell_type": "code",
   "execution_count": 10,
   "id": "5b1536f7",
   "metadata": {
    "execution": {
     "iopub.execute_input": "2022-07-19T13:11:27.819349Z",
     "iopub.status.busy": "2022-07-19T13:11:27.818763Z",
     "iopub.status.idle": "2022-07-19T13:26:54.867241Z",
     "shell.execute_reply": "2022-07-19T13:26:54.865699Z"
    },
    "papermill": {
     "duration": 927.057616,
     "end_time": "2022-07-19T13:26:54.869144",
     "exception": false,
     "start_time": "2022-07-19T13:11:27.811528",
     "status": "completed"
    },
    "scrolled": true,
    "tags": []
   },
   "outputs": [
    {
     "name": "stdout",
     "output_type": "stream",
     "text": [
      "#########################\n",
      "### Fold 1\n",
      "### Train size 367130 Valid size 91783\n",
      "### Training with 100% fold data...\n",
      "#########################\n",
      "[0]\ttrain-logloss:0.66205\tvalid-logloss:0.66198\n",
      "[100]\ttrain-logloss:0.23691\tvalid-logloss:0.23874\n",
      "[200]\ttrain-logloss:0.22256\tvalid-logloss:0.22682\n",
      "[300]\ttrain-logloss:0.21630\tvalid-logloss:0.22279\n",
      "[400]\ttrain-logloss:0.21214\tvalid-logloss:0.22084\n",
      "[500]\ttrain-logloss:0.20883\tvalid-logloss:0.21968\n",
      "[600]\ttrain-logloss:0.20601\tvalid-logloss:0.21898\n",
      "[700]\ttrain-logloss:0.20348\tvalid-logloss:0.21854\n",
      "[800]\ttrain-logloss:0.20107\tvalid-logloss:0.21817\n",
      "[900]\ttrain-logloss:0.19885\tvalid-logloss:0.21793\n",
      "[1000]\ttrain-logloss:0.19665\tvalid-logloss:0.21769\n",
      "[1100]\ttrain-logloss:0.19454\tvalid-logloss:0.21761\n",
      "[1200]\ttrain-logloss:0.19251\tvalid-logloss:0.21751\n",
      "[1300]\ttrain-logloss:0.19047\tvalid-logloss:0.21744\n",
      "[1400]\ttrain-logloss:0.18854\tvalid-logloss:0.21738\n",
      "[1500]\ttrain-logloss:0.18666\tvalid-logloss:0.21730\n",
      "[1600]\ttrain-logloss:0.18479\tvalid-logloss:0.21730\n",
      "[1700]\ttrain-logloss:0.18301\tvalid-logloss:0.21721\n",
      "[1800]\ttrain-logloss:0.18123\tvalid-logloss:0.21719\n",
      "[1864]\ttrain-logloss:0.18012\tvalid-logloss:0.21721\n",
      "Kaggle Metric = 0.7905687381395934 \n",
      "\n",
      "#########################\n",
      "### Fold 2\n",
      "### Train size 367130 Valid size 91783\n",
      "### Training with 100% fold data...\n",
      "#########################\n",
      "[0]\ttrain-logloss:0.66203\tvalid-logloss:0.66209\n",
      "[100]\ttrain-logloss:0.23619\tvalid-logloss:0.24118\n",
      "[200]\ttrain-logloss:0.22180\tvalid-logloss:0.22931\n",
      "[300]\ttrain-logloss:0.21570\tvalid-logloss:0.22529\n",
      "[400]\ttrain-logloss:0.21162\tvalid-logloss:0.22317\n",
      "[500]\ttrain-logloss:0.20833\tvalid-logloss:0.22192\n",
      "[600]\ttrain-logloss:0.20554\tvalid-logloss:0.22105\n",
      "[700]\ttrain-logloss:0.20304\tvalid-logloss:0.22048\n",
      "[800]\ttrain-logloss:0.20068\tvalid-logloss:0.22007\n",
      "[900]\ttrain-logloss:0.19843\tvalid-logloss:0.21969\n",
      "[1000]\ttrain-logloss:0.19634\tvalid-logloss:0.21950\n",
      "[1100]\ttrain-logloss:0.19420\tvalid-logloss:0.21934\n",
      "[1200]\ttrain-logloss:0.19220\tvalid-logloss:0.21910\n",
      "[1300]\ttrain-logloss:0.19020\tvalid-logloss:0.21899\n",
      "[1400]\ttrain-logloss:0.18829\tvalid-logloss:0.21887\n",
      "[1500]\ttrain-logloss:0.18641\tvalid-logloss:0.21874\n",
      "[1600]\ttrain-logloss:0.18452\tvalid-logloss:0.21867\n",
      "[1700]\ttrain-logloss:0.18274\tvalid-logloss:0.21862\n",
      "[1800]\ttrain-logloss:0.18104\tvalid-logloss:0.21859\n",
      "[1900]\ttrain-logloss:0.17927\tvalid-logloss:0.21855\n",
      "[2000]\ttrain-logloss:0.17761\tvalid-logloss:0.21850\n",
      "[2100]\ttrain-logloss:0.17599\tvalid-logloss:0.21855\n",
      "[2145]\ttrain-logloss:0.17525\tvalid-logloss:0.21853\n",
      "Kaggle Metric = 0.791018364229119 \n",
      "\n",
      "#########################\n",
      "### Fold 3\n",
      "### Train size 367130 Valid size 91783\n",
      "### Training with 100% fold data...\n",
      "#########################\n",
      "[0]\ttrain-logloss:0.66207\tvalid-logloss:0.66209\n",
      "[100]\ttrain-logloss:0.23708\tvalid-logloss:0.23783\n",
      "[200]\ttrain-logloss:0.22270\tvalid-logloss:0.22575\n",
      "[300]\ttrain-logloss:0.21654\tvalid-logloss:0.22170\n",
      "[400]\ttrain-logloss:0.21240\tvalid-logloss:0.21968\n",
      "[500]\ttrain-logloss:0.20917\tvalid-logloss:0.21854\n",
      "[600]\ttrain-logloss:0.20637\tvalid-logloss:0.21781\n",
      "[700]\ttrain-logloss:0.20380\tvalid-logloss:0.21728\n",
      "[800]\ttrain-logloss:0.20144\tvalid-logloss:0.21700\n",
      "[900]\ttrain-logloss:0.19918\tvalid-logloss:0.21665\n",
      "[1000]\ttrain-logloss:0.19702\tvalid-logloss:0.21643\n",
      "[1100]\ttrain-logloss:0.19492\tvalid-logloss:0.21622\n",
      "[1200]\ttrain-logloss:0.19295\tvalid-logloss:0.21614\n",
      "[1300]\ttrain-logloss:0.19101\tvalid-logloss:0.21604\n",
      "[1400]\ttrain-logloss:0.18903\tvalid-logloss:0.21587\n",
      "[1500]\ttrain-logloss:0.18718\tvalid-logloss:0.21582\n",
      "[1600]\ttrain-logloss:0.18533\tvalid-logloss:0.21588\n",
      "[1625]\ttrain-logloss:0.18488\tvalid-logloss:0.21587\n",
      "Kaggle Metric = 0.7935638410171084 \n",
      "\n",
      "#########################\n",
      "### Fold 4\n",
      "### Train size 367131 Valid size 91782\n",
      "### Training with 100% fold data...\n",
      "#########################\n",
      "[0]\ttrain-logloss:0.66203\tvalid-logloss:0.66206\n",
      "[100]\ttrain-logloss:0.23694\tvalid-logloss:0.23899\n",
      "[200]\ttrain-logloss:0.22253\tvalid-logloss:0.22676\n",
      "[300]\ttrain-logloss:0.21635\tvalid-logloss:0.22278\n",
      "[400]\ttrain-logloss:0.21217\tvalid-logloss:0.22074\n",
      "[500]\ttrain-logloss:0.20899\tvalid-logloss:0.21962\n",
      "[600]\ttrain-logloss:0.20613\tvalid-logloss:0.21885\n",
      "[700]\ttrain-logloss:0.20360\tvalid-logloss:0.21846\n",
      "[800]\ttrain-logloss:0.20121\tvalid-logloss:0.21813\n",
      "[900]\ttrain-logloss:0.19891\tvalid-logloss:0.21791\n",
      "[1000]\ttrain-logloss:0.19672\tvalid-logloss:0.21771\n",
      "[1100]\ttrain-logloss:0.19458\tvalid-logloss:0.21753\n",
      "[1200]\ttrain-logloss:0.19258\tvalid-logloss:0.21743\n",
      "[1300]\ttrain-logloss:0.19054\tvalid-logloss:0.21738\n",
      "[1400]\ttrain-logloss:0.18857\tvalid-logloss:0.21723\n",
      "[1500]\ttrain-logloss:0.18667\tvalid-logloss:0.21720\n",
      "[1600]\ttrain-logloss:0.18486\tvalid-logloss:0.21714\n",
      "[1700]\ttrain-logloss:0.18305\tvalid-logloss:0.21712\n",
      "[1800]\ttrain-logloss:0.18128\tvalid-logloss:0.21705\n",
      "[1894]\ttrain-logloss:0.17964\tvalid-logloss:0.21711\n",
      "Kaggle Metric = 0.7940197684792016 \n",
      "\n",
      "#########################\n",
      "### Fold 5\n",
      "### Train size 367131 Valid size 91782\n",
      "### Training with 100% fold data...\n",
      "#########################\n",
      "[0]\ttrain-logloss:0.66204\tvalid-logloss:0.66211\n",
      "[100]\ttrain-logloss:0.23659\tvalid-logloss:0.23950\n",
      "[200]\ttrain-logloss:0.22217\tvalid-logloss:0.22764\n",
      "[300]\ttrain-logloss:0.21607\tvalid-logloss:0.22384\n",
      "[400]\ttrain-logloss:0.21189\tvalid-logloss:0.22192\n",
      "[500]\ttrain-logloss:0.20863\tvalid-logloss:0.22077\n",
      "[600]\ttrain-logloss:0.20577\tvalid-logloss:0.22000\n",
      "[700]\ttrain-logloss:0.20322\tvalid-logloss:0.21936\n",
      "[800]\ttrain-logloss:0.20081\tvalid-logloss:0.21899\n",
      "[900]\ttrain-logloss:0.19848\tvalid-logloss:0.21866\n",
      "[1000]\ttrain-logloss:0.19635\tvalid-logloss:0.21841\n",
      "[1100]\ttrain-logloss:0.19420\tvalid-logloss:0.21823\n",
      "[1200]\ttrain-logloss:0.19221\tvalid-logloss:0.21813\n",
      "[1300]\ttrain-logloss:0.19023\tvalid-logloss:0.21802\n",
      "[1400]\ttrain-logloss:0.18832\tvalid-logloss:0.21796\n",
      "[1500]\ttrain-logloss:0.18639\tvalid-logloss:0.21792\n",
      "[1600]\ttrain-logloss:0.18452\tvalid-logloss:0.21791\n",
      "[1700]\ttrain-logloss:0.18273\tvalid-logloss:0.21783\n",
      "[1800]\ttrain-logloss:0.18102\tvalid-logloss:0.21776\n",
      "[1900]\ttrain-logloss:0.17927\tvalid-logloss:0.21776\n",
      "[2000]\ttrain-logloss:0.17766\tvalid-logloss:0.21780\n",
      "[2048]\ttrain-logloss:0.17683\tvalid-logloss:0.21779\n",
      "Kaggle Metric = 0.7922011624678413 \n",
      "\n",
      "#########################\n",
      "OVERALL CV Kaggle Metric = 0.7919923184397885\n"
     ]
    }
   ],
   "source": [
    "importances = []\n",
    "oof = []\n",
    "train = train.to_pandas() # free GPU memory\n",
    "TRAIN_SUBSAMPLE = 1.0\n",
    "gc.collect()\n",
    "\n",
    "skf = KFold(n_splits=FOLDS, shuffle=True, random_state=SEED)\n",
    "for fold,(train_idx, valid_idx) in enumerate(skf.split(\n",
    "            train, train.target )):\n",
    "    \n",
    "    # TRAIN WITH SUBSAMPLE OF TRAIN FOLD DATA\n",
    "    if TRAIN_SUBSAMPLE<1.0:\n",
    "        np.random.seed(SEED)\n",
    "        train_idx = np.random.choice(train_idx, \n",
    "                       int(len(train_idx)*TRAIN_SUBSAMPLE), replace=False)\n",
    "        np.random.seed(None)\n",
    "    \n",
    "    print('#'*25)\n",
    "    print('### Fold',fold+1)\n",
    "    print('### Train size',len(train_idx),'Valid size',len(valid_idx))\n",
    "    print(f'### Training with {int(TRAIN_SUBSAMPLE*100)}% fold data...')\n",
    "    print('#'*25)\n",
    "    \n",
    "    # TRAIN, VALID, TEST FOR FOLD K\n",
    "    Xy_train = IterLoadForDMatrix(train.loc[train_idx], FEATURES, 'target')\n",
    "    X_valid = train.loc[valid_idx, FEATURES]\n",
    "    y_valid = train.loc[valid_idx, 'target']\n",
    "    \n",
    "    dtrain = xgb.DeviceQuantileDMatrix(Xy_train, max_bin=256)\n",
    "    dvalid = xgb.DMatrix(data=X_valid, label=y_valid)\n",
    "    \n",
    "    # TRAIN MODEL FOLD K\n",
    "    model = xgb.train(xgb_parms, \n",
    "                dtrain=dtrain,\n",
    "                evals=[(dtrain,'train'),(dvalid,'valid')],\n",
    "                num_boost_round=9999,\n",
    "                early_stopping_rounds=100,\n",
    "                verbose_eval=100) \n",
    "    model.save_model(f'XGB_v{VER}_fold{fold}.xgb')\n",
    "    \n",
    "    # GET FEATURE IMPORTANCE FOR FOLD K\n",
    "    dd = model.get_score(importance_type='weight')\n",
    "    df = pd.DataFrame({'feature':dd.keys(),f'importance_{fold}':dd.values()})\n",
    "    importances.append(df)\n",
    "            \n",
    "    # INFER OOF FOLD K\n",
    "    oof_preds = model.predict(dvalid)\n",
    "    acc = amex_metric_mod(y_valid.values, oof_preds)\n",
    "    print('Kaggle Metric =',acc,'\\n')\n",
    "    \n",
    "    # SAVE OOF\n",
    "    df = train.loc[valid_idx, ['customer_ID','target'] ].copy()\n",
    "    df['oof_pred'] = oof_preds\n",
    "    oof.append( df )\n",
    "    \n",
    "    del dtrain, Xy_train, dd, df\n",
    "    del X_valid, y_valid, dvalid, model\n",
    "    _ = gc.collect()\n",
    "    \n",
    "print('#'*25)\n",
    "oof = pd.concat(oof,axis=0,ignore_index=True).set_index('customer_ID')\n",
    "acc = amex_metric_mod(oof.target.values, oof.oof_pred.values)\n",
    "print('OVERALL CV Kaggle Metric =',acc)"
   ]
  },
  {
   "cell_type": "code",
   "execution_count": 11,
   "id": "3bd60ab7",
   "metadata": {
    "execution": {
     "iopub.execute_input": "2022-07-19T13:26:54.896632Z",
     "iopub.status.busy": "2022-07-19T13:26:54.896313Z",
     "iopub.status.idle": "2022-07-19T13:26:55.107997Z",
     "shell.execute_reply": "2022-07-19T13:26:55.107231Z"
    },
    "papermill": {
     "duration": 0.22741,
     "end_time": "2022-07-19T13:26:55.109884",
     "exception": false,
     "start_time": "2022-07-19T13:26:54.882474",
     "status": "completed"
    },
    "tags": []
   },
   "outputs": [],
   "source": [
    "# CLEAN RAM\n",
    "del train\n",
    "_ = gc.collect()"
   ]
  },
  {
   "cell_type": "markdown",
   "id": "53997960",
   "metadata": {
    "papermill": {
     "duration": 0.013681,
     "end_time": "2022-07-19T13:26:55.138703",
     "exception": false,
     "start_time": "2022-07-19T13:26:55.125022",
     "status": "completed"
    },
    "tags": []
   },
   "source": [
    "# Save OOF Preds"
   ]
  },
  {
   "cell_type": "code",
   "execution_count": 12,
   "id": "b47a80e8",
   "metadata": {
    "execution": {
     "iopub.execute_input": "2022-07-19T13:26:55.166661Z",
     "iopub.status.busy": "2022-07-19T13:26:55.166333Z",
     "iopub.status.idle": "2022-07-19T13:27:01.214478Z",
     "shell.execute_reply": "2022-07-19T13:27:01.213683Z"
    },
    "papermill": {
     "duration": 6.064824,
     "end_time": "2022-07-19T13:27:01.216611",
     "exception": false,
     "start_time": "2022-07-19T13:26:55.151787",
     "status": "completed"
    },
    "tags": []
   },
   "outputs": [
    {
     "data": {
      "text/html": [
       "<div>\n",
       "<style scoped>\n",
       "    .dataframe tbody tr th:only-of-type {\n",
       "        vertical-align: middle;\n",
       "    }\n",
       "\n",
       "    .dataframe tbody tr th {\n",
       "        vertical-align: top;\n",
       "    }\n",
       "\n",
       "    .dataframe thead th {\n",
       "        text-align: right;\n",
       "    }\n",
       "</style>\n",
       "<table border=\"1\" class=\"dataframe\">\n",
       "  <thead>\n",
       "    <tr style=\"text-align: right;\">\n",
       "      <th></th>\n",
       "      <th>customer_ID</th>\n",
       "      <th>target</th>\n",
       "      <th>oof_pred</th>\n",
       "    </tr>\n",
       "  </thead>\n",
       "  <tbody>\n",
       "    <tr>\n",
       "      <th>0</th>\n",
       "      <td>20eac26171c3d251c55fc78204e59fab1c15fc2bc96d0c...</td>\n",
       "      <td>1</td>\n",
       "      <td>0.735658</td>\n",
       "    </tr>\n",
       "    <tr>\n",
       "      <th>1</th>\n",
       "      <td>aea50fdf9b974ccec95fa177c3225a0f913483b457de6e...</td>\n",
       "      <td>0</td>\n",
       "      <td>0.000337</td>\n",
       "    </tr>\n",
       "    <tr>\n",
       "      <th>2</th>\n",
       "      <td>32cd2d41aef737b69089882754395925c96eaee1f4a859...</td>\n",
       "      <td>0</td>\n",
       "      <td>0.001552</td>\n",
       "    </tr>\n",
       "    <tr>\n",
       "      <th>3</th>\n",
       "      <td>8daa6d5dc2655a8a437531e6b8b96829113cdfe9bf6cae...</td>\n",
       "      <td>0</td>\n",
       "      <td>0.019825</td>\n",
       "    </tr>\n",
       "    <tr>\n",
       "      <th>4</th>\n",
       "      <td>0ceba351a3851202542feb49d7385bcef32f6037fc57c7...</td>\n",
       "      <td>1</td>\n",
       "      <td>0.899458</td>\n",
       "    </tr>\n",
       "  </tbody>\n",
       "</table>\n",
       "</div>"
      ],
      "text/plain": [
       "                                         customer_ID  target  oof_pred\n",
       "0  20eac26171c3d251c55fc78204e59fab1c15fc2bc96d0c...       1  0.735658\n",
       "1  aea50fdf9b974ccec95fa177c3225a0f913483b457de6e...       0  0.000337\n",
       "2  32cd2d41aef737b69089882754395925c96eaee1f4a859...       0  0.001552\n",
       "3  8daa6d5dc2655a8a437531e6b8b96829113cdfe9bf6cae...       0  0.019825\n",
       "4  0ceba351a3851202542feb49d7385bcef32f6037fc57c7...       1  0.899458"
      ]
     },
     "execution_count": 12,
     "metadata": {},
     "output_type": "execute_result"
    }
   ],
   "source": [
    "oof_xgb = pd.read_parquet(TRAIN_PATH, columns=['customer_ID']).drop_duplicates()\n",
    "oof_xgb['customer_ID_hash'] = oof_xgb['customer_ID'].apply(lambda x: int(x[-16:],16) ).astype('int64')\n",
    "oof_xgb = oof_xgb.set_index('customer_ID_hash')\n",
    "oof_xgb = oof_xgb.merge(oof, left_index=True, right_index=True)\n",
    "oof_xgb = oof_xgb.sort_index().reset_index(drop=True)\n",
    "oof_xgb.to_csv(f'oof_xgb_v{VER}.csv',index=False)\n",
    "oof_xgb.head()"
   ]
  },
  {
   "cell_type": "code",
   "execution_count": 13,
   "id": "b519f579",
   "metadata": {
    "execution": {
     "iopub.execute_input": "2022-07-19T13:27:01.246079Z",
     "iopub.status.busy": "2022-07-19T13:27:01.245258Z",
     "iopub.status.idle": "2022-07-19T13:27:01.611593Z",
     "shell.execute_reply": "2022-07-19T13:27:01.610768Z"
    },
    "papermill": {
     "duration": 0.383121,
     "end_time": "2022-07-19T13:27:01.613508",
     "exception": false,
     "start_time": "2022-07-19T13:27:01.230387",
     "status": "completed"
    },
    "tags": []
   },
   "outputs": [
    {
     "data": {
      "image/png": "[encoded data removed]",
      "text/plain": [
       "<Figure size 432x288 with 1 Axes>"
      ]
     },
     "metadata": {
      "needs_background": "light"
     },
     "output_type": "display_data"
    }
   ],
   "source": [
    "# PLOT OOF PREDICTIONS\n",
    "plt.hist(oof_xgb.oof_pred.values, bins=100)\n",
    "plt.title('OOF Predictions')\n",
    "plt.show()"
   ]
  },
  {
   "cell_type": "code",
   "execution_count": 14,
   "id": "d7e044c4",
   "metadata": {
    "execution": {
     "iopub.execute_input": "2022-07-19T13:27:01.641890Z",
     "iopub.status.busy": "2022-07-19T13:27:01.641607Z",
     "iopub.status.idle": "2022-07-19T13:27:01.781242Z",
     "shell.execute_reply": "2022-07-19T13:27:01.780287Z"
    },
    "papermill": {
     "duration": 0.155847,
     "end_time": "2022-07-19T13:27:01.783250",
     "exception": false,
     "start_time": "2022-07-19T13:27:01.627403",
     "status": "completed"
    },
    "tags": []
   },
   "outputs": [],
   "source": [
    "# CLEAR VRAM, RAM FOR INFERENCE BELOW\n",
    "del oof_xgb, oof\n",
    "_ = gc.collect()"
   ]
  },
  {
   "cell_type": "markdown",
   "id": "e954dac7",
   "metadata": {
    "papermill": {
     "duration": 0.014117,
     "end_time": "2022-07-19T13:27:01.811317",
     "exception": false,
     "start_time": "2022-07-19T13:27:01.797200",
     "status": "completed"
    },
    "tags": []
   },
   "source": [
    "# Feature Importance"
   ]
  },
  {
   "cell_type": "code",
   "execution_count": 15,
   "id": "10388ea7",
   "metadata": {
    "execution": {
     "iopub.execute_input": "2022-07-19T13:27:01.839717Z",
     "iopub.status.busy": "2022-07-19T13:27:01.839417Z",
     "iopub.status.idle": "2022-07-19T13:27:01.873079Z",
     "shell.execute_reply": "2022-07-19T13:27:01.872357Z"
    },
    "papermill": {
     "duration": 0.049926,
     "end_time": "2022-07-19T13:27:01.874857",
     "exception": false,
     "start_time": "2022-07-19T13:27:01.824931",
     "status": "completed"
    },
    "tags": []
   },
   "outputs": [],
   "source": [
    "import matplotlib.pyplot as plt\n",
    "\n",
    "df = importances[0].copy()\n",
    "for k in range(1,FOLDS): df = df.merge(importances[k], on='feature', how='left')\n",
    "df['importance'] = df.iloc[:,1:].mean(axis=1)\n",
    "df = df.sort_values('importance',ascending=False)\n",
    "df.to_csv(f'xgb_feature_importance_v{VER}.csv',index=False)"
   ]
  },
  {
   "cell_type": "code",
   "execution_count": 16,
   "id": "656747d7",
   "metadata": {
    "execution": {
     "iopub.execute_input": "2022-07-19T13:27:01.904557Z",
     "iopub.status.busy": "2022-07-19T13:27:01.904261Z",
     "iopub.status.idle": "2022-07-19T13:27:02.167649Z",
     "shell.execute_reply": "2022-07-19T13:27:02.166930Z"
    },
    "papermill": {
     "duration": 0.280293,
     "end_time": "2022-07-19T13:27:02.169884",
     "exception": false,
     "start_time": "2022-07-19T13:27:01.889591",
     "status": "completed"
    },
    "tags": []
   },
   "outputs": [
    {
     "data": {
      "image/png": "[encoded data removed]",
      "text/plain": [
       "<Figure size 720x720 with 1 Axes>"
      ]
     },
     "metadata": {
      "needs_background": "light"
     },
     "output_type": "display_data"
    }
   ],
   "source": [
    "NUM_FEATURES = 20\n",
    "plt.figure(figsize=(10,5*NUM_FEATURES//10))\n",
    "plt.barh(np.arange(NUM_FEATURES,0,-1), df.importance.values[:NUM_FEATURES])\n",
    "plt.yticks(np.arange(NUM_FEATURES,0,-1), df.feature.values[:NUM_FEATURES])\n",
    "plt.title(f'XGB Feature Importance - Top {NUM_FEATURES}')\n",
    "plt.show()"
   ]
  },
  {
   "cell_type": "markdown",
   "id": "5b33835a",
   "metadata": {
    "papermill": {
     "duration": 0.014009,
     "end_time": "2022-07-19T13:27:02.198669",
     "exception": false,
     "start_time": "2022-07-19T13:27:02.184660",
     "status": "completed"
    },
    "tags": []
   },
   "source": [
    "# Process and Feature Engineer Test Data\n",
    "We will load @raddar Kaggle dataset from [here][1] with discussion [here][2]. Then we will engineer features suggested by @huseyincot in his notebooks [here][1] and [here][4]. We will use [RAPIDS][5] and the GPU to create new features quickly.\n",
    "\n",
    "[1]: https://www.kaggle.com/datasets/raddar/amex-data-integer-dtypes-parquet-format\n",
    "[2]: https://www.kaggle.com/competitions/amex-default-prediction/discussion/328514\n",
    "[3]: https://www.kaggle.com/code/huseyincot/amex-catboost-0-793\n",
    "[4]: https://www.kaggle.com/code/huseyincot/amex-agg-data-how-it-created\n",
    "[5]: https://rapids.ai/"
   ]
  },
  {
   "cell_type": "code",
   "execution_count": 17,
   "id": "3738ebf3",
   "metadata": {
    "execution": {
     "iopub.execute_input": "2022-07-19T13:27:02.228366Z",
     "iopub.status.busy": "2022-07-19T13:27:02.228055Z",
     "iopub.status.idle": "2022-07-19T13:27:05.449864Z",
     "shell.execute_reply": "2022-07-19T13:27:05.448954Z"
    },
    "papermill": {
     "duration": 3.238888,
     "end_time": "2022-07-19T13:27:05.451771",
     "exception": false,
     "start_time": "2022-07-19T13:27:02.212883",
     "status": "completed"
    },
    "tags": []
   },
   "outputs": [
    {
     "name": "stdout",
     "output_type": "stream",
     "text": [
      "Reading test data...\n",
      "shape of data: (11363762, 2)\n",
      "We will process test data as 4 separate parts.\n",
      "There will be 231155 customers in each part (except the last part).\n",
      "Below are number of rows in each part:\n",
      "[2841209, 2839857, 2842105, 2840591]\n"
     ]
    }
   ],
   "source": [
    "# CALCULATE SIZE OF EACH SEPARATE TEST PART\n",
    "def get_rows(customers, test, NUM_PARTS = 4, verbose = ''):\n",
    "    chunk = len(customers)//NUM_PARTS\n",
    "    if verbose != '':\n",
    "        print(f'We will process {verbose} data as {NUM_PARTS} separate parts.')\n",
    "        print(f'There will be {chunk} customers in each part (except the last part).')\n",
    "        print('Below are number of rows in each part:')\n",
    "    rows = []\n",
    "\n",
    "    for k in range(NUM_PARTS):\n",
    "        if k==NUM_PARTS-1: cc = customers[k*chunk:]\n",
    "        else: cc = customers[k*chunk:(k+1)*chunk]\n",
    "        s = test.loc[test.customer_ID.isin(cc)].shape[0]\n",
    "        rows.append(s)\n",
    "    if verbose != '': print( rows )\n",
    "    return rows,chunk\n",
    "\n",
    "# COMPUTE SIZE OF 4 PARTS FOR TEST DATA\n",
    "NUM_PARTS = 4\n",
    "TEST_PATH = '../input/amex-data-integer-dtypes-parquet-format/test.parquet'\n",
    "\n",
    "print(f'Reading test data...')\n",
    "test = read_file(path = TEST_PATH, usecols = ['customer_ID','S_2'])\n",
    "customers = test[['customer_ID']].drop_duplicates().sort_index().values.flatten()\n",
    "rows,num_cust = get_rows(customers, test[['customer_ID']], NUM_PARTS = NUM_PARTS, verbose = 'test')"
   ]
  },
  {
   "cell_type": "markdown",
   "id": "d7a9a638",
   "metadata": {
    "papermill": {
     "duration": 0.015311,
     "end_time": "2022-07-19T13:27:05.482575",
     "exception": false,
     "start_time": "2022-07-19T13:27:05.467264",
     "status": "completed"
    },
    "tags": []
   },
   "source": [
    "# Infer Test"
   ]
  },
  {
   "cell_type": "code",
   "execution_count": 18,
   "id": "b1d5cdcb",
   "metadata": {
    "execution": {
     "iopub.execute_input": "2022-07-19T13:27:05.513142Z",
     "iopub.status.busy": "2022-07-19T13:27:05.512489Z",
     "iopub.status.idle": "2022-07-19T13:29:34.303861Z",
     "shell.execute_reply": "2022-07-19T13:29:34.303000Z"
    },
    "papermill": {
     "duration": 148.80955,
     "end_time": "2022-07-19T13:29:34.306634",
     "exception": false,
     "start_time": "2022-07-19T13:27:05.497084",
     "status": "completed"
    },
    "tags": []
   },
   "outputs": [
    {
     "name": "stdout",
     "output_type": "stream",
     "text": [
      "\n",
      "Reading test data...\n",
      "shape of data: (11363762, 190)\n",
      "=> Test part 1 has shape (2841209, 190)\n",
      "shape after engineering (231155, 1283)\n",
      "\n",
      "Reading test data...\n",
      "shape of data: (11363762, 190)\n",
      "=> Test part 2 has shape (2839857, 190)\n",
      "shape after engineering (231155, 1283)\n",
      "\n",
      "Reading test data...\n",
      "shape of data: (11363762, 190)\n",
      "=> Test part 3 has shape (2842105, 190)\n",
      "shape after engineering (231155, 1283)\n",
      "\n",
      "Reading test data...\n",
      "shape of data: (11363762, 190)\n",
      "=> Test part 4 has shape (2840591, 190)\n",
      "shape after engineering (231156, 1283)\n"
     ]
    }
   ],
   "source": [
    "# INFER TEST DATA IN PARTS\n",
    "skip_rows = 0\n",
    "skip_cust = 0\n",
    "test_preds = []\n",
    "\n",
    "for k in range(NUM_PARTS):\n",
    "    \n",
    "    # READ PART OF TEST DATA\n",
    "    print(f'\\nReading test data...')\n",
    "    test = read_file(path = TEST_PATH)\n",
    "    test = test.iloc[skip_rows:skip_rows+rows[k]]\n",
    "    skip_rows += rows[k]\n",
    "    print(f'=> Test part {k+1} has shape', test.shape )\n",
    "    \n",
    "    # PROCESS AND FEATURE ENGINEER PART OF TEST DATA\n",
    "    test = process_and_feature_engineer(test)\n",
    "    if k==NUM_PARTS-1: test = test.loc[customers[skip_cust:]]\n",
    "    else: test = test.loc[customers[skip_cust:skip_cust+num_cust]]\n",
    "    skip_cust += num_cust\n",
    "    \n",
    "    # TEST DATA FOR XGB\n",
    "    X_test = test[FEATURES]\n",
    "    dtest = xgb.DMatrix(data=X_test)\n",
    "    test = test[['P_2_mean']] # reduce memory\n",
    "    del X_test\n",
    "    gc.collect()\n",
    "\n",
    "    # INFER XGB MODELS ON TEST DATA\n",
    "    model = xgb.Booster()\n",
    "    model.load_model(f'XGB_v{VER}_fold0.xgb')\n",
    "    preds = model.predict(dtest)\n",
    "    for f in range(1,FOLDS):\n",
    "        model.load_model(f'XGB_v{VER}_fold{f}.xgb')\n",
    "        preds += model.predict(dtest)\n",
    "    preds /= FOLDS\n",
    "    test_preds.append(preds)\n",
    "\n",
    "    # CLEAN MEMORY\n",
    "    del dtest, model\n",
    "    _ = gc.collect()"
   ]
  },
  {
   "cell_type": "markdown",
   "id": "d1f53473",
   "metadata": {
    "papermill": {
     "duration": 0.029095,
     "end_time": "2022-07-19T13:29:34.366738",
     "exception": false,
     "start_time": "2022-07-19T13:29:34.337643",
     "status": "completed"
    },
    "tags": []
   },
   "source": [
    "# Create Submission CSV"
   ]
  },
  {
   "cell_type": "code",
   "execution_count": 19,
   "id": "4be6b1ae",
   "metadata": {
    "execution": {
     "iopub.execute_input": "2022-07-19T13:29:34.424363Z",
     "iopub.status.busy": "2022-07-19T13:29:34.423831Z",
     "iopub.status.idle": "2022-07-19T13:29:35.611756Z",
     "shell.execute_reply": "2022-07-19T13:29:35.610684Z"
    },
    "papermill": {
     "duration": 1.219,
     "end_time": "2022-07-19T13:29:35.614142",
     "exception": false,
     "start_time": "2022-07-19T13:29:34.395142",
     "status": "completed"
    },
    "tags": []
   },
   "outputs": [
    {
     "name": "stdout",
     "output_type": "stream",
     "text": [
      "Submission file shape is (924621, 2)\n"
     ]
    },
    {
     "data": {
      "text/html": [
       "<div>\n",
       "<style scoped>\n",
       "    .dataframe tbody tr th:only-of-type {\n",
       "        vertical-align: middle;\n",
       "    }\n",
       "\n",
       "    .dataframe tbody tr th {\n",
       "        vertical-align: top;\n",
       "    }\n",
       "\n",
       "    .dataframe thead th {\n",
       "        text-align: right;\n",
       "    }\n",
       "</style>\n",
       "<table border=\"1\" class=\"dataframe\">\n",
       "  <thead>\n",
       "    <tr style=\"text-align: right;\">\n",
       "      <th></th>\n",
       "      <th>customer_ID</th>\n",
       "      <th>prediction</th>\n",
       "    </tr>\n",
       "  </thead>\n",
       "  <tbody>\n",
       "    <tr>\n",
       "      <th>0</th>\n",
       "      <td>0f7f94e1247f12d2a38fb2b014d6be7175f51b3b4efe9b...</td>\n",
       "      <td>0.034103</td>\n",
       "    </tr>\n",
       "    <tr>\n",
       "      <th>1</th>\n",
       "      <td>0f8086f7297593825bba8c654ea9d35f661089ce25ed79...</td>\n",
       "      <td>0.147554</td>\n",
       "    </tr>\n",
       "    <tr>\n",
       "      <th>2</th>\n",
       "      <td>0f7fe57b8ce23fdd299b99cbcf7fac47e0cdf6459bb616...</td>\n",
       "      <td>0.077615</td>\n",
       "    </tr>\n",
       "    <tr>\n",
       "      <th>3</th>\n",
       "      <td>0f81168c4911b484975ff222f75321396c546b700fa329...</td>\n",
       "      <td>0.044115</td>\n",
       "    </tr>\n",
       "    <tr>\n",
       "      <th>4</th>\n",
       "      <td>0f7f94e3f0e63573b61dccc9fb3c4091ccc8d283d7b58a...</td>\n",
       "      <td>0.009947</td>\n",
       "    </tr>\n",
       "  </tbody>\n",
       "</table>\n",
       "</div>"
      ],
      "text/plain": [
       "                                         customer_ID  prediction\n",
       "0  0f7f94e1247f12d2a38fb2b014d6be7175f51b3b4efe9b...    0.034103\n",
       "1  0f8086f7297593825bba8c654ea9d35f661089ce25ed79...    0.147554\n",
       "2  0f7fe57b8ce23fdd299b99cbcf7fac47e0cdf6459bb616...    0.077615\n",
       "3  0f81168c4911b484975ff222f75321396c546b700fa329...    0.044115\n",
       "4  0f7f94e3f0e63573b61dccc9fb3c4091ccc8d283d7b58a...    0.009947"
      ]
     },
     "execution_count": 19,
     "metadata": {},
     "output_type": "execute_result"
    }
   ],
   "source": [
    "# WRITE SUBMISSION FILE\n",
    "test_preds = np.concatenate(test_preds)\n",
    "test = cudf.DataFrame(index=customers,data={'prediction':test_preds})\n",
    "sub = cudf.read_csv('../input/amex-default-prediction/sample_submission.csv')[['customer_ID']]\n",
    "sub['customer_ID_hash'] = sub['customer_ID'].str[-16:].str.hex_to_int().astype('int64')\n",
    "sub = sub.set_index('customer_ID_hash')\n",
    "sub = sub.merge(test[['prediction']], left_index=True, right_index=True, how='left')\n",
    "sub = sub.reset_index(drop=True)\n",
    "\n",
    "# DISPLAY PREDICTIONS\n",
    "sub.to_csv(f'submission_xgb_v{VER}.csv',index=False)\n",
    "print('Submission file shape is', sub.shape )\n",
    "sub.head()"
   ]
  },
  {
   "cell_type": "code",
   "execution_count": 20,
   "id": "f711cac9",
   "metadata": {
    "execution": {
     "iopub.execute_input": "2022-07-19T13:29:35.650013Z",
     "iopub.status.busy": "2022-07-19T13:29:35.649655Z",
     "iopub.status.idle": "2022-07-19T13:29:36.378412Z",
     "shell.execute_reply": "2022-07-19T13:29:36.377639Z"
    },
    "papermill": {
     "duration": 0.747524,
     "end_time": "2022-07-19T13:29:36.380339",
     "exception": false,
     "start_time": "2022-07-19T13:29:35.632815",
     "status": "completed"
    },
    "tags": []
   },
   "outputs": [
    {
     "data": {
      "image/png": "[encoded data removed]",
      "text/plain": [
       "<Figure size 432x288 with 1 Axes>"
      ]
     },
     "metadata": {
      "needs_background": "light"
     },
     "output_type": "display_data"
    }
   ],
   "source": [
    "# PLOT PREDICTIONS\n",
    "plt.hist(sub.to_pandas().prediction, bins=100)\n",
    "plt.title('Test Predictions')\n",
    "plt.show()"
   ]
  }
 ],
 "metadata": {
  "kernelspec": {
   "display_name": "Python 3",
   "language": "python",
   "name": "python3"
  },
  "language_info": {
   "codemirror_mode": {
    "name": "ipython",
    "version": 3
   },
   "file_extension": ".py",
   "mimetype": "text/x-python",
   "name": "python",
   "nbconvert_exporter": "python",
   "pygments_lexer": "ipython3",
   "version": "3.7.12"
  },
  "papermill": {
   "default_parameters": {},
   "duration": 1136.838162,
   "end_time": "2022-07-19T13:29:38.984394",
   "environment_variables": {},
   "exception": null,
   "input_path": "__notebook__.ipynb",
   "output_path": "__notebook__.ipynb",
   "parameters": {},
   "start_time": "2022-07-19T13:10:42.146232",
   "version": "2.3.4"
  }
 },
 "nbformat": 4,
 "nbformat_minor": 5
}
